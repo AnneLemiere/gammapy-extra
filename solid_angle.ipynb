{
 "metadata": {
  "name": "",
  "signature": "sha256:6845b12bd762b97d029250b7ff6e65279f8c8f6f26c358d43f1fce9786b85f72"
 },
 "nbformat": 3,
 "nbformat_minor": 0,
 "worksheets": [
  {
   "cells": [
    {
     "cell_type": "code",
     "collapsed": false,
     "input": [
      "import numpy as np"
     ],
     "language": "python",
     "metadata": {},
     "outputs": [],
     "prompt_number": 2
    },
    {
     "cell_type": "code",
     "collapsed": false,
     "input": [
      "def _pixel_solid_angle_1(corners):\n",
      "    \"\"\"Compute pixel solid angle using 3D cartesian vectors.\n",
      "    \n",
      "    And Girard's theorem:\n",
      "    http://mathworld.wolfram.com/GirardsSphericalExcessFormula.html\n",
      "    \n",
      "    Reference: http://mail.scipy.org/pipermail/astropy/2013-December/002940.html\n",
      "    \"\"\"\n",
      "    from astropy.coordinates import spherical_to_cartesian\n",
      "    \n",
      "    vec = []\n",
      "    for corner in corners:\n",
      "        x, y, z = spherical_to_cartesian(1, corner['lon'], corner['lat'])\n",
      "        vec.append(np.vstack((x.T, y.T, z.T)).T)\n",
      "\n",
      "    angles = []\n",
      "    N = 4\n",
      "    for i in range(N):\n",
      "        A = vec[(i + 1) % N]\n",
      "        B = vec[(i + 2) % N]\n",
      "        C = vec[(i + 3) % N]\n",
      "        vec_a = np.cross(A, (np.cross(A, B)))\n",
      "        vec_b = np.cross(B, (np.cross(C, B)))\n",
      "        angle = np.arccos(np.sum(vec_a * vec_b, axis=1))\n",
      "        #print(vec_a.shape, vec_b.shape, angle.shape)\n",
      "        angles.append(angle)\n",
      "\n",
      "    # Use Girard equation for excess area to determine solid angle\n",
      "    #print(angles)\n",
      "    solid_angle = np.sum(angles, axis=0) - 2 * np.pi\n",
      "    #print(solid_angle)\n",
      "\n",
      "    return solid_angle"
     ],
     "language": "python",
     "metadata": {},
     "outputs": [],
     "prompt_number": 80
    },
    {
     "cell_type": "code",
     "collapsed": false,
     "input": [
      "corners = []\n",
      "corners.append(dict(lon=[0.0, 0.1], lat=[0.0, 0.0]))\n",
      "corners.append(dict(lon=[0.1, 0.2], lat=[0.0, 0.0]))\n",
      "corners.append(dict(lon=[0.1, 0.2], lat=[0.1, 0.1]))\n",
      "corners.append(dict(lon=[0.0, 0.1], lat=[0.1, 0.1]))\n",
      "\n",
      "pixel_solid_angle(corners, method='1')"
     ],
     "language": "python",
     "metadata": {},
     "outputs": [
      {
       "metadata": {},
       "output_type": "pyout",
       "prompt_number": 81,
       "text": [
        "array([  9.85940237e-05,   9.46777047e-05])"
       ]
      }
     ],
     "prompt_number": 81
    },
    {
     "cell_type": "code",
     "collapsed": false,
     "input": [
      "def pixel_solid_angle(corners, method='1'):\n",
      "    \"\"\"Pixel solid angle on the sphere.\n",
      "\n",
      "    Parameters\n",
      "    ----------\n",
      "    corners : list\n",
      "            List of dict with `lon` and `lat` keys and array-like values.\n",
      "    method : {'1', '2'}\n",
      "        Method to compute the solid angle\n",
      "\n",
      "    Returns\n",
      "    -------\n",
      "    solid_angle : `numpy.array`\n",
      "        Per-pixel solid angle image in steradians\n",
      "        \n",
      "    See also\n",
      "    --------\n",
      "    image.utils.solid_angle\n",
      "    \"\"\"\n",
      "    c = []\n",
      "    for corner in corners:\n",
      "        d = dict()\n",
      "        d['lon'] = np.asarray(corner['lon'], dtype=np.float64)\n",
      "        d['lat'] = np.asarray(corner['lat'], dtype=np.float64)\n",
      "        c.append(d)\n",
      "    \n",
      "    if method == '1':\n",
      "        return _pixel_solid_angle_1(c)\n",
      "    elif method == '2':\n",
      "        return _pixel_solid_angle_2(c)\n",
      "    else:\n",
      "        raise ValueError('Unknown method: {0}'.format(method))\n"
     ],
     "language": "python",
     "metadata": {},
     "outputs": [],
     "prompt_number": 5
    },
    {
     "cell_type": "code",
     "collapsed": false,
     "input": [
      "\n",
      "a, b = (np.array([[ 0.99500417,  0.98006658],\n",
      "       [ 0.        ,  0.        ],\n",
      "       [ 0.09983342,  0.19866933]]), np.array([[ 0.99003329,  0.97517033],\n",
      "       [ 0.09933467,  0.0978434 ],\n",
      "       [ 0.09983342,  0.19866933]]))"
     ],
     "language": "python",
     "metadata": {},
     "outputs": [],
     "prompt_number": 28
    },
    {
     "cell_type": "code",
     "collapsed": false,
     "input": [
      "print(a.shape, b.shape)\n",
      "print(np.cross(a.T, b.T).shape)"
     ],
     "language": "python",
     "metadata": {},
     "outputs": [
      {
       "output_type": "stream",
       "stream": "stdout",
       "text": [
        "((3, 2), (3, 2))\n",
        "(2, 3)\n"
       ]
      }
     ],
     "prompt_number": 44
    },
    {
     "cell_type": "code",
     "collapsed": false,
     "input": [],
     "language": "python",
     "metadata": {},
     "outputs": []
    }
   ],
   "metadata": {}
  }
 ]
}