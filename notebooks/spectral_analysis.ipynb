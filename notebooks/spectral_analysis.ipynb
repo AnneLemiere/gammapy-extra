{
 "cells": [
  {
   "cell_type": "markdown",
   "metadata": {},
   "source": [
    "# Example notebook showing how to interactively use the Spectrum Analysis class"
   ]
  },
  {
   "cell_type": "markdown",
   "metadata": {},
   "source": [
    "## Define ON region"
   ]
  },
  {
   "cell_type": "code",
   "execution_count": 91,
   "metadata": {
    "collapsed": false
   },
   "outputs": [
    {
     "name": "stdout",
     "output_type": "stream",
     "text": [
      "icrs; circle(183.032932761,-8.12136056874,0.3)\n",
      "\n"
     ]
    }
   ],
   "source": [
    "from gammapy.region import SkyCircleRegion\n",
    "from astropy.coordinates import SkyCoord, Angle\n",
    "\n",
    "center = SkyCoord(80.63, 22.01, unit='deg', frame='icrs')\n",
    "radius = Angle('0.3 deg')\n",
    "on_region = SkyCircleRegion(pos = center, radius = radius)\n",
    "print(on_region.to_ds9())\n"
   ]
  },
  {
   "cell_type": "markdown",
   "metadata": {},
   "source": [
    "## Define background method"
   ]
  },
  {
   "cell_type": "code",
   "execution_count": 8,
   "metadata": {
    "collapsed": false
   },
   "outputs": [],
   "source": [
    "bkg_method = dict(type='reflected')"
   ]
  },
  {
   "cell_type": "markdown",
   "metadata": {},
   "source": [
    "## Define Energy binning"
   ]
  },
  {
   "cell_type": "code",
   "execution_count": 10,
   "metadata": {
    "collapsed": false
   },
   "outputs": [],
   "source": [
    "from gammapy.spectrum import EnergyBounds\n",
    "\n",
    "bounds = EnergyBounds.equal_log_spacing(1,10,40, unit='TeV')"
   ]
  },
  {
   "cell_type": "markdown",
   "metadata": {},
   "source": [
    "## Make exclusion mask"
   ]
  },
  {
   "cell_type": "code",
   "execution_count": 95,
   "metadata": {
    "collapsed": false
   },
   "outputs": [
    {
     "data": {
      "image/png": "[encoded data removed]",
      "text/plain": [
       "<matplotlib.figure.Figure at 0x7ff6e9843650>"
      ]
     },
     "metadata": {},
     "output_type": "display_data"
    }
   ],
   "source": [
    "%matplotlib inline\n",
    "from gammapy.image import ExclusionMask, make_empty_image\n",
    "from astropy.wcs import WCS\n",
    "import matplotlib.pyplot as plt\n",
    "\n",
    "hdu = make_empty_image(nxpix = 901, nypix =901, binsz=0.01, coordsys='CEL',\n",
    "                       xref=on_region.pos.ra.value, yref=on_region.pos.dec.value )\n",
    "wcs = WCS(hdu.header)\n",
    "mask = ExclusionMask.create_random(hdu, n=10, min_rad=50)\n",
    "\n",
    "fig = plt.figure()\n",
    "ax = fig.add_subplot(1, 1, 1, projection=wcs)\n",
    "mask.plot(ax)\n",
    "plt.show()"
   ]
  },
  {
   "cell_type": "markdown",
   "metadata": {},
   "source": [
    "## Define Data"
   ]
  },
  {
   "cell_type": "code",
   "execution_count": 50,
   "metadata": {
    "collapsed": false
   },
   "outputs": [],
   "source": [
    "obs = [23523, 23559]\n",
    "nobs = 2\n",
    "store = 'crab_example'"
   ]
  },
  {
   "cell_type": "markdown",
   "metadata": {
    "collapsed": true
   },
   "source": [
    "## Make Spectrum Analysis instance"
   ]
  },
  {
   "cell_type": "code",
   "execution_count": 97,
   "metadata": {
    "collapsed": false
   },
   "outputs": [],
   "source": [
    "from gammapy.spectrum.spectrum_analysis import SpectrumAnalysis\n",
    "\n",
    "ana = SpectrumAnalysis(datastore = store, obs = obs, on_region = on_region,\n",
    "                       bkg_method = bkg_method, exclusion = mask, \n",
    "                       nobs = nobs, ebounds = bounds)"
   ]
  },
  {
   "cell_type": "code",
   "execution_count": 1,
   "metadata": {
    "collapsed": false
   },
   "outputs": [
    {
     "name": "stdout",
     "output_type": "stream",
     "text": [
      "Object `ana` not found.\n"
     ]
    }
   ],
   "source": [
    "ana?"
   ]
  },
  {
   "cell_type": "code",
   "execution_count": 99,
   "metadata": {
    "collapsed": false
   },
   "outputs": [
    {
     "data": {
      "image/png": "[encoded data removed]",
      "text/plain": [
       "<matplotlib.figure.Figure at 0x7ff6e987b310>"
      ]
     },
     "metadata": {},
     "output_type": "display_data"
    }
   ],
   "source": [
    "regs = ana.observations[0].make_reflected_regions()\n",
    "\n",
    "fig = plt.figure()\n",
    "ax = fig.add_subplot(1, 1, 1, projection=wcs)\n",
    "mask.plot(ax)\n",
    "for reg in regs:\n",
    "    p = reg.plot(ax, facecolor='blue')\n",
    "    ax.add_patch(p)\n",
    "pp = on_region.plot(ax, facecolor='red')\n",
    "ax.add_patch(pp)\n",
    "plt.show()"
   ]
  },
  {
   "cell_type": "code",
   "execution_count": null,
   "metadata": {
    "collapsed": true
   },
   "outputs": [],
   "source": []
  }
 ],
 "metadata": {
  "kernelspec": {
   "display_name": "Python 2",
   "language": "python",
   "name": "python2"
  },
  "language_info": {
   "codemirror_mode": {
    "name": "ipython",
    "version": 2
   },
   "file_extension": ".py",
   "mimetype": "text/x-python",
   "name": "python",
   "nbconvert_exporter": "python",
   "pygments_lexer": "ipython2",
   "version": "2.7.8"
  }
 },
 "nbformat": 4,
 "nbformat_minor": 0
}
