{
 "cells": [
  {
   "cell_type": "markdown",
   "metadata": {},
   "source": [
    "# Fitting gammapy spectra with sherpa\n",
    "\n",
    "Once we have exported the spectral files (PHA, ARF, RMF and BKG) in the OGIP format, it becomes possible to fit them later with gammapy or with any existing OGIP compliant tool such as XSpec or sherpa.\n",
    "\n",
    "We show here how to do so with sherpa using the high-level user interface. For a general view on how to use stand-alone sherpa, see this [tutorial](http://nbviewer.jupyter.org/github/sherpa/sherpa/blob/master/docs/SherpaQuickStart.ipynb)\n",
    "\n",
    "Tu run this notebook, one should first run spectrum_analysis to extract the relevant OGIP files."
   ]
  },
  {
   "cell_type": "markdown",
   "metadata": {},
   "source": [
    "## Importing sherpa high level UI\n",
    "\n",
    "### loading the data as a sherpa DataStack\n",
    "\n",
    "We first need to import the user interface and load the data with [load_data](http://cxc.harvard.edu/sherpa/ahelp/load_data.html). One can load files one by one, or more simply load them all at once through a [DataStack](http://cxc.harvard.edu/sherpa/ahelp/datastack.html)."
   ]
  },
  {
   "cell_type": "code",
   "execution_count": 13,
   "metadata": {
    "collapsed": false
   },
   "outputs": [],
   "source": [
    "%matplotlib inline\n",
    "import matplotlib.pyplot as plt\n",
    "plt.style.use('ggplot')\n",
    "\n",
    "import glob   # to list files\n",
    "from sherpa.astro.datastack import DataStack\n",
    "import sherpa.astro.datastack as sh"
   ]
  },
  {
   "cell_type": "code",
   "execution_count": 6,
   "metadata": {
    "collapsed": false
   },
   "outputs": [
    {
     "name": "stdout",
     "output_type": "stream",
     "text": [
      "read ARF file crab_analysis/ogip_data/arf_obs23523.fits\n"
     ]
    },
    {
     "name": "stderr",
     "output_type": "stream",
     "text": [
      "INFO:sherpa.astro.io:read ARF file crab_analysis/ogip_data/arf_obs23523.fits\n"
     ]
    },
    {
     "name": "stdout",
     "output_type": "stream",
     "text": [
      "read RMF file crab_analysis/ogip_data/rmf_obs23523.fits\n"
     ]
    },
    {
     "name": "stderr",
     "output_type": "stream",
     "text": [
      "INFO:sherpa.astro.io:read RMF file crab_analysis/ogip_data/rmf_obs23523.fits\n"
     ]
    },
    {
     "name": "stdout",
     "output_type": "stream",
     "text": [
      "read background file crab_analysis/ogip_data/bkg_obs23523.fits\n"
     ]
    },
    {
     "name": "stderr",
     "output_type": "stream",
     "text": [
      "INFO:sherpa.astro.io:read background file crab_analysis/ogip_data/bkg_obs23523.fits\n"
     ]
    },
    {
     "name": "stdout",
     "output_type": "stream",
     "text": [
      "read ARF file crab_analysis/ogip_data/arf_obs23526.fits\n"
     ]
    },
    {
     "name": "stderr",
     "output_type": "stream",
     "text": [
      "INFO:sherpa.astro.io:read ARF file crab_analysis/ogip_data/arf_obs23526.fits\n"
     ]
    },
    {
     "name": "stdout",
     "output_type": "stream",
     "text": [
      "read RMF file crab_analysis/ogip_data/rmf_obs23526.fits\n"
     ]
    },
    {
     "name": "stderr",
     "output_type": "stream",
     "text": [
      "INFO:sherpa.astro.io:read RMF file crab_analysis/ogip_data/rmf_obs23526.fits\n"
     ]
    },
    {
     "name": "stdout",
     "output_type": "stream",
     "text": [
      "read background file crab_analysis/ogip_data/bkg_obs23526.fits\n"
     ]
    },
    {
     "name": "stderr",
     "output_type": "stream",
     "text": [
      "INFO:sherpa.astro.io:read background file crab_analysis/ogip_data/bkg_obs23526.fits\n"
     ]
    },
    {
     "name": "stdout",
     "output_type": "stream",
     "text": [
      "read ARF file crab_analysis/ogip_data/arf_obs23559.fits\n"
     ]
    },
    {
     "name": "stderr",
     "output_type": "stream",
     "text": [
      "INFO:sherpa.astro.io:read ARF file crab_analysis/ogip_data/arf_obs23559.fits\n"
     ]
    },
    {
     "name": "stdout",
     "output_type": "stream",
     "text": [
      "read RMF file crab_analysis/ogip_data/rmf_obs23559.fits\n"
     ]
    },
    {
     "name": "stderr",
     "output_type": "stream",
     "text": [
      "INFO:sherpa.astro.io:read RMF file crab_analysis/ogip_data/rmf_obs23559.fits\n"
     ]
    },
    {
     "name": "stdout",
     "output_type": "stream",
     "text": [
      "read background file crab_analysis/ogip_data/bkg_obs23559.fits\n"
     ]
    },
    {
     "name": "stderr",
     "output_type": "stream",
     "text": [
      "INFO:sherpa.astro.io:read background file crab_analysis/ogip_data/bkg_obs23559.fits\n"
     ]
    },
    {
     "name": "stdout",
     "output_type": "stream",
     "text": [
      "read ARF file crab_analysis/ogip_data/arf_obs23592.fits\n"
     ]
    },
    {
     "name": "stderr",
     "output_type": "stream",
     "text": [
      "INFO:sherpa.astro.io:read ARF file crab_analysis/ogip_data/arf_obs23592.fits\n"
     ]
    },
    {
     "name": "stdout",
     "output_type": "stream",
     "text": [
      "read RMF file crab_analysis/ogip_data/rmf_obs23592.fits\n"
     ]
    },
    {
     "name": "stderr",
     "output_type": "stream",
     "text": [
      "INFO:sherpa.astro.io:read RMF file crab_analysis/ogip_data/rmf_obs23592.fits\n"
     ]
    },
    {
     "name": "stdout",
     "output_type": "stream",
     "text": [
      "read background file crab_analysis/ogip_data/bkg_obs23592.fits\n"
     ]
    },
    {
     "name": "stderr",
     "output_type": "stream",
     "text": [
      "INFO:sherpa.astro.io:read background file crab_analysis/ogip_data/bkg_obs23592.fits\n"
     ]
    }
   ],
   "source": [
    "ANALYSIS_DIR = 'crab_analysis'\n",
    "\n",
    "ds = DataStack()\n",
    "pha_list = glob.glob(ANALYSIS_DIR + '/ogip_data/pha_obs?????.fits')\n",
    "for pha in pha_list:\n",
    "    sh.load_data(ds,pha)"
   ]
  },
  {
   "cell_type": "markdown",
   "metadata": {},
   "source": [
    "## Creating the source model\n",
    "\n",
    "We can now use sherpa models. We need to remember that they were designed for X-ray astronomy and energy is written in keV. \n",
    "\n",
    "Here we start with a simple PL."
   ]
  },
  {
   "cell_type": "code",
   "execution_count": 8,
   "metadata": {
    "collapsed": false
   },
   "outputs": [
    {
     "name": "stdout",
     "output_type": "stream",
     "text": [
      "powlaw1d.p1\n",
      "   Param        Type          Value          Min          Max      Units\n",
      "   -----        ----          -----          ---          ---      -----\n",
      "   p1.gamma     thawed            2          -10           10           \n",
      "   p1.ref       frozen        1e+09 -3.40282e+38  3.40282e+38           \n",
      "   p1.ampl      thawed        1e-20            0  3.40282e+38           \n"
     ]
    }
   ],
   "source": [
    "# Define the source model\n",
    "sh.set_source(\"powlaw1d.p1\")\n",
    "\n",
    "# Change reference energy of the model \n",
    "p1.ref = 1e9   # 1 TeV = 1e9 keV\n",
    "p1.gamma = 2.0\n",
    "p1.ampl = 1e-20  # in cm**-2 s**-1 keV**-1\n",
    "# View parameters \n",
    "print(p1)"
   ]
  },
  {
   "cell_type": "markdown",
   "metadata": {},
   "source": [
    "## Perform the fit and compute errors\n",
    "\n",
    "We need to set the correct statistic: [WSTAT](http://cxc.harvard.edu/sherpa/ahelp/wstat.html). We use functions [set_stat](http://cxc.harvard.edu/sherpa/ahelp/set_stat.html) to define the fit statistic, [notice](http://cxc.harvard.edu/sherpa/ahelp/notice.html) to set the energy range, and [fit](http://cxc.harvard.edu/sherpa/ahelp/fit.html)"
   ]
  },
  {
   "cell_type": "code",
   "execution_count": 10,
   "metadata": {
    "collapsed": false
   },
   "outputs": [
    {
     "name": "stdout",
     "output_type": "stream",
     "text": [
      "Dataset               = 1\n",
      "Method                = levmar\n",
      "Statistic             = wstat\n",
      "Initial fit statistic = 61.2483\n",
      "Final fit statistic   = 29.7562 at function evaluation 195\n",
      "Data points           = 28\n",
      "Degrees of freedom    = 26\n",
      "Probability [Q-value] = 0.277834\n",
      "Reduced statistic     = 1.14447\n",
      "Change in statistic   = 31.4921\n",
      "   p1.gamma       2.16927     \n",
      "   p1.ampl        1.81488e-20 \n",
      "WARNING: parameter value p1.ampl is at its minimum boundary 0.0\n"
     ]
    },
    {
     "name": "stderr",
     "output_type": "stream",
     "text": [
      "INFO:sherpa.astro.ui.utils:Dataset               = 1\n",
      "Method                = levmar\n",
      "Statistic             = wstat\n",
      "Initial fit statistic = 61.2483\n",
      "Final fit statistic   = 29.7562 at function evaluation 195\n",
      "Data points           = 28\n",
      "Degrees of freedom    = 26\n",
      "Probability [Q-value] = 0.277834\n",
      "Reduced statistic     = 1.14447\n",
      "Change in statistic   = 31.4921\n",
      "   p1.gamma       2.16927     \n",
      "   p1.ampl        1.81488e-20 \n",
      "WARNING: parameter value p1.ampl is at its minimum boundary 0.0\n"
     ]
    }
   ],
   "source": [
    "### Define the statistic\n",
    "sh.set_stat(\"wstat\")\n",
    "\n",
    "### Define the fit range\n",
    "sh.notice(0.6e9,20e9)\n",
    "\n",
    "### Do the fit\n",
    "sh.fit()"
   ]
  },
  {
   "cell_type": "markdown",
   "metadata": {},
   "source": [
    "## Plot the result\n",
    "\n",
    "Note that sherpa does not provide flux points. It also only provides plot for each individual spectrum."
   ]
  },
  {
   "cell_type": "code",
   "execution_count": 16,
   "metadata": {
    "collapsed": false
   },
   "outputs": [
    {
     "name": "stdout",
     "output_type": "stream",
     "text": [
      "WARNING: The displayed errorbars have been supplied with the data or calculated using chi2xspecvar; the errors are not used in fits with wstat\n"
     ]
    },
    {
     "name": "stderr",
     "output_type": "stream",
     "text": [
      "WARNING:sherpa.plot:The displayed errorbars have been supplied with the data or calculated using chi2xspecvar; the errors are not used in fits with wstat\n"
     ]
    },
    {
     "data": {
      "image/png": "[encoded data removed]",
      "text/plain": [
       "<matplotlib.figure.Figure at 0x1121bcb90>"
      ]
     },
     "metadata": {},
     "output_type": "display_data"
    }
   ],
   "source": [
    "sh.plot_fit()\n",
    "plt.gca().set_xscale(\"log\")\n",
    "plt.gca().set_yscale(\"log\")"
   ]
  },
  {
   "cell_type": "markdown",
   "metadata": {},
   "source": [
    "## Errors and confidence contours\n",
    "\n",
    "We use [conf](http://cxc.harvard.edu/sherpa/ahelp/conf.html) and [reg_proj](http://cxc.harvard.edu/sherpa/ahelp/reg_proj.html) functions."
   ]
  },
  {
   "cell_type": "code",
   "execution_count": 18,
   "metadata": {
    "collapsed": false
   },
   "outputs": [
    {
     "name": "stdout",
     "output_type": "stream",
     "text": [
      "Dataset               = 1\n",
      "Confidence Method     = confidence\n",
      "Iterative Fit Method  = None\n",
      "Fitting Method        = levmar\n",
      "Statistic             = wstat\n",
      "confidence 1-sigma (68.2689%) bounds:\n",
      "   Param            Best-Fit  Lower Bound  Upper Bound\n",
      "   -----            --------  -----------  -----------\n",
      "   p1.gamma          2.16927   -0.0982762     0.100776\n",
      "   p1.ampl       1.81488e-20 -1.75401e-21  1.86717e-21\n",
      "p1.ampl lower bound:\t-1.75401e-21\n",
      "p1.gamma lower bound:\t-0.0982762\n",
      "p1.ampl upper bound:\t1.86717e-21\n",
      "p1.gamma upper bound:\t0.100776\n"
     ]
    },
    {
     "name": "stderr",
     "output_type": "stream",
     "text": [
      "INFO:sherpa.ui.utils:Dataset               = 1\n",
      "Confidence Method     = confidence\n",
      "Iterative Fit Method  = None\n",
      "Fitting Method        = levmar\n",
      "Statistic             = wstat\n",
      "confidence 1-sigma (68.2689%) bounds:\n",
      "   Param            Best-Fit  Lower Bound  Upper Bound\n",
      "   -----            --------  -----------  -----------\n",
      "   p1.gamma          2.16927   -0.0982762     0.100776\n",
      "   p1.ampl       1.81488e-20 -1.75401e-21  1.86717e-21\n",
      "INFO:sherpa:p1.ampl lower bound:\t-1.75401e-21\n",
      "INFO:sherpa:p1.gamma lower bound:\t-0.0982762\n",
      "INFO:sherpa:p1.ampl upper bound:\t1.86717e-21\n",
      "INFO:sherpa:p1.gamma upper bound:\t0.100776\n"
     ]
    }
   ],
   "source": [
    "### Compute confidnce intervals\n",
    "sh.conf()"
   ]
  },
  {
   "cell_type": "code",
   "execution_count": 19,
   "metadata": {
    "collapsed": false
   },
   "outputs": [
    {
     "data": {
      "image/png": "[encoded data removed]",
      "text/plain": [
       "<matplotlib.figure.Figure at 0x10e92a4d0>"
      ]
     },
     "metadata": {},
     "output_type": "display_data"
    }
   ],
   "source": [
    "### Compute confidence contours for amplitude and index\n",
    "sh.reg_unc(p1.gamma,p1.ampl)"
   ]
  },
  {
   "cell_type": "code",
   "execution_count": null,
   "metadata": {
    "collapsed": true
   },
   "outputs": [],
   "source": []
  }
 ],
 "metadata": {
  "kernelspec": {
   "display_name": "Python 2",
   "language": "python",
   "name": "python2"
  },
  "language_info": {
   "codemirror_mode": {
    "name": "ipython",
    "version": 2
   },
   "file_extension": ".py",
   "mimetype": "text/x-python",
   "name": "python",
   "nbconvert_exporter": "python",
   "pygments_lexer": "ipython2",
   "version": "2.7.11"
  }
 },
 "nbformat": 4,
 "nbformat_minor": 0
}
