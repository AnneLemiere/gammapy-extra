{
 "cells": [
  {
   "cell_type": "code",
   "execution_count": null,
   "metadata": {
    "collapsed": true
   },
   "outputs": [],
   "source": [
    "%matplotlib inline\n",
    "import numpy as np\n",
    "import matplotlib.pyplot as plt\n",
    "plt.style.use('ggplot')"
   ]
  },
  {
   "cell_type": "code",
   "execution_count": null,
   "metadata": {
    "collapsed": true
   },
   "outputs": [],
   "source": [
    "import astropy.units as u\n",
    "from astropy.coordinates import SkyCoord, Angle\n",
    "from gammapy.data import DataStore\n",
    "from gammapy.image import SkyImage, SkyImageList, SkyMask\n",
    "from gammapy.scripts import StackedObsImageMaker\n",
    "from gammapy.utils.energy import Energy"
   ]
  },
  {
   "cell_type": "code",
   "execution_count": null,
   "metadata": {
    "collapsed": true
   },
   "outputs": [],
   "source": [
    "#data_store containing the observations you will stack in the cube\n",
    "dataset_directory=\"$GAMMAPY_EXTRA/test_datasets/cube/data\"\n",
    "#cwd= cwd=Path.cwd()\n",
    "#dataset_directory=str(cwd)+\"/data\"\n",
    "data_store = DataStore.from_dir(dataset_directory)\n",
    "\n",
    "center = SkyCoord(83.63, 22.01, unit='deg').galactic\n",
    "energy_band = Energy([1, 10], 'TeV')\n",
    "offset_band = Angle([0, 2.49], 'deg')\n",
    "    \n",
    "\n",
    "ref_image = SkyImage.empty(nxpix=50, nypix=50, binsz=0.02, xref=center.l.deg,\n",
    "                               yref=center.b.deg, proj='TAN', coordsys='GAL')\n",
    "\n",
    "exclusion_mask = SkyMask.read('$GAMMAPY_EXTRA/datasets/exclusion_masks/tevcat_exclusion.fits')\n",
    "exclusion_mask = exclusion_mask.reproject(reference=ref_image)\n",
    "\n",
    "# Pb with the load psftable for one of the run that is not implemented yet...\n",
    "data_store.hdu_table.remove_row(14)\n",
    "\n",
    "image_maker = StackedObsImageMaker(\n",
    "        empty_image=ref_image, energy_band=energy_band, offset_band=offset_band, data_store=data_store,\n",
    "        obs_table=data_store.obs_table, exclusion_mask=exclusion_mask,\n",
    "    )\n",
    "image_maker.make_images(make_background_image=True, for_integral_flux=True, radius=10.)\n",
    "images = image_maker.images\n"
   ]
  },
  {
   "cell_type": "code",
   "execution_count": null,
   "metadata": {
    "collapsed": true
   },
   "outputs": [],
   "source": [
    "#plt.imshow(images[\"counts\"].data,interpolation='None')\n",
    "images[\"counts\"].plot()\n"
   ]
  }
 ],
 "metadata": {
  "kernelspec": {
   "display_name": "Python 2",
   "language": "python",
   "name": "python2"
  },
  "language_info": {
   "codemirror_mode": {
    "name": "ipython",
    "version": 2
   },
   "file_extension": ".py",
   "mimetype": "text/x-python",
   "name": "python",
   "nbconvert_exporter": "python",
   "pygments_lexer": "ipython2",
   "version": "2.7.13"
  }
 },
 "nbformat": 4,
 "nbformat_minor": 2
}
