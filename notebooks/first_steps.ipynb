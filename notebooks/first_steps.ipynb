{
 "cells": [
  {
   "cell_type": "markdown",
   "metadata": {},
   "source": [
    "# Getting started with Gammapy\n",
    "\n",
    "## Introduction\n",
    "\n",
    "This is a getting started tutorial for [Gammapy](http://docs.gammapy.org/).\n",
    "\n",
    "It shows an application example for the following classes:\n",
    "\n",
    "- [gammapy.data.EventList](http://docs.gammapy.org/en/latest/api/gammapy.data.EventList.html)\n",
    "- [gammapy.catalog.SourceCatalog](http://docs.gammapy.org/en/latest/api/gammapy.catalog.SourceCatalog.html)\n",
    "- [gammapy.image.SkyImage](http://docs.gammapy.org/en/latest/api/gammapy.image.SkyImage.html)\n",
    "- [gammapy.spectrum.SpectralModel](http://docs.gammapy.org/en/latest/api/gammapy.spectrum.models.SpectralModel.html), TODO: and other spectrum classes.\n",
    "- [gammapy.time.LightCurve](http://docs.gammapy.org/en/latest/api/gammapy.time.LightCurve.html)\n",
    "\n",
    "We will also work with the following Astropy classes:\n",
    "\n",
    "- `astropy.table.Table` - See the [astropy.table docs](http://astropy.readthedocs.io/en/latest/table/index.html).\n",
    "- `astropy.coordinates.SkyCoord` - See the [astropy.coordinates docs](http://astropy.readthedocs.io/en/latest/coordinates/index.html)\n",
    "- `astropy.time.Time` - See the [astropy.time docs](http://astropy.readthedocs.io/en/latest/time/index.html)\n",
    "\n",
    "We will use the [Second Fermi-LAT Catalog of High-Energy Sources (2FHL) catalog](http://fermi.gsfc.nasa.gov/ssc/data/access/lat/2FHL/)\n",
    "and corresponding event list and have a look at an image, spectrum and light curve for the brightest sources."
   ]
  },
  {
   "cell_type": "markdown",
   "metadata": {},
   "source": [
    "## Setup\n",
    "\n",
    "First, as usual with IPython notebooks and Python, we need to do some setup and imports:"
   ]
  },
  {
   "cell_type": "code",
   "execution_count": 1,
   "metadata": {
    "collapsed": true
   },
   "outputs": [],
   "source": [
    "%matplotlib inline\n",
    "import matplotlib.pyplot as plt\n",
    "plt.style.use('ggplot')"
   ]
  },
  {
   "cell_type": "code",
   "execution_count": 1,
   "metadata": {
    "collapsed": true
   },
   "outputs": [],
   "source": [
    "import numpy as np\n",
    "import astropy.units as u\n",
    "from gammapy.catalog import source_catalogs"
   ]
  },
  {
   "cell_type": "markdown",
   "metadata": {},
   "source": [
    "## Dataset\n",
    "\n",
    "- Load 2FHL catalog, select brightest sources.\n",
    "- Load event list, cone select events and print some stats"
   ]
  },
  {
   "cell_type": "code",
   "execution_count": 2,
   "metadata": {
    "collapsed": false
   },
   "outputs": [
    {
     "name": "stdout",
     "output_type": "stream",
     "text": [
      "   Source_Name       ASSOC     CLASS\n",
      "----------------- ------------ -----\n",
      "2FHL J1104.4+3812      Mkn 421   bll\n",
      "2FHL J0534.5+2201         Crab   pwn\n",
      "2FHL J1653.9+3945      Mkn 501   bll\n",
      "2FHL J1555.7+1111  PG 1553+113   bll\n",
      "2FHL J2158.8-3013 PKS 2155-304   bll\n",
      "2FHL J0507.9+6737 1ES 0502+675   bll\n",
      "2FHL J1427.0+2348 PKS 1424+240   bll\n",
      "2FHL J0222.6+4301       3C 66A   bll\n",
      "2FHL J1015.0+4926  1H 1013+498   bll\n"
     ]
    }
   ],
   "source": [
    "cat = source_catalogs['2fhl']\n",
    "table = cat.table\n",
    "table.sort('TS')\n",
    "table = table[::-1]\n",
    "table[:9][['Source_Name', 'ASSOC', 'CLASS']].pprint()"
   ]
  },
  {
   "cell_type": "markdown",
   "metadata": {},
   "source": [
    "## Images\n",
    "\n",
    "- Make SkyImage in local TAN projection\n",
    "- Make counts image, smooth and plot it"
   ]
  },
  {
   "cell_type": "code",
   "execution_count": 3,
   "metadata": {
    "collapsed": true
   },
   "outputs": [],
   "source": [
    "# TODO"
   ]
  },
  {
   "cell_type": "markdown",
   "metadata": {},
   "source": [
    "## Spectrum\n",
    "\n",
    "- Plot the spectra\n",
    "- Also plot event energy distributions"
   ]
  },
  {
   "cell_type": "code",
   "execution_count": 4,
   "metadata": {
    "collapsed": false
   },
   "outputs": [],
   "source": [
    "source = cat['2FHL J0534.5+2201'] # Crab nebula"
   ]
  },
  {
   "cell_type": "code",
   "execution_count": 5,
   "metadata": {
    "collapsed": false
   },
   "outputs": [
    {
     "name": "stdout",
     "output_type": "stream",
     "text": [
      "     ENERGY     ENERGY_ERR_HI ...  DIFF_FLUX_ERR_HI  DIFF_FLUX_ERR_LO \n",
      "      TeV            GeV      ...  1 / (cm2 s TeV)   1 / (cm2 s TeV)  \n",
      "--------------- ------------- ... ----------------- ------------------\n",
      "0.0924662100445 78.5337899555 ... 2.23818967156e-11 -1.60496821024e-11\n",
      " 0.316283101035 268.716898965 ... 6.25183928301e-12                nan\n",
      "  1.08166538264 918.334617361 ...  2.0050402582e-12                nan\n"
     ]
    },
    {
     "data": {
      "text/plain": [
       "<matplotlib.axes._subplots.AxesSubplot at 0x11242bba8>"
      ]
     },
     "execution_count": 5,
     "metadata": {},
     "output_type": "execute_result"
    },
    {
     "data": {
      "image/png": "[encoded data removed]",
      "text/plain": [
       "<matplotlib.figure.Figure at 0x11242bb70>"
      ]
     },
     "metadata": {},
     "output_type": "display_data"
    }
   ],
   "source": [
    "energy_range = [50 * u.GeV, 1 * u.TeV]\n",
    "print(source.flux_points)\n",
    "source.flux_points.plot()\n",
    "# source.spectrum.butterfly.plot()\n",
    "source.spectral_model.plot(energy_range=[40, 4000] * u.GeV, energy_power=2)"
   ]
  },
  {
   "cell_type": "markdown",
   "metadata": {},
   "source": [
    "## Light curve\n",
    "\n",
    "- Plot light curve\n",
    "- Plot event time histogram"
   ]
  },
  {
   "cell_type": "code",
   "execution_count": 6,
   "metadata": {
    "collapsed": false
   },
   "outputs": [
    {
     "data": {
      "text/plain": [
       "<matplotlib.axes._subplots.AxesSubplot at 0x112617198>"
      ]
     },
     "execution_count": 6,
     "metadata": {},
     "output_type": "execute_result"
    },
    {
     "data": {
      "image/png": "[encoded data removed]",
      "text/plain": [
       "<matplotlib.figure.Figure at 0x1125035c0>"
      ]
     },
     "metadata": {},
     "output_type": "display_data"
    }
   ],
   "source": [
    "from gammapy.time import plot_fermi_3fgl_light_curve\n",
    "# This is an example from 3FGL\n",
    "# TODO: refactor this code and make it work for 2FHL also\n",
    "plot_fermi_3fgl_light_curve('3FGL J0349.9-2102')"
   ]
  },
  {
   "cell_type": "markdown",
   "metadata": {},
   "source": [
    "## Exercises\n",
    "\n",
    "TODO: describe one or more small exercises.\n",
    "\n",
    "E.g. look at some other source and do the same analysis as above"
   ]
  },
  {
   "cell_type": "markdown",
   "metadata": {},
   "source": [
    "## What next?\n",
    "\n",
    "This was a quick introduction to some of the high-level classes in Astropy and Gammapy.\n",
    "\n",
    "* To learn more about those classes, go to the API docs (links are in the introduction at the top).\n",
    "* To learn more about other parts of Gammapy (e.g. Fermi-LAT and TeV data analysis), check out the other tutorial notebooks.\n",
    "* To see what's available in Gammapy, browse the [Gammapy docs](http://docs.gammapy.org/) or use the full-text search.\n",
    "* If you have any questions, ask on the mailing list."
   ]
  }
 ],
 "metadata": {
  "kernelspec": {
   "display_name": "Python 3",
   "language": "python",
   "name": "python3"
  },
  "language_info": {
   "codemirror_mode": {
    "name": "ipython",
    "version": 3
   },
   "file_extension": ".py",
   "mimetype": "text/x-python",
   "name": "python",
   "nbconvert_exporter": "python",
   "pygments_lexer": "ipython3",
   "version": "3.5.2"
  }
 },
 "nbformat": 4,
 "nbformat_minor": 1
}
