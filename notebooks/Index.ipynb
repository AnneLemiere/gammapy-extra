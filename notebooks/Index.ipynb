{
 "metadata": {
  "name": "",
  "signature": "sha256:8d43ed522de218c247cdd8ac438356f9d5454e46739af2f28ce630daa316d923"
 },
 "nbformat": 3,
 "nbformat_minor": 0,
 "worksheets": [
  {
   "cells": [
    {
     "cell_type": "markdown",
     "metadata": {},
     "source": [
      "<img src=\"gammapy_banner.png\" style=\"width: 700px;\">"
     ]
    },
    {
     "cell_type": "heading",
     "level": 1,
     "metadata": {},
     "source": [
      "Gammapy IPython notebooks"
     ]
    },
    {
     "cell_type": "heading",
     "level": 2,
     "metadata": {},
     "source": [
      "What is this?"
     ]
    },
    {
     "cell_type": "markdown",
     "metadata": {},
     "source": [
      "This directory contains [IPython notebooks](http://ipython.org/notebook.html) that show examples what can be done with\n",
      "[Gammapy](https://github.com/gammapy/gammapy).\n",
      "\n",
      "This complements the [Gammapy Sphinx-based documentation](https://gammapy.readthedocs.org/en/latest/).\n",
      "\n",
      "A [static HTML version of these notebooks](http://nbviewer.ipython.org/github/gammapy/gammapy-extra/tree/master/notebooks/) (i.e. code can't be executed) is available via the online [nbviewer](http://nbviewer.ipython.org/).\n",
      "\n",
      "If you want to try out Gammapy quickly you should install IPython and Gammapy and then get the [gammapy-extra](https://github.com/gammapy/gammapy-extra) repo (either via git or as a zip file) and then go to the `notebooks` folder in a terminal and type:\n",
      "\n",
      "    $ ipython notebook"
     ]
    },
    {
     "cell_type": "heading",
     "level": 2,
     "metadata": {},
     "source": [
      "Alphabetical list of notebooks"
     ]
    },
    {
     "cell_type": "markdown",
     "metadata": {},
     "source": [
      "TODO: label or split notebooks (for end-user or developer; sort in some useful order)\n",
      "\n",
      "* [diffuse_model_computation.ipynb](diffuse_model_computation.ipynb) : Diffuse model computation\n",
      "* [fermi_vela_model.ipynb](fermi_vela_model.ipynb) : Fermi Vela model\n",
      "* [interpolate_spectral_cube.ipynb](interpolate_spectral_cube.ipynb) : Interpolate spectral cube\n",
      "* [plot_results.ipynb](plot_results.ipynb) : Plot results for iterative background estimation\n",
      "* [radial_model.ipynb](radial_model.ipynb) : Play around with convolution with radial PSF models\n",
      "* [solid_angle.ipynb](solid_angle.ipynb) : Debug pixel solid angle computation\n",
      "* [source_diffuse_estimation.ipynb](source_diffuse_estimation.ipynb) : Source and diffuse emission estimation\n",
      "* [source_population_model.ipynb](source_population_model.ipynb) : Galactic source population model\n",
      "* [spiral_arms.ipynb](spiral_arms.ipynb) : Spiral arm model image"
     ]
    }
   ],
   "metadata": {}
  }
 ]
}