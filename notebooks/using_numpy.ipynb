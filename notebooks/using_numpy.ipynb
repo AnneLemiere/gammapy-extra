{
 "cells": [
  {
   "cell_type": "markdown",
   "metadata": {},
   "source": [
    "# Rapid introduction on using numpy, scipy, matplotlib\n",
    "\n",
    "This is meant to be a very brief reminder. It is strongly suggested to refer to more detailed\n",
    "introductions and tutorials see for instance:\n",
    "- [A Whirlwind tour of Python](http://nbviewer.jupyter.org/github/jakevdp/WhirlwindTourOfPython/blob/master/Index.ipynb)\n",
    "- [Python data science handbook](http://nbviewer.jupyter.org/github/jakevdp/PythonDataScienceHandbook/blob/master/notebooks/Index.ipynb)\n",
    "- [Scipy lectures](http://www.scipy-lectures.org/)\n",
    "\n",
    "## Introduction\n",
    "\n",
    "Here we will look at :\n",
    "- basic features regarding array manipulation and indexing\n",
    "- do a bit of plotting with matplotlib\n",
    "- use a number of useful scipy features\n",
    "- see an example of vectorization with a simple Monte Carlo problem"
   ]
  },
  {
   "cell_type": "markdown",
   "metadata": {},
   "source": [
    "## numpy: arrays, indexing etc\n",
    "\n"
   ]
  },
  {
   "cell_type": "code",
   "execution_count": 16,
   "metadata": {
    "collapsed": true
   },
   "outputs": [],
   "source": [
    "import numpy as np\n"
   ]
  },
  {
   "cell_type": "code",
   "execution_count": 17,
   "metadata": {
    "collapsed": false
   },
   "outputs": [
    {
     "name": "stdout",
     "output_type": "stream",
     "text": [
      "[3 4 5]\n",
      "[[1 2]\n",
      " [3 4]]\n"
     ]
    }
   ],
   "source": [
    "x = np.array([3,4,5])\n",
    "print(x)\n",
    "y = np.array([[1, 2],[3,4]])\n",
    "print(y)"
   ]
  },
  {
   "cell_type": "code",
   "execution_count": 18,
   "metadata": {
    "collapsed": false
   },
   "outputs": [
    {
     "name": "stdout",
     "output_type": "stream",
     "text": [
      "[  1.   2.   3.   4.   5.   6.   7.   8.   9.  10.]\n",
      "[  1.           1.29154967   1.66810054   2.15443469   2.7825594\n",
      "   3.59381366   4.64158883   5.9948425    7.74263683  10.        ]\n"
     ]
    }
   ],
   "source": [
    "### linearly spaced 1D array\n",
    "print(np.linspace(1.,10.,10))\n",
    "\n",
    "### log spaced 1D array\n",
    "print(np.logspace(0.,1.,10))\n"
   ]
  },
  {
   "cell_type": "code",
   "execution_count": 19,
   "metadata": {
    "collapsed": false
   },
   "outputs": [
    {
     "name": "stdout",
     "output_type": "stream",
     "text": [
      "[ 0.  0.  0.  0.  0.]\n",
      "[[ 0.  0.  0.]\n",
      " [ 0.  0.  0.]\n",
      " [ 0.  0.  0.]]\n"
     ]
    }
   ],
   "source": [
    "### 1D array of zeros\n",
    "print(np.zeros(5))\n",
    "\n",
    "### 2D array of zeros\n",
    "print(np.zeros((3,3)))"
   ]
  },
  {
   "cell_type": "markdown",
   "metadata": {},
   "source": [
    "### Types and casts\n",
    "\n",
    "See numpy [dtypes](https://docs.scipy.org/doc/numpy/reference/arrays.dtypes.html)"
   ]
  },
  {
   "cell_type": "code",
   "execution_count": 20,
   "metadata": {
    "collapsed": false
   },
   "outputs": [
    {
     "name": "stdout",
     "output_type": "stream",
     "text": [
      "[ 1  1  1  2  2  3  4  5  7 10]\n",
      "2\n"
     ]
    }
   ],
   "source": [
    "x_int = np.logspace(0.,1.,10).astype('int')   # cast array as int\n",
    "print(x_int)\n",
    "\n",
    "x_int[1]=2.34   # 2.34 is cast as int\n",
    "print(x_int[1])"
   ]
  },
  {
   "cell_type": "code",
   "execution_count": 21,
   "metadata": {
    "collapsed": false
   },
   "outputs": [
    {
     "name": "stdout",
     "output_type": "stream",
     "text": [
      "|S1\n",
      "b\n",
      "bbbb\n"
     ]
    }
   ],
   "source": [
    "array_string = np.array(['a','b','c','d'])\n",
    "print(array_string.dtype)    # 1 character string\n",
    "\n",
    "array_string[1]='bbbb'   # 'bbbb' is cast on 1 character string\n",
    "print(array_string[1])\n",
    "\n",
    "array_string = np.array(['a','b','c','d'],dtype=np.dtype('S10'))\n",
    "array_string[1]='bbbb'   # 'bbbb' is cast on 10 character string\n",
    "print(array_string[1])\n"
   ]
  },
  {
   "cell_type": "markdown",
   "metadata": {},
   "source": [
    "### array indexing & slicing"
   ]
  },
  {
   "cell_type": "code",
   "execution_count": 22,
   "metadata": {
    "collapsed": false
   },
   "outputs": [
    {
     "name": "stdout",
     "output_type": "stream",
     "text": [
      "9\n",
      "[3 4 5]\n",
      "[1 3 5 7 9]\n",
      "[9 8 7 6 5 4 3 2 1 0]\n"
     ]
    }
   ],
   "source": [
    "x = np.arange(10)\n",
    "\n",
    "print(x[-1])   # last element\n",
    "\n",
    "print(x[3:6])  # subarray\n",
    "\n",
    "print(x[1::2]) # stride\n",
    "\n",
    "print(x[::-1]) # stride\n"
   ]
  },
  {
   "cell_type": "code",
   "execution_count": 23,
   "metadata": {
    "collapsed": false
   },
   "outputs": [
    {
     "name": "stdout",
     "output_type": "stream",
     "text": [
      "[[ 0  1  2  3  4]\n",
      " [10 11 12 13 14]\n",
      " [20 21 22 23 24]\n",
      " [30 31 32 33 34]\n",
      " [40 41 42 43 44]]\n",
      "('first column : ', array([ 0, 10, 20, 30, 40]))\n",
      "('last row     : ', array([40, 41, 42, 43, 44]))\n"
     ]
    }
   ],
   "source": [
    "x = np.array([np.arange(10*i,10*i+5) for i in range(5)])\n",
    "print(x)\n",
    "\n",
    "print(\"first column : \", x[:,0])\n",
    "print(\"last row     : \", x[-1,:])\n"
   ]
  },
  {
   "cell_type": "code",
   "execution_count": 24,
   "metadata": {
    "collapsed": false
   },
   "outputs": [
    {
     "name": "stdout",
     "output_type": "stream",
     "text": [
      "[[ 0  1  2  3  4]\n",
      " [10 11 12 13 14]\n",
      " [20 21 22 23 24]\n",
      " [30 31 32 33 34]\n",
      " [41 42 43 44 45]]\n"
     ]
    }
   ],
   "source": [
    "b=x[-1,:]   # This is a view not a copy!\n",
    "b[:] += 1\n",
    "\n",
    "print(x) # the initial matrix is changed!\n"
   ]
  },
  {
   "cell_type": "code",
   "execution_count": 25,
   "metadata": {
    "collapsed": false
   },
   "outputs": [
    {
     "name": "stdout",
     "output_type": "stream",
     "text": [
      "[[False  True False  True False]\n",
      " [False  True False  True False]\n",
      " [False  True False  True False]\n",
      " [False  True False  True False]\n",
      " [ True False  True False  True]]\n",
      "[[ 0  0  2  0  4]\n",
      " [10  0 12  0 14]\n",
      " [20  0 22  0 24]\n",
      " [30  0 32  0 34]\n",
      " [ 0 42  0 44  0]]\n"
     ]
    }
   ],
   "source": [
    "# Fancy indexing \n",
    "print(x%2==1)\n",
    "x[x%2==1]=0\n",
    "print(x)"
   ]
  },
  {
   "cell_type": "markdown",
   "metadata": {},
   "source": [
    "### Broadcasting"
   ]
  },
  {
   "cell_type": "code",
   "execution_count": 26,
   "metadata": {
    "collapsed": false
   },
   "outputs": [
    {
     "name": "stdout",
     "output_type": "stream",
     "text": [
      "[ 5.  6.  7.  8.  9.]\n"
     ]
    }
   ],
   "source": [
    "x=np.linspace(1,5,5) + 4   # 4 is broadcast to 5 element array\n",
    "print(x)"
   ]
  },
  {
   "cell_type": "code",
   "execution_count": 27,
   "metadata": {
    "collapsed": false
   },
   "outputs": [
    {
     "name": "stdout",
     "output_type": "stream",
     "text": [
      "[[ 5.  6.  7.  8.  9.]\n",
      " [ 5.  6.  7.  8.  9.]\n",
      " [ 5.  6.  7.  8.  9.]]\n"
     ]
    }
   ],
   "source": [
    "y=np.zeros((3,5)) + x   # x is broadcast to (3,5) array\n",
    "print(y)"
   ]
  },
  {
   "cell_type": "markdown",
   "metadata": {},
   "source": [
    "## Plotting with matplotlib\n",
    "\n",
    "We will see some plotting:\n",
    "- Simple plots\n",
    "- Histograms with matplotlib"
   ]
  },
  {
   "cell_type": "code",
   "execution_count": 28,
   "metadata": {
    "collapsed": false
   },
   "outputs": [],
   "source": [
    "# This is for embedding figures in the notebook\n",
    "%matplotlib inline   \n",
    "import matplotlib.pyplot as plt\n",
    "plt.style.use('ggplot')         # Fancy style\n"
   ]
  },
  {
   "cell_type": "markdown",
   "metadata": {},
   "source": [
    "## Vectorization or loops: A very simple MC\n",
    "\n",
    "We want to solve a simple statistical question. Assume a Poisson random process of mean mu. What is the density probability function pdf(n_val) of having at least one realization of the Poisson process out of N larger than n_val? \n",
    "\n",
    "See for instance [this paper](https://arxiv.org/pdf/0903.4373.pdf)\n",
    "\n",
    "While this problem has an analytical solution we would like to test it with a simple MC. \n",
    "\n",
    "We will first do it as one would do it with a C code and we will progressively vectorize the problem. We will use a timer to compare performance.\n",
    "\n"
   ]
  },
  {
   "cell_type": "code",
   "execution_count": 29,
   "metadata": {
    "collapsed": false
   },
   "outputs": [
    {
     "name": "stdout",
     "output_type": "stream",
     "text": [
      "1 loops, best of 3: 5.6 s per loop\n"
     ]
    }
   ],
   "source": [
    "### Define the function\n",
    "def poisson_sample_maximum(mu, N, Ntrials):\n",
    "    \"\"\"\n",
    "        Generate a set of Ntrials random variables defined as the maximum of N \n",
    "        random Poisson R.V. of mean mu\n",
    "    \"\"\"\n",
    "    res = np.zeros(Ntrials)\n",
    "    ### Do a loop\n",
    "    for i in range(Ntrials):\n",
    "        ### Generate N random varslues \n",
    "        Y = np.random.poisson(mu,size=(N))\n",
    "        ### Take the maximum \n",
    "        res[i] = np.max(Y)\n",
    "\n",
    "    return res \n",
    "   \n",
    "mu = 5\n",
    "N = 10\n",
    "Ntrials = 1000000\n",
    "    \n",
    "%timeit values = poisson_sample_maximum(mu,N,Ntrials)\n"
   ]
  },
  {
   "cell_type": "markdown",
   "metadata": {},
   "source": [
    "It does work, but no so fast...\n",
    "\n",
    "To do it in a efficient and pythonic way we have to avoid loops as much as possible.\n",
    "\n",
    "The idea here will then be to do all trials at once requiring random.poisson to produce a 2D matrix of size Nxtrials"
   ]
  },
  {
   "cell_type": "code",
   "execution_count": 32,
   "metadata": {
    "collapsed": false
   },
   "outputs": [
    {
     "name": "stdout",
     "output_type": "stream",
     "text": [
      "1 loops, best of 3: 917 ms per loop\n"
     ]
    }
   ],
   "source": [
    "### Define a better function\n",
    "def poisson_sample_maximum_better(mu, N, Ntrials):\n",
    "    \"\"\"\n",
    "        Generate a set of Ntrials random variables defined as the maximum of N \n",
    "        random Poisson R.V. of mean mu\n",
    "    \"\"\"\n",
    "    ### Generate N*Ntrials random values in N x Ntrials matrix\n",
    "    Y = np.random.poisson(mu,size=(N,Ntrials))\n",
    "    ### Return the maximum in each row\n",
    "    return np.max(Y,0)\n",
    "\n",
    "   \n",
    "mu = 5\n",
    "N = 10\n",
    "Ntrials = 1000000\n",
    "    \n",
    "%timeit values = poisson_sample_maximum_better(mu,N,Ntrials)\n"
   ]
  },
  {
   "cell_type": "markdown",
   "metadata": {},
   "source": [
    "We can now compare the distribution of MC simulated values to the actual analytical function.\n"
   ]
  },
  {
   "cell_type": "code",
   "execution_count": 34,
   "metadata": {
    "collapsed": false
   },
   "outputs": [
    {
     "data": {
      "text/plain": [
       "(1e-06, 1)"
      ]
     },
     "execution_count": 34,
     "metadata": {},
     "output_type": "execute_result"
    },
    {
     "name": "stderr",
     "output_type": "stream",
     "text": [
      "/Users/terrier/Code/anaconda2/lib/python2.7/site-packages/matplotlib/scale.py:101: RuntimeWarning: invalid value encountered in less_equal\n",
      "  a[a <= 0.0] = 1e-300\n"
     ]
    },
    {
     "data": {
      "image/png": "[encoded data removed]",
      "text/plain": [
       "<matplotlib.figure.Figure at 0x10a5be990>"
      ]
     },
     "metadata": {},
     "output_type": "display_data"
    }
   ],
   "source": [
    "values = poisson_sample_maximum_better(mu,N,Ntrials)\n",
    "\n",
    "### Make and plot the normalized histogram\n",
    "### We define the binning ouselves to have bins for each integer\n",
    "bins = np.arange(0,10*mu)\n",
    "histo = plt.hist(values,bins=bins,normed=True,log=True)\n",
    "\n",
    "### Now compare to the analytical solution\n",
    "from scipy.special import gammaincc\n",
    "\n",
    "### Define a lambda function to compute analytical solution\n",
    "proba = lambda nv, Nr, mu_p :  gammaincc(nv+1, mu_p)**Nr-gammaincc(nv, mu_p)**Nr\n",
    "\n",
    "plt.plot(0.5*(bins[:-1]+bins[1:]),proba(bins[:-1],N,mu))\n",
    "plt.ylim(1e-6,1)   # restrict y range"
   ]
  },
  {
   "cell_type": "markdown",
   "metadata": {},
   "source": [
    "## Exercices\n",
    "\n",
    "- write a vectorized function that takes an array of int and returns an array where square integers are replaced by their square root and the others are left unchanged"
   ]
  },
  {
   "cell_type": "code",
   "execution_count": 35,
   "metadata": {
    "collapsed": false
   },
   "outputs": [
    {
     "name": "stdout",
     "output_type": "stream",
     "text": [
      "7.0\n",
      "[  0.   1.   2.   3.   2.   5.   6.   7.   8.   3.  10.  11.  12.  13.  14.\n",
      "  15.   4.  17.  18.  19.  20.  21.  22.  23.  24.   5.]\n"
     ]
    }
   ],
   "source": [
    "### A solution\n",
    "def replace_square(n):\n",
    "    sqrt_n = np.sqrt(n)\n",
    "    return n + (sqrt_n == sqrt_n.astype(int))*(-n + sqrt_n)\n",
    "\n",
    "print(replace_square(7.0))        \n",
    "print(replace_square(np.arange(26)))"
   ]
  },
  {
   "cell_type": "code",
   "execution_count": 36,
   "metadata": {
    "collapsed": false
   },
   "outputs": [
    {
     "name": "stdout",
     "output_type": "stream",
     "text": [
      "7.0\n",
      "[  0.   1.   2.   3.   2.   5.   6.   7.   8.   3.  10.  11.  12.  13.  14.\n",
      "  15.   4.  17.  18.  19.  20.  21.  22.  23.  24.   5.]\n"
     ]
    }
   ],
   "source": [
    "### or using where\n",
    "def replace_square2(n):\n",
    "    sqrt_n = np.sqrt(n)\n",
    "    return np.where(sqrt_n == sqrt_n.astype(int), \n",
    "                    sqrt_n, n)\n",
    "        \n",
    "print(replace_square2(7.0))       \n",
    "print(replace_square2(np.arange(26)))"
   ]
  },
  {
   "cell_type": "code",
   "execution_count": null,
   "metadata": {
    "collapsed": true
   },
   "outputs": [],
   "source": []
  }
 ],
 "metadata": {
  "kernelspec": {
   "display_name": "Python 2",
   "language": "python",
   "name": "python2"
  },
  "language_info": {
   "codemirror_mode": {
    "name": "ipython",
    "version": 2
   },
   "file_extension": ".py",
   "mimetype": "text/x-python",
   "name": "python",
   "nbconvert_exporter": "python",
   "pygments_lexer": "ipython2",
   "version": "2.7.11"
  }
 },
 "nbformat": 4,
 "nbformat_minor": 0
}
