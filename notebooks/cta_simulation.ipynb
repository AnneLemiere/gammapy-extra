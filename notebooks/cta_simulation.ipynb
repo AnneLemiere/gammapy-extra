{
 "cells": [
  {
   "cell_type": "markdown",
   "metadata": {},
   "source": [
    "# CTA simulation tools\n",
    "\n",
    "## Introduction\n",
    "In this tutorial we will simulate the expected counts of a Fermi/LAT source in the CTA energy range. We will go through the following topics: \n",
    " - handling of Fermi/LAT 3FHL catalogue with [gammapy.catalog.SourceCatalog3FHL](http://docs.gammapy.org/en/latest/catalog/)\n",
    " - handling of EBL tables with [gammapy.spectrum.TableModel](http://docs.gammapy.org/en/latest/api/gammapy.spectrum.models.TableModel.html#gammapy.spectrum.models.TableModel)\n",
    " - handling of CTA responses with [gammapy.scripts.CTAPerf](http://docs.gammapy.org/en/latest/api/gammapy.scripts.CTAPerf.html?highlight=ctaperf)\n",
    " - simulation of an observation for a given set of parameters with [gammapy.scripts.CTAObservationSimulation](http://docs.gammapy.org/en/latest/api/gammapy.scripts.CTAObservationSimulation.html#gammapy.scripts.CTAObservationSimulation)\n",
    " - Illustration of sherpa power (via ciao) to fit an observation with a user model\n",
    " \n",
    "\n",
    "In order to deal with plots we will begin with matplotlib import:  "
   ]
  },
  {
   "cell_type": "code",
   "execution_count": null,
   "metadata": {
    "collapsed": true
   },
   "outputs": [],
   "source": [
    "%matplotlib inline\n",
    "import matplotlib.pyplot as plt"
   ]
  },
  {
   "cell_type": "markdown",
   "metadata": {},
   "source": [
    "## PKS 2155-304 selection from the 3FHL Fermi/LAT catalogue\n",
    "We will start by selecting the source PKS 2155-304 in the 3FHL Fermi/LAT catalogue for further use."
   ]
  },
  {
   "cell_type": "code",
   "execution_count": null,
   "metadata": {
    "collapsed": true
   },
   "outputs": [],
   "source": [
    "from gammapy.catalog import SourceCatalog3FHL\n",
    "\n",
    "# load catalogs\n",
    "fermi_3fhl = SourceCatalog3FHL()\n",
    "name = 'PKS 2155-304'\n",
    "src = fermi_3fhl[name]"
   ]
  },
  {
   "cell_type": "markdown",
   "metadata": {},
   "source": [
    "We can then access the caracteristics of the source via the `data` attribut and select its spectral model for further use. "
   ]
  },
  {
   "cell_type": "code",
   "execution_count": null,
   "metadata": {
    "collapsed": false
   },
   "outputs": [],
   "source": [
    "redshift = src.data['Redshift']\n",
    "spectral_model = src.spectral_model"
   ]
  },
  {
   "cell_type": "markdown",
   "metadata": {},
   "source": [
    "Here is an example on how to plot the source spectra"
   ]
  },
  {
   "cell_type": "code",
   "execution_count": null,
   "metadata": {
    "collapsed": false
   },
   "outputs": [],
   "source": [
    "# plot the Fermi/LAT model\n",
    "import astropy.units as u\n",
    "spectral_model.plot(energy_range=[10 * u.GeV, 2 *u.TeV])\n"
   ]
  },
  {
   "cell_type": "markdown",
   "metadata": {},
   "source": [
    "## Select a model for EBL absorption\n",
    "We will need to modelise EBL (extragalactic background light) attenuation to have get a 'realistic' simulation. Different models are available in GammaPy. Here is an example on how to deal with the absorption coefficients. "
   ]
  },
  {
   "cell_type": "code",
   "execution_count": null,
   "metadata": {
    "collapsed": false
   },
   "outputs": [],
   "source": [
    "from gammapy.spectrum.models import TableModel\n",
    "\n",
    "# Load models for PKS 2155-304 redshift \n",
    "franceschini = TableModel.read_xspec_model('$GAMMAPY_EXTRA/datasets/ebl/ebl_franceschini.fits.gz', param=redshift)\n",
    "dominguez = TableModel.read_xspec_model('$GAMMAPY_EXTRA/datasets/ebl/ebl_dominguez11.fits.gz', param=redshift)\n",
    "finke = TableModel.read_xspec_model('$GAMMAPY_EXTRA/datasets/ebl/frd_abs.fits.gz', param=redshift)"
   ]
  },
  {
   "cell_type": "markdown",
   "metadata": {},
   "source": [
    "From here you can have access to the absorption coefficient for a given energy."
   ]
  },
  {
   "cell_type": "code",
   "execution_count": null,
   "metadata": {
    "collapsed": false
   },
   "outputs": [],
   "source": [
    "energy = 1 * u.TeV\n",
    "abs_value = dominguez.evaluate(energy=energy, amplitude=1.)\n",
    "print('absorption({} {}) = {}'.format(energy.value, energy.unit, abs_value))"
   ]
  },
  {
   "cell_type": "markdown",
   "metadata": {},
   "source": [
    "Below is an example to plot EBL absorption for different models "
   ]
  },
  {
   "cell_type": "code",
   "execution_count": null,
   "metadata": {
    "collapsed": false
   },
   "outputs": [],
   "source": [
    "# define energy range for the plot\n",
    "energy_range = [0.03, 30] * u.TeV\n",
    "\n",
    "# start customised plot\n",
    "ax = plt.gca()\n",
    "opts = dict(energy_range=energy_range, energy_unit='TeV', ax=ax)\n",
    "franceschini.plot(label='Franceschini 2008', **opts)\n",
    "finke.plot(label='Finke 2010', **opts)\n",
    "dominguez.plot(label='Dominguez 2011', **opts)\n",
    "\n",
    "# tune plot\n",
    "ax.set_ylabel(r'Absorption coefficient [$\\exp{(-\\tau(E))}$]')\n",
    "ax.set_xlim(energy_range.value)  # we get ride of units\n",
    "ax.set_ylim([1.e-4, 2.])\n",
    "ax.set_yscale('log')\n",
    "ax.set_title('EBL models (z=' + str(redshift) + ')')\n",
    "plt.grid(which='both')\n",
    "plt.legend(loc='best') # legend\n",
    "\n",
    "# show plot\n",
    "plt.show()"
   ]
  },
  {
   "cell_type": "markdown",
   "metadata": {},
   "source": [
    "Here we are going to select the Franceschini model (see simulation part)"
   ]
  },
  {
   "cell_type": "code",
   "execution_count": null,
   "metadata": {
    "collapsed": true
   },
   "outputs": [],
   "source": [
    "ebl_model_name = 'franceschini'"
   ]
  },
  {
   "cell_type": "markdown",
   "metadata": {},
   "source": [
    "## CTA instrument response functions\n",
    "Here we are going to deal with CTA point-like instrument response functions (public version, production 2). Data format for point-like IRF is still missing. For now, a lot of efforts is made to define full-containment IRFs (https://gamma-astro-data-formats.readthedocs.io/en/latest/irfs/index.html). In the meantime a temporary format is used in gammapy. It will evolved.\n",
    "\n",
    "To simulate one observation we need the following IRFs: \n",
    " - effective area as a function of true energy (energy-dependent theta square cute)\n",
    " - background rate as a function of reconstructed energy (energy-dependent theta square cute)\n",
    " - migration matrix, e_reco/e_true as a function of true energy\n",
    " \n",
    "To handle CTA's responses we will use the `CTAPerf` class"
   ]
  },
  {
   "cell_type": "code",
   "execution_count": null,
   "metadata": {
    "collapsed": false
   },
   "outputs": [],
   "source": [
    "from gammapy.scripts import CTAPerf\n",
    "# South array optimisation for faint source \n",
    "filename = '$GAMMAPY_EXTRA/datasets/cta/perf_prod2/point_like_non_smoothed/South_50h.fits.gz'\n",
    "cta_perf = CTAPerf.read(filename)\n",
    "cta_perf.peek()"
   ]
  },
  {
   "cell_type": "markdown",
   "metadata": {},
   "source": [
    "Different optimisations are available for different type of source (bright, 0.5h; medium, 5h; faint, 50h). Here is an example to have a quick look to the different optimisation"
   ]
  },
  {
   "cell_type": "code",
   "execution_count": null,
   "metadata": {
    "collapsed": false
   },
   "outputs": [],
   "source": [
    "prod_dir = '$GAMMAPY_EXTRA/datasets/cta/perf_prod2/point_like_non_smoothed/'\n",
    "opti = ['0.5h', '5h', '50h']\n",
    "site = ['South', 'North']\n",
    "cta_perf_list = list()  # will be filled with different performance\n",
    "labels = list()  # will be filled with different performance labels for the legend\n",
    "for isite in site: \n",
    "    for iopti in opti:\n",
    "        filename = prod_dir + '/' + isite + '_' + iopti + '.fits.gz'\n",
    "        cta_perf_list.append(CTAPerf.read(filename))\n",
    "        labels.append(isite + ' (' + iopti + ')')\n",
    "CTAPerf.superpose_perf(cta_perf_list, labels)"
   ]
  },
  {
   "cell_type": "markdown",
   "metadata": {},
   "source": [
    "## CTA simulation of an observation\n",
    "Now we are going to simulate the expected counts in the CTA energy range. To do so we will need to specify a target (caracteristics of the source) and the parameters of the observation (such as time, ON/OFF normalisation, etc.)"
   ]
  },
  {
   "cell_type": "markdown",
   "metadata": {},
   "source": [
    "### Target definition"
   ]
  },
  {
   "cell_type": "code",
   "execution_count": null,
   "metadata": {
    "collapsed": false
   },
   "outputs": [],
   "source": [
    "from gammapy.scripts.cta_utils import Target\n",
    "target = Target(name=src.data['Source_Name'],  # from the 3FGL catalogue source class\n",
    "                model=spectral_model,  # defined above\n",
    "                redshift=redshift,  # defined above\n",
    "                ebl_model_name=ebl_model_name  # defined above\n",
    "               )"
   ]
  },
  {
   "cell_type": "code",
   "execution_count": null,
   "metadata": {
    "collapsed": false
   },
   "outputs": [],
   "source": [
    "print(target)"
   ]
  },
  {
   "cell_type": "markdown",
   "metadata": {},
   "source": [
    "### Observation definition"
   ]
  },
  {
   "cell_type": "code",
   "execution_count": null,
   "metadata": {
    "collapsed": true
   },
   "outputs": [],
   "source": [
    "from gammapy.scripts.cta_utils import ObservationParameters\n",
    "alpha = 0.2 * u.Unit('')  # normalisation between ON and OFF regions\n",
    "livetime = 5. * u.h\n",
    "emin = 0.05 * u.TeV  # energy threshold range to do statistics (excess, significance, etc.)\n",
    "emax = 5 * u.TeV  # energy threshold range to do statistics (excess, significance, etc.)\n",
    "params = ObservationParameters(alpha=alpha, livetime=livetime,\n",
    "                               emin=emin, emax=emax)"
   ]
  },
  {
   "cell_type": "code",
   "execution_count": null,
   "metadata": {
    "collapsed": false
   },
   "outputs": [],
   "source": [
    "print(params)"
   ]
  },
  {
   "cell_type": "markdown",
   "metadata": {},
   "source": [
    "### Performance"
   ]
  },
  {
   "cell_type": "code",
   "execution_count": null,
   "metadata": {
    "collapsed": false
   },
   "outputs": [],
   "source": [
    "from gammapy.scripts import CTAPerf\n",
    "# PKS 2155-304 is 10 % of Crab at 1 TeV ==> intermediate source\n",
    "filename = '$GAMMAPY_EXTRA/datasets/cta/perf_prod2/point_like_non_smoothed/South_5h.fits.gz'\n",
    "perf = CTAPerf.read(filename)"
   ]
  },
  {
   "cell_type": "markdown",
   "metadata": {},
   "source": [
    "### Simulation"
   ]
  },
  {
   "cell_type": "markdown",
   "metadata": {},
   "source": [
    "Here we are going to simulate what we expect to see with CTA and measure the duration of the simulation"
   ]
  },
  {
   "cell_type": "code",
   "execution_count": null,
   "metadata": {
    "collapsed": false
   },
   "outputs": [],
   "source": [
    "import time  # to estimate duration of a process\n",
    "from gammapy.scripts.cta_utils import CTAObservationSimulation\n",
    "\n",
    "t_start = time.clock()  # start timing\n",
    "simu = CTAObservationSimulation.simulate_obs(perf=perf,\n",
    "                                             target=target,\n",
    "                                             obs_param=params)\n",
    "t_end = time.clock()\n",
    "\n",
    "# print simulation results\n",
    "print(simu)\n",
    "\n",
    "# print time needed to run the simulation (0.015 s on my personal laptop)\n",
    "print('\\nsimu done in {} s'.format(t_end-t_start))"
   ]
  },
  {
   "cell_type": "markdown",
   "metadata": {},
   "source": [
    "Now we can take a look at the excess, ON and OFF distributions"
   ]
  },
  {
   "cell_type": "code",
   "execution_count": null,
   "metadata": {
    "collapsed": false
   },
   "outputs": [],
   "source": [
    "CTAObservationSimulation.plot_simu(simu, target)"
   ]
  },
  {
   "cell_type": "markdown",
   "metadata": {},
   "source": [
    "We can access simulation parameters via the [gammapy.spectrum.SpectrumStats](http://docs.gammapy.org/en/latest/api/gammapy.spectrum.SpectrumStats.html#gammapy.spectrum.SpectrumStats) attribut of the [gammapy.spectrum.SpectrumObservation](http://docs.gammapy.org/en/latest/api/gammapy.spectrum.SpectrumObservation.html#gammapy.spectrum.SpectrumObservation) class"
   ]
  },
  {
   "cell_type": "code",
   "execution_count": null,
   "metadata": {
    "collapsed": false
   },
   "outputs": [],
   "source": [
    "stats = simu.total_stats_safe_range\n",
    "stats_dict = stats.to_dict()\n",
    "print('excess={} and sigma={}'.format(stats_dict['excess'], stats_dict['sigma']))"
   ]
  },
  {
   "cell_type": "markdown",
   "metadata": {},
   "source": [
    "Finally, you can get statistics for every reconstructed energy bin with: "
   ]
  },
  {
   "cell_type": "code",
   "execution_count": null,
   "metadata": {
    "collapsed": false
   },
   "outputs": [],
   "source": [
    "table = simu.stats_table()\n",
    "print(table)"
   ]
  },
  {
   "cell_type": "markdown",
   "metadata": {},
   "source": [
    "## Excercises\n",
    " - do the same thing for the source 1ES 2322-40.9 (faint BL Lac object)\n",
    " - repeat the procedure 10 times and average detection results (excess and significance)\n",
    " - estimate the time needed to have a 5-sigma detection for Cen A (core)"
   ]
  },
  {
   "cell_type": "code",
   "execution_count": null,
   "metadata": {
    "collapsed": false
   },
   "outputs": [],
   "source": []
  },
  {
   "cell_type": "code",
   "execution_count": null,
   "metadata": {
    "collapsed": true
   },
   "outputs": [],
   "source": []
  }
 ],
 "metadata": {
  "kernelspec": {
   "display_name": "Python 2",
   "language": "python",
   "name": "python2"
  },
  "language_info": {
   "codemirror_mode": {
    "name": "ipython",
    "version": 2
   },
   "file_extension": ".py",
   "mimetype": "text/x-python",
   "name": "python",
   "nbconvert_exporter": "python",
   "pygments_lexer": "ipython2",
   "version": "2.7.12"
  }
 },
 "nbformat": 4,
 "nbformat_minor": 2
}
