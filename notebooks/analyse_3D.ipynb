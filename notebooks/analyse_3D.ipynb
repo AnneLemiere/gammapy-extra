{
 "cells": [
  {
   "cell_type": "markdown",
   "metadata": {
    "deletable": true,
    "editable": true
   },
   "source": [
    "# 3D Analysis with Gammapy and Sherpa\n",
    "\n",
    "## Introduction \n",
    "In this tutorial we will learn how to compute a morphological and spectral fit simultanously. The fitting is done using [Sherpa](http://cxc.harvard.edu/contrib/sherpa47/).\n",
    "\n",
    "It will use:   \n",
    "- [gammapy.cube](http://docs.gammapy.org/en/latest/cube/index.html) where are strored the counts, the background, the exposure and the mean psf of this Crab dataset.\n",
    "- [gammapy.irf.EnergyDispersion](http://docs.gammapy.org/en/latest/api/gammapy.irf.EnergyDispersion.html) where is stored the mean rmf of this Crab dataset.\n",
    "-  the method [gammapy.cube.SkyCube.to_sherpa_data3d](http://docs.gammapy.org/en/latest/api/gammapy.cube.SkyCube.html#gammapy.cube.SkyCube.to_sherpa_data3d) to transform the counts cube in Sherpa object.\n",
    "- [gammapy.cube.CombinedModel3DInt](http://docs.gammapy.org/en/latest/api/gammapy.cube.CombinedModel3DInt.html) to combine the spectral and spatial model for the fit if you consider a perfect energy resolution\n",
    "- [gammapy.cube.CombinedModel3DIntConvolveEdisp](http://docs.gammapy.org/en/latest/api/gammapy.cube.CombinedModel3DIntConvolveEdisp.html) to combine the spectral and spatial model for the fit taking into account that the true energy is different than the reconstructed one.\n",
    "\n",
    "We will use the Cubes build on the 4 Crab observations of gammapy-extra. You could use the Cubes we just created with the notebook cube_analysis.ipynb"
   ]
  },
  {
   "cell_type": "markdown",
   "metadata": {
    "deletable": true,
    "editable": true
   },
   "source": [
    "## Import"
   ]
  },
  {
   "cell_type": "code",
   "execution_count": 25,
   "metadata": {
    "collapsed": false,
    "deletable": true,
    "editable": true
   },
   "outputs": [],
   "source": [
    "import numpy as np\n",
    "from astropy.io import fits\n",
    "from astropy.coordinates import SkyCoord, Angle\n",
    "from regions import CircleSkyRegion\n",
    "from gammapy.datasets import gammapy_extra\n",
    "from gammapy.irf import EnergyDispersion\n",
    "from gammapy.utils.testing import requires_dependency, requires_data\n",
    "from gammapy.cube import SkyCube, CombinedModel3DInt, CombinedModel3DIntConvolveEdisp, NormGauss2DInt\n",
    "\n",
    "from sherpa.models import PowLaw1D, TableModel\n",
    "from sherpa.estmethods import Covariance\n",
    "from sherpa.optmethods import NelderMead\n",
    "from sherpa.stats import Cash\n",
    "from sherpa.fit import Fit"
   ]
  },
  {
   "cell_type": "markdown",
   "metadata": {
    "deletable": true,
    "editable": true
   },
   "source": [
    "## 3D analysis assuming that there is no energy dispersion (perfect energy resolution)\n",
    "\n",
    "### Load the different cubes needed for the analysis\n",
    "\n",
    "We will use the Cubes build on the 4 Crab observations of gammapy-extra. You could use the Cubes we just created with the notebook cube_analysis.ipynb by changing the cube_directory by your local path.\n",
    "\n",
    "- Counts cube"
   ]
  },
  {
   "cell_type": "code",
   "execution_count": 26,
   "metadata": {
    "collapsed": false,
    "deletable": true,
    "editable": true
   },
   "outputs": [],
   "source": [
    "cube_directory=\"$GAMMAPY_EXTRA/test_datasets/cube\"\n",
    "filename = cube_directory+\"/counts_cube.fits\"\n",
    "counts_3d = SkyCube.read(filename)\n",
    "#Transformation to a sherpa object\n",
    "cube = counts_3d.to_sherpa_data3d(dstype='Data3DInt')\n"
   ]
  },
  {
   "cell_type": "markdown",
   "metadata": {
    "deletable": true,
    "editable": true
   },
   "source": [
    "- Bakcground Cube"
   ]
  },
  {
   "cell_type": "code",
   "execution_count": 27,
   "metadata": {
    "collapsed": false,
    "deletable": true,
    "editable": true
   },
   "outputs": [],
   "source": [
    "filename = cube_directory+\"/bkg_cube.fits\"\n",
    "bkg_3d = SkyCube.read(filename)\n",
    "bkg = TableModel('bkg')\n",
    "bkg.load(None, bkg_3d.data.value.ravel())\n",
    "bkg.ampl = 1\n",
    "bkg.ampl.freeze()"
   ]
  },
  {
   "cell_type": "markdown",
   "metadata": {
    "deletable": true,
    "editable": true
   },
   "source": [
    "- Exposure Cube"
   ]
  },
  {
   "cell_type": "code",
   "execution_count": 28,
   "metadata": {
    "collapsed": true,
    "deletable": true,
    "editable": true
   },
   "outputs": [],
   "source": [
    "filename = cube_directory+\"/exposure_cube.fits\"\n",
    "exposure_3d = SkyCube.read(filename)\n",
    "i_nan = np.where(np.isnan(exposure_3d.data))\n",
    "exposure_3d.data[i_nan] = 0\n",
    "# In order to have the exposure in cm2 s\n",
    "exposure_3d.data = exposure_3d.data * 1e4"
   ]
  },
  {
   "cell_type": "markdown",
   "metadata": {
    "deletable": true,
    "editable": true
   },
   "source": [
    "- PSF Cube"
   ]
  },
  {
   "cell_type": "code",
   "execution_count": 29,
   "metadata": {
    "collapsed": false,
    "deletable": true,
    "editable": true
   },
   "outputs": [],
   "source": [
    "filename = cube_directory+\"/psf_cube.fits\"\n",
    "psf_3d = SkyCube.read(filename)"
   ]
  },
  {
   "cell_type": "markdown",
   "metadata": {
    "deletable": true,
    "editable": true
   },
   "source": [
    "### Setup Combined spatial and spectral model"
   ]
  },
  {
   "cell_type": "code",
   "execution_count": 30,
   "metadata": {
    "collapsed": true,
    "deletable": true,
    "editable": true
   },
   "outputs": [],
   "source": [
    "#Define a 2D gaussian for the spatial model\n",
    "spatial_model = NormGauss2DInt('spatial-model')\n",
    "#Define a power law for the spectral model\n",
    "spectral_model = PowLaw1D('spectral-model')\n",
    "\n",
    "#Combine spectral and spatial model\n",
    "coord = counts_3d.sky_image_ref.coordinates(mode=\"edges\")\n",
    "energies = counts_3d.energies(mode='edges').to(\"TeV\")\n",
    "#Here the source model will be convolve by the psf: PSF*(source_model*exposure)\n",
    "source_model = CombinedModel3DInt(coord=coord, energies=energies, use_psf=True, exposure=exposure_3d, psf=psf_3d,\n",
    "                                      spatial_model=spatial_model, spectral_model=spectral_model)"
   ]
  },
  {
   "cell_type": "markdown",
   "metadata": {
    "deletable": true,
    "editable": true
   },
   "source": [
    "### Set starting value"
   ]
  },
  {
   "cell_type": "code",
   "execution_count": 31,
   "metadata": {
    "collapsed": true,
    "deletable": true,
    "editable": true
   },
   "outputs": [],
   "source": [
    "center = SkyCoord(83.633083, 22.0145, unit=\"deg\").galactic\n",
    "source_model.gamma = 2.2\n",
    "source_model.xpos = center.l.value\n",
    "source_model.ypos = center.b.value\n",
    "source_model.fwhm = 0.12\n",
    "source_model.ampl = 1.0"
   ]
  },
  {
   "cell_type": "markdown",
   "metadata": {
    "deletable": true,
    "editable": true
   },
   "source": [
    "### Fit"
   ]
  },
  {
   "cell_type": "code",
   "execution_count": 32,
   "metadata": {
    "collapsed": false,
    "deletable": true,
    "editable": true
   },
   "outputs": [],
   "source": [
    "#Define the model\n",
    "model = bkg + 1E-11 * (source_model)\n",
    "#Fit to the counts Cube sherpa object\n",
    "fit = Fit(data=cube, model=model, stat=Cash(), method=NelderMead(), estmethod=Covariance())\n",
    "result = fit.fit()\n",
    "err=fit.est_errors()"
   ]
  },
  {
   "cell_type": "code",
   "execution_count": 33,
   "metadata": {
    "collapsed": false,
    "deletable": true,
    "editable": true
   },
   "outputs": [
    {
     "name": "stdout",
     "output_type": "stream",
     "text": [
      "datasets    = None\n",
      "methodname  = covariance\n",
      "iterfitname = none\n",
      "fitname     = neldermead\n",
      "statname    = cash\n",
      "sigma       = 1\n",
      "percent     = 68.2689492137\n",
      "parnames    = (u'spatial-model.xpos', u'spatial-model.ypos', u'spatial-model.ampl', u'spatial-model.fwhm', 'spectral-model.gamma')\n",
      "parvals     = (184.19524957441664, -6.1693008203971562, 6.1666646581766011, 0.076340497278248376, 2.3059120375493234)\n",
      "parmins     = (-0.012831726563911265, -0.012463553183229555, -0.30893010240483937, -0.018826651718713557, -0.059934915469270683)\n",
      "parmaxes    = (0.012831726563911265, 0.012463553183229555, 0.30893010240483937, 0.018826651718713557, 0.059934915469270683)\n",
      "nfits       = 0\n"
     ]
    }
   ],
   "source": [
    "print(err)"
   ]
  },
  {
   "cell_type": "markdown",
   "metadata": {
    "deletable": true,
    "editable": true
   },
   "source": [
    "## Add an exlusion mask for the Fit\n",
    "For example if you want to exclude a region in the FoV of your cube, you just have to provide a SkyCube with the same dimension than the Counts cube and with 0 in the region you want to exlude and 1 outside. With this SkyCube mask you can select only some energy band for the fit or just some spatial region whatever the energy band or both."
   ]
  },
  {
   "cell_type": "markdown",
   "metadata": {
    "deletable": true,
    "editable": true
   },
   "source": [
    "### Define the mask\n",
    "Here this is a test case, there is no source to exlude in our FOV but we will create a mask that remove some events from the source. You just see at the end that the amplitude fitted in the 3D analysis is lower than the one when you use all the events from the Crab. The principle works even if this is not usefull here, just a testcase."
   ]
  },
  {
   "cell_type": "code",
   "execution_count": 34,
   "metadata": {
    "collapsed": false,
    "deletable": true,
    "editable": true
   },
   "outputs": [],
   "source": [
    "exclusion_region = CircleSkyRegion(SkyCoord(83.60, 21.88, unit='deg'), Angle(0.1, \"deg\"))\n",
    "sky_mask_cube=SkyCube.empty_like(counts_3d)\n",
    "energies = sky_mask_cube.energies(mode='edges').to(\"TeV\")\n",
    "coord_center_pix = sky_mask_cube.sky_image_ref.coordinates(mode=\"center\").icrs\n",
    "lon = np.tile(coord_center_pix.data.lon.degree, (len(energies) - 1, 1, 1))\n",
    "lat = np.tile(coord_center_pix.data.lat.degree, (len(energies) - 1, 1, 1))\n",
    "coord_3d_center_pix = SkyCoord(lon, lat, unit=\"deg\")\n",
    "index_excluded_region = np.where(\n",
    "        (exclusion_region.center).separation(coord_3d_center_pix) < exclusion_region.radius)\n",
    "#0 in the region you want to exclude and 1 outside\n",
    "sky_mask_cube.data.value[:] = 1\n",
    "sky_mask_cube.data.value[index_excluded_region] = 0\n",
    "index_region_selected_3d = np.where(sky_mask_cube.data.value == 1)"
   ]
  },
  {
   "cell_type": "markdown",
   "metadata": {
    "deletable": true,
    "editable": true
   },
   "source": [
    "Add the mask to the data"
   ]
  },
  {
   "cell_type": "code",
   "execution_count": 35,
   "metadata": {
    "collapsed": true,
    "deletable": true,
    "editable": true
   },
   "outputs": [],
   "source": [
    "# Set the counts\n",
    "cube = counts_3d.to_sherpa_data3d(dstype='Data3DInt')\n",
    "cube.mask = sky_mask_cube.data.value.ravel()"
   ]
  },
  {
   "cell_type": "markdown",
   "metadata": {
    "deletable": true,
    "editable": true
   },
   "source": [
    "Select only the background pixels of the Cube of the selected region to create the background model"
   ]
  },
  {
   "cell_type": "code",
   "execution_count": 36,
   "metadata": {
    "collapsed": true,
    "deletable": true,
    "editable": true
   },
   "outputs": [],
   "source": [
    "# Set the bkg and select only the data points of the selected region\n",
    "bkg = TableModel('bkg')\n",
    "bkg.load(None, bkg_3d.data.value[index_region_selected_3d].ravel())\n",
    "bkg.ampl = 1\n",
    "bkg.ampl.freeze()\n"
   ]
  },
  {
   "cell_type": "markdown",
   "metadata": {
    "deletable": true,
    "editable": true
   },
   "source": [
    "Add the indices of the selected region of the Cube to combine the model"
   ]
  },
  {
   "cell_type": "code",
   "execution_count": 37,
   "metadata": {
    "collapsed": true,
    "deletable": true,
    "editable": true
   },
   "outputs": [],
   "source": [
    "# The model is evaluated on all the points then it is compared with the data only on the selected_region\n",
    "source_model = CombinedModel3DInt(coord=coord, energies=energies, use_psf=True, exposure=exposure_3d, psf=psf_3d,\n",
    "                                      spatial_model=spatial_model, spectral_model=spectral_model, select_region=True,\n",
    "                                      index_selected_region=index_region_selected_3d)\n",
    "# Set starting values\n",
    "source_model.gamma = 2.2\n",
    "source_model.xpos = center.l.value\n",
    "source_model.ypos = center.b.value\n",
    "source_model.fwhm = 0.12\n",
    "source_model.ampl = 1.0\n",
    "\n",
    "# Fit\n",
    "model = bkg + 1E-11 * (source_model)\n",
    "fit = Fit(data=cube, model=model, stat=Cash(), method=NelderMead(), estmethod=Covariance())\n",
    "result = fit.fit()\n",
    "err=fit.est_errors()"
   ]
  },
  {
   "cell_type": "markdown",
   "metadata": {
    "deletable": true,
    "editable": true
   },
   "source": [
    "The fitted flux is less than in the previous example since here the mask remove some events from the Crab"
   ]
  },
  {
   "cell_type": "code",
   "execution_count": 38,
   "metadata": {
    "collapsed": false,
    "deletable": true,
    "editable": true
   },
   "outputs": [
    {
     "name": "stdout",
     "output_type": "stream",
     "text": [
      "datasets    = None\n",
      "methodname  = covariance\n",
      "iterfitname = none\n",
      "fitname     = neldermead\n",
      "statname    = cash\n",
      "sigma       = 1\n",
      "percent     = 68.2689492137\n",
      "parnames    = (u'spatial-model.xpos', u'spatial-model.ypos', u'spatial-model.ampl', u'spatial-model.fwhm', 'spectral-model.gamma')\n",
      "parvals     = (184.20146538191321, -6.1600047997645975, 5.4193056837212374, 0.08635929788659219, 2.2979723660330258)\n",
      "parmins     = (-0.018445964718895265, -0.012571297632706941, -0.29632427116507004, -0.021736889307133158, -0.065042149296143173)\n",
      "parmaxes    = (0.018445964718895265, 0.012571297632706941, 0.29632427116507004, 0.021736889307133158, 0.065042149296143173)\n",
      "nfits       = 0\n"
     ]
    }
   ],
   "source": [
    "print(err)"
   ]
  },
  {
   "cell_type": "markdown",
   "metadata": {
    "deletable": true,
    "editable": true
   },
   "source": [
    "## 3D analysis taking into account the energy dispersion"
   ]
  },
  {
   "cell_type": "code",
   "execution_count": 39,
   "metadata": {
    "collapsed": true,
    "deletable": true,
    "editable": true
   },
   "outputs": [],
   "source": [
    "# Set the counts\n",
    "filename = cube_directory+\"/counts_cube.fits\"\n",
    "counts_3d = SkyCube.read(filename)\n",
    "cube = counts_3d.to_sherpa_data3d(dstype='Data3DInt')\n",
    "\n",
    "# Set the bkg\n",
    "filename = cube_directory+\"/bkg_cube.fits\"\n",
    "bkg_3d = SkyCube.read(filename)\n",
    "bkg = TableModel('bkg')\n",
    "bkg.load(None, bkg_3d.data.value.ravel())\n",
    "bkg.ampl = 1\n",
    "bkg.ampl.freeze()\n",
    "\n",
    "# Set the exposure\n",
    "filename = cube_directory+\"/exposure_cube_etrue.fits\"\n",
    "exposure_3d = SkyCube.read(filename)\n",
    "i_nan = np.where(np.isnan(exposure_3d.data))\n",
    "exposure_3d.data[i_nan] = 0\n",
    "exposure_3d.data = exposure_3d.data * 1e4\n",
    "\n",
    "# Set the mean psf model\n",
    "filename = cube_directory+\"/psf_cube_etrue.fits\"\n",
    "psf_3d = SkyCube.read(filename)"
   ]
  },
  {
   "cell_type": "markdown",
   "metadata": {
    "deletable": true,
    "editable": true
   },
   "source": [
    "### Load the mean rmf calculated for the 4 Crab runs"
   ]
  },
  {
   "cell_type": "code",
   "execution_count": 40,
   "metadata": {
    "collapsed": false,
    "deletable": true,
    "editable": true
   },
   "outputs": [],
   "source": [
    "filename = cube_directory+\"/rmf.fits\"\n",
    "rmf = EnergyDispersion.read(filename)"
   ]
  },
  {
   "cell_type": "code",
   "execution_count": 43,
   "metadata": {
    "collapsed": true,
    "deletable": true,
    "editable": true
   },
   "outputs": [],
   "source": [
    "# Setup combined spatial and spectral model\n",
    "spatial_model = NormGauss2DInt('spatial-model')\n",
    "spectral_model = PowLaw1D('spectral-model')"
   ]
  },
  {
   "cell_type": "markdown",
   "metadata": {
    "deletable": true,
    "editable": true
   },
   "source": [
    "### Add the mean RMF to the Combine3DInt object \n",
    "\n",
    "The model is evaluated on the true energy bin then it is convolved by the energy dispersion to compare to the counts data in reconstructed energy"
   ]
  },
  {
   "cell_type": "code",
   "execution_count": 44,
   "metadata": {
    "collapsed": false,
    "deletable": true,
    "editable": true
   },
   "outputs": [
    {
     "name": "stdout",
     "output_type": "stream",
     "text": [
      "datasets    = None\n",
      "methodname  = covariance\n",
      "iterfitname = none\n",
      "fitname     = neldermead\n",
      "statname    = cash\n",
      "sigma       = 1\n",
      "percent     = 68.2689492137\n",
      "parnames    = (u'spatial-model.xpos', u'spatial-model.ypos', u'spatial-model.ampl', u'spatial-model.fwhm', 'spectral-model.gamma')\n",
      "parvals     = (184.19189525423425, -6.1758238877562386, 6.2283155506945755, 0.071013932890499717, 2.2685809241308674)\n",
      "parmins     = (-0.011736215022357116, -0.013746467389135797, -0.31228634396780269, -0.020653652043090193, -0.051506896577267751)\n",
      "parmaxes    = (0.011736215022357116, 0.013746467389135797, 0.31228634396780269, 0.020653652043090193, 0.051506896577267751)\n",
      "nfits       = 0\n"
     ]
    }
   ],
   "source": [
    "coord = counts_3d.sky_image_ref.coordinates(mode=\"edges\")\n",
    "energies = counts_3d.energies(mode='edges').to(\"TeV\")\n",
    "source_model = CombinedModel3DIntConvolveEdisp(coord=coord, energies=energies, use_psf=True, exposure=exposure_3d,\n",
    "                                                   psf=psf_3d,\n",
    "                                                   spatial_model=spatial_model, spectral_model=spectral_model,\n",
    "                                                   edisp=rmf.data.data)\n",
    "\n",
    "# Set starting values\n",
    "center = SkyCoord(83.633083, 22.0145, unit=\"deg\").galactic\n",
    "source_model.gamma = 2.2\n",
    "source_model.xpos = center.l.value\n",
    "source_model.ypos = center.b.value\n",
    "source_model.fwhm = 0.12\n",
    "source_model.ampl = 1.0\n",
    "\n",
    "# Fit\n",
    "model = bkg + 1E-11 * (source_model)\n",
    "fit = Fit(data=cube, model=model, stat=Cash(), method=NelderMead(), estmethod=Covariance())\n",
    "result = fit.fit()\n",
    "result = fit.fit()\n",
    "err=fit.est_errors()\n",
    "print(err)"
   ]
  },
  {
   "cell_type": "markdown",
   "metadata": {
    "deletable": true,
    "editable": true
   },
   "source": [
    "Here the Cubes are constructed from dummy data. We don't expect to find the good spectral shape or amplitude since there is a lot of problem with the PFS, rmf etc.. in these dummy data.\n",
    "On real data, we find the good Crab position and spectral shape for a power law or a power law with an exponential cutoff...."
   ]
  }
 ],
 "metadata": {
  "kernelspec": {
   "display_name": "Python 2",
   "language": "python",
   "name": "python2"
  },
  "language_info": {
   "codemirror_mode": {
    "name": "ipython",
    "version": 2
   },
   "file_extension": ".py",
   "mimetype": "text/x-python",
   "name": "python",
   "nbconvert_exporter": "python",
   "pygments_lexer": "ipython2",
   "version": "2.7.13"
  }
 },
 "nbformat": 4,
 "nbformat_minor": 2
}
