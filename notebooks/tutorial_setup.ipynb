{
 "cells": [
  {
   "cell_type": "markdown",
   "metadata": {},
   "source": [
    "# Gammapy tutorial setup\n",
    "\n",
    "This notebook explains how to get set up to execute the Gammapy tutorials locally on your machine.\n",
    "\n",
    "## Short version\n",
    "\n",
    "If you're familiar with git, Python, Jupyter notebooks and you're using conda, here's the short version of the commands you need to execute to get set up.\n",
    "\n",
    "Go to some location where you have ~ 1 GB of disk space:\n",
    "```\n",
    "cd <scratch>\n",
    "```\n",
    "\n",
    "Install some dependencies:\n",
    "```\n",
    "conda install -c astropy regions\n",
    "conda install -c sherpa sherpa\n",
    "```\n",
    "\n",
    "Install the development version of Gammapy (the latest and greatest!):\n",
    "```\n",
    "git clone https://github.com/gammapy/gammapy.git\n",
    "cd gammapy\n",
    "python -m pip install .\n",
    "```\n",
    "\n",
    "Get the `gammapy-extra` repo with example datasets and the notebooks:\n",
    "```\n",
    "cd ..\n",
    "git clone https://github.com/gammapy/gammapy-extra.git\n",
    "cd gammapy-extra/notebooks\n",
    "```\n",
    "\n",
    "Start the notebooks using one of the following commands (depends a bit on how you installed it):\n",
    "```\n",
    "jupyter-notebook\n",
    "jupyter notebook\n",
    "ipython notebook\n",
    "```\n",
    "\n",
    "## Detailed version\n",
    "\n",
    "tbd"
   ]
  }
 ],
 "metadata": {
  "kernelspec": {
   "display_name": "Python 2",
   "language": "python",
   "name": "python2"
  },
  "language_info": {
   "codemirror_mode": {
    "name": "ipython",
    "version": 2
   },
   "file_extension": ".py",
   "mimetype": "text/x-python",
   "name": "python",
   "nbconvert_exporter": "python",
   "pygments_lexer": "ipython2",
   "version": "2.7.13"
  }
 },
 "nbformat": 4,
 "nbformat_minor": 2
}
