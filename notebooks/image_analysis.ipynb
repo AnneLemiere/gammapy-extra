{
 "cells": [
  {
   "cell_type": "markdown",
   "metadata": {},
   "source": [
    "# Image analysis with Gammapy\n",
    "\n",
    "## Introduction\n",
    "\n",
    "This tutorial shows how to make a significance image of the Crab nebula with Gammapy.\n",
    "\n",
    "The `SkyImage.plot` method uses [wcsaxes](http://wcsaxes.readthedocs.io/en/latest/), so you should install that.\n",
    "\n",
    "* Use the [gammapy.data.DataStore](http://docs.gammapy.org/en/latest/api/gammapy.data.DataStore.html)\n",
    "  to load [gammapy.data.EventList](http://docs.gammapy.org/en/latest/api/gammapy.data.EventList.html) data.\n",
    "* Fill the events in a [gammapy.image.SkyImage](http://docs.gammapy.org/en/latest/api/gammapy.image.SkyImage.html)\n",
    "\n",
    "\n",
    "* We'll use the [astropy.convolution.Tophat2DKernel](http://docs.astropy.org/en/latest/api/astropy.convolution.Tophat2DKernel.html) and \n",
    " [astropy.convolution.Ring2DKernel](http://docs.astropy.org/en/latest/api/astropy.convolution.Ring2DKernel.html) kernels and the [gammapy.detect.KernelBackgroundEstimator](http://docs.gammapy.org/en/latest/api/gammapy.detect.KernelBackgroundEstimator.html) to estimate the background.\n",
    "* Run [gammapy.scripts.StackedObsImageMaker](http://docs.gammapy.org/en/latest/api/gammapy.scripts.StackedObsImageMaker.html) to get images and PSF.\n",
    "\n",
    "\n",
    "TODO: Refactor [gammapy.scripts.image_fit](http://docs.gammapy.org/en/latest/api/gammapy.scripts.image_fit.html) into a class (simiar to `gammapy.spectrum.SpectrumFit`) and run it here to fit a Gauss and get the position / extension."
   ]
  },
  {
   "cell_type": "markdown",
   "metadata": {},
   "source": [
    "## Setup\n",
    "\n",
    "As usual, IPython notebooks start with some setup and Python imports"
   ]
  },
  {
   "cell_type": "code",
   "execution_count": null,
   "metadata": {
    "collapsed": true
   },
   "outputs": [],
   "source": [
    "%matplotlib inline\n",
    "import numpy as np\n",
    "import matplotlib.pyplot as plt\n",
    "plt.style.use('ggplot')"
   ]
  },
  {
   "cell_type": "code",
   "execution_count": null,
   "metadata": {
    "collapsed": false
   },
   "outputs": [],
   "source": [
    "import wcsaxes # not used directly, just to make sure it's installed\n",
    "\n",
    "import astropy.units as u\n",
    "from astropy.coordinates import SkyCoord\n",
    "from astropy.convolution import Ring2DKernel, Tophat2DKernel\n",
    "\n",
    "from gammapy.data import DataStore\n",
    "from gammapy.image import SkyImage, SkyImageList\n",
    "from gammapy.detect import KernelBackgroundEstimator as KBE"
   ]
  },
  {
   "cell_type": "markdown",
   "metadata": {},
   "source": [
    "## Dataset\n",
    "\n",
    "We will use the `gammapy.data.DataStore` to access some example data.\n",
    "\n",
    "These are observations of the Crab nebula with H.E.S.S. (preliminary, events are simulated for now)."
   ]
  },
  {
   "cell_type": "code",
   "execution_count": null,
   "metadata": {
    "collapsed": false
   },
   "outputs": [],
   "source": [
    "data_store = DataStore.from_dir('$GAMMAPY_EXTRA/datasets/hess-crab4-hd-hap-prod2/')"
   ]
  },
  {
   "cell_type": "markdown",
   "metadata": {},
   "source": [
    "## Counts image\n",
    "\n",
    "Let's make a counts image using the `SkyMap` class."
   ]
  },
  {
   "cell_type": "code",
   "execution_count": null,
   "metadata": {
    "collapsed": false
   },
   "outputs": [],
   "source": [
    "source_pos = SkyCoord(83.633083, 22.0145, unit='deg')\n",
    "# If you have internet access, you could also use this to define the `source_pos`:\n",
    "# source_pos = SkyCoord.from_name('crab')\n",
    "print(source_pos)"
   ]
  },
  {
   "cell_type": "code",
   "execution_count": null,
   "metadata": {
    "collapsed": false
   },
   "outputs": [],
   "source": [
    "ref_image = SkyImage.empty(\n",
    "    nxpix=400, nypix=400, binsz=0.02,\n",
    "    xref=source_pos.ra.deg, yref=source_pos.dec.deg,\n",
    "    coordsys='CEL', proj='TAN',\n",
    ")"
   ]
  },
  {
   "cell_type": "code",
   "execution_count": null,
   "metadata": {
    "collapsed": false
   },
   "outputs": [],
   "source": [
    "# Make a counts image for a single observation\n",
    "events = data_store.obs(obs_id=23523).events\n",
    "counts_image = SkyImage.empty_like(ref_image)\n",
    "counts_image.fill_events(events)"
   ]
  },
  {
   "cell_type": "code",
   "execution_count": null,
   "metadata": {
    "collapsed": false
   },
   "outputs": [],
   "source": [
    "norm = counts_image.plot_norm(stretch='sqrt', min_cut=0, max_cut=0.3)\n",
    "counts_image.smooth(width=3).plot(norm=norm, add_cbar=True)"
   ]
  },
  {
   "cell_type": "code",
   "execution_count": null,
   "metadata": {
    "collapsed": false
   },
   "outputs": [],
   "source": [
    "# Making a counts image for multiple observations is a bit inconvenient at the moment\n",
    "# we'll make that better soon.\n",
    "# For now, you can do it like this:\n",
    "obs_ids = [23523, 23526]\n",
    "counts_image2 = SkyImage.empty_like(ref_image)\n",
    "for obs_id in obs_ids:\n",
    "    events = data_store.obs(obs_id=obs_id).events\n",
    "    counts_image2.fill_events(events)"
   ]
  },
  {
   "cell_type": "code",
   "execution_count": null,
   "metadata": {
    "collapsed": false
   },
   "outputs": [],
   "source": [
    "norm = counts_image2.plot_norm(stretch='sqrt', min_cut=0, max_cut=0.5)\n",
    "counts_image2.smooth(width=3).plot(norm=norm, add_cbar=True)"
   ]
  },
  {
   "cell_type": "markdown",
   "metadata": {},
   "source": [
    "# Background modeling\n",
    "\n",
    "In Gammapy a few different methods to estimate the background are available.\n",
    "\n",
    "Here we'll use the [gammapy.detect.KernelBackgroundEstimator](http://docs.gammapy.org/en/latest/api/gammapy.detect.KernelBackgroundEstimator.html) to make a background image\n",
    "and the make a significance image."
   ]
  },
  {
   "cell_type": "code",
   "execution_count": null,
   "metadata": {
    "collapsed": false
   },
   "outputs": [],
   "source": [
    "source_kernel = Tophat2DKernel(radius=5)\n",
    "source_kernel.normalize(mode='peak')\n",
    "source_kernel = source_kernel.array\n",
    "\n",
    "background_kernel = Ring2DKernel(radius_in=20, width=10)\n",
    "background_kernel.normalize(mode='peak')\n",
    "background_kernel = background_kernel.array"
   ]
  },
  {
   "cell_type": "code",
   "execution_count": null,
   "metadata": {
    "collapsed": false
   },
   "outputs": [],
   "source": [
    "plt.imshow(source_kernel, interpolation='nearest', cmap='gray')\n",
    "plt.colorbar()\n",
    "plt.grid('off')"
   ]
  },
  {
   "cell_type": "code",
   "execution_count": null,
   "metadata": {
    "collapsed": false
   },
   "outputs": [],
   "source": [
    "plt.imshow(background_kernel, interpolation='nearest', cmap='gray')\n",
    "plt.colorbar()\n",
    "plt.grid('off')"
   ]
  },
  {
   "cell_type": "code",
   "execution_count": null,
   "metadata": {
    "collapsed": false
   },
   "outputs": [],
   "source": [
    "# To use the `KernelBackgroundEstimator` you first have to set\n",
    "# up a source and background kernel and put the counts image input\n",
    "# into a container `SkyImageList` class.\n",
    "images = SkyImageList()\n",
    "images['counts'] = counts_image2\n",
    "\n",
    "kbe = KBE(\n",
    "    kernel_src=source_kernel,\n",
    "    kernel_bkg=background_kernel,\n",
    "    significance_threshold=5,\n",
    "    mask_dilation_radius=0.06 * u.deg,\n",
    ")\n",
    "# This takes about 10 seconds on my machine\n",
    "result = kbe.run(images)"
   ]
  },
  {
   "cell_type": "code",
   "execution_count": null,
   "metadata": {
    "collapsed": false
   },
   "outputs": [],
   "source": [
    "# Let's have a look at the background image and the exclusion mask\n",
    "\n",
    "# This doesn't work yet ... need to do SkyImage.plot fixes:\n",
    "# fig, axes = plt.subplots(nrows=1, ncols=3, figsize=(10, 3))\n",
    "# background_image.plot(ax=axes[0])\n",
    "# exclusion_image.plot(ax=axes[1])\n",
    "# significance_image.plot(ax=axes[2])"
   ]
  },
  {
   "cell_type": "code",
   "execution_count": null,
   "metadata": {
    "collapsed": false
   },
   "outputs": [],
   "source": [
    "background_image = result['background']\n",
    "norm = background_image.plot_norm(stretch='sqrt', min_cut=0, max_cut=0.5)\n",
    "background_image.plot(norm=norm, add_cbar=True)"
   ]
  },
  {
   "cell_type": "code",
   "execution_count": null,
   "metadata": {
    "collapsed": false
   },
   "outputs": [],
   "source": [
    "result['exclusion'].plot()"
   ]
  },
  {
   "cell_type": "code",
   "execution_count": null,
   "metadata": {
    "collapsed": false
   },
   "outputs": [],
   "source": [
    "significance_image = result['significance']\n",
    "norm = significance_image.plot_norm(stretch='linear', min_cut=-3, max_cut=20)\n",
    "significance_image.plot(norm=norm, add_cbar=True)"
   ]
  },
  {
   "cell_type": "markdown",
   "metadata": {},
   "source": [
    "## Morphology fit\n",
    "\n",
    "TODO"
   ]
  },
  {
   "cell_type": "code",
   "execution_count": null,
   "metadata": {
    "collapsed": true
   },
   "outputs": [],
   "source": [
    "# from gammapy.scripts import image_fit"
   ]
  },
  {
   "cell_type": "markdown",
   "metadata": {},
   "source": [
    "## Exercises\n",
    "\n",
    "- Compute the counts, excess, background and significance at the Crab nebula position.\n",
    "- Make an energy distribution of the events at the Crab nebula position."
   ]
  },
  {
   "cell_type": "code",
   "execution_count": null,
   "metadata": {
    "collapsed": false
   },
   "outputs": [],
   "source": []
  },
  {
   "cell_type": "markdown",
   "metadata": {
    "collapsed": false
   },
   "source": [
    "## What next?\n",
    "\n",
    "TODO: summarise\n",
    "\n",
    "TODO: give links what to do next."
   ]
  }
 ],
 "metadata": {
  "kernelspec": {
   "display_name": "Python 3",
   "language": "python",
   "name": "python3"
  },
  "language_info": {
   "codemirror_mode": {
    "name": "ipython",
    "version": 3
   },
   "file_extension": ".py",
   "mimetype": "text/x-python",
   "name": "python",
   "nbconvert_exporter": "python",
   "pygments_lexer": "ipython3",
   "version": "3.5.2"
  }
 },
 "nbformat": 4,
 "nbformat_minor": 0
}
