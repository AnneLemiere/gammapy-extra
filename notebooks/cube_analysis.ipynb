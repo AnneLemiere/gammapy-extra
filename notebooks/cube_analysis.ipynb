{
 "cells": [
  {
   "cell_type": "markdown",
   "metadata": {
    "deletable": true,
    "editable": true
   },
   "source": [
    "# Cube analysis with Gammapy\n",
    "\n",
    "## Introduction \n",
    "In order to run a 3D analysis (spectral+morphology), you have to construct the counts cube, the bkg cube, the exposure cube, a mean PSF cube and a mean RMF.\n",
    "\n",
    "In this tutorial we'll learn how to use [gammapy.cube](http://docs.gammapy.org/en/latest/cube/index.html) to run cube analyses with Gammapy\n",
    "\n",
    "We will learn:\n",
    "- How to compute the counts, the bkg, the exposure, the excess and the significance cube.\n",
    "\n",
    "    It will use:\n",
    "        \n",
    "    [gammapy.data.DataStore](http://docs.gammapy.org/en/latest/api/gammapy.data.DataStore.html) to load the data to stack in the cube\n",
    " \n",
    "    [gammapy.image.SkyMask](http://docs.gammapy.org/en/latest/api/gammapy.image.SkyMask.html) for computing the BKG model \n",
    "\n",
    "    [gammapy.cube.SkyCube](http://docs.gammapy.org/en/latest/api/gammapy.cube.SkyCube.html) and [gammapy.cube.StackedObsCubeMaker](http://docs.gammapy.org/en/latest/api/gammapy.cube.StackedObsCubeMaker.html) to stack the data in the Cube\n",
    "\n",
    "- How to compute the mean PSF cube and mean rmf for a set of runs used in the 3D analysis\n",
    "\n",
    "  It will use the methods in [gammapy.data.ObservationList](http://docs.gammapy.org/en/latest/api/gammapy.data.ObservationList.html) to make the computation of the mean PSF and mean RMF from a set of runs\n",
    " \n",
    "\n"
   ]
  },
  {
   "cell_type": "markdown",
   "metadata": {
    "collapsed": true,
    "deletable": true,
    "editable": true
   },
   "source": [
    "## Import"
   ]
  },
  {
   "cell_type": "code",
   "execution_count": 68,
   "metadata": {
    "collapsed": false,
    "deletable": true,
    "editable": true
   },
   "outputs": [],
   "source": [
    "import numpy as np\n",
    "import os\n",
    "import astropy.units as u\n",
    "from astropy.coordinates import SkyCoord, Angle\n",
    "from gammapy.data import DataStore, ObservationList\n",
    "from gammapy.image import SkyMask\n",
    "from gammapy.cube import SkyCube, StackedObsCubeMaker\n",
    "from gammapy.utils.energy import Energy, EnergyBounds\n",
    "from gammapy.irf import TablePSF\n",
    "from astropy.units import Quantity\n",
    "from gammapy.background import fill_acceptance_image\n",
    "from gammapy.extern.pathlib import Path\n",
    "\n"
   ]
  },
  {
   "cell_type": "markdown",
   "metadata": {
    "deletable": true,
    "editable": true
   },
   "source": [
    "## Define a method to create an empty SkyCube"
   ]
  },
  {
   "cell_type": "code",
   "execution_count": 69,
   "metadata": {
    "collapsed": true,
    "deletable": true,
    "editable": true
   },
   "outputs": [],
   "source": [
    "def make_empty_cube(image_size, energy, center, data_unit=None):\n",
    "    \"\"\"\n",
    "    Parameters\n",
    "    ----------\n",
    "    image_size:int, Total number of pixel of the 2D map\n",
    "    energy: Tuple for the energy axis: (Emin,Emax,nbins)\n",
    "    center: SkyCoord of the source\n",
    "    unit : str, Data unit.\n",
    "    \"\"\"\n",
    "    def_image = dict()\n",
    "    def_image[\"nxpix\"] = image_size\n",
    "    def_image[\"nypix\"] = image_size\n",
    "    def_image[\"binsz\"] = 0.02\n",
    "    def_image[\"xref\"] = center.galactic.l.deg\n",
    "    def_image[\"yref\"] = center.galactic.b.deg\n",
    "    def_image[\"proj\"] = 'TAN'\n",
    "    def_image[\"coordsys\"] = 'GAL'\n",
    "    def_image[\"unit\"] = data_unit\n",
    "    e_min, e_max, nbins = energy\n",
    "    empty_cube = SkyCube.empty(emin=e_min.value, emax=e_max.value, enumbins=nbins, eunit=e_min.unit, mode='edges',\n",
    "                               **def_image)\n",
    "    return empty_cube\n"
   ]
  },
  {
   "cell_type": "markdown",
   "metadata": {
    "deletable": true,
    "editable": true
   },
   "source": [
    "## Compute Cubes assuming that the reconstructed energy is the same than the true energy\n",
    "\n",
    "### Compute Counts, background, significance, excess and exposure Cube"
   ]
  },
  {
   "cell_type": "markdown",
   "metadata": {
    "deletable": true,
    "editable": true
   },
   "source": [
    "Load the data we will stack in the cube. Here we take the data from gammapy-extra with the 4 crab runs in which the hdu_table contains a link to a background model. We will define a Cube that is center on the Crab position extending to 0.5 degree around this position.\n",
    "\n",
    "You can for example take the dataset directory we juste created with the background_model.ipynb notebook with a hdu table that has a link for each run to the background models we just created with this notebook. You just have to replace the dataset_directory by cwd+\"/data\"."
   ]
  },
  {
   "cell_type": "code",
   "execution_count": 70,
   "metadata": {
    "collapsed": false,
    "deletable": true,
    "editable": true
   },
   "outputs": [],
   "source": [
    "#data_store containing the observations you will stack in the cube\n",
    "dataset_directory=\"$GAMMAPY_EXTRA/test_datasets/cube/data\"\n",
    "#cwd=os.getcwd()\n",
    "#dataset_directory=cwd+\"/data\"\n",
    "data_store = DataStore.from_dir(dataset_directory)"
   ]
  },
  {
   "cell_type": "markdown",
   "metadata": {
    "deletable": true,
    "editable": true
   },
   "source": [
    "You define the Cube in which you want to stack the data: center, (x,y) pixels and energy bins"
   ]
  },
  {
   "cell_type": "code",
   "execution_count": 71,
   "metadata": {
    "collapsed": true,
    "deletable": true,
    "editable": true
   },
   "outputs": [],
   "source": [
    "ereco = [Energy(0.5, \"TeV\"), Energy(40, \"TeV\"), 5]\n",
    "etrue = ereco\n",
    "\n",
    "center = SkyCoord(83.63, 22.01, unit='deg').galactic\n",
    "\n",
    "#Cube to store the data, here ereco=etrue so this is the same for the counts, the bkg or the exposure\n",
    "ref_cube_images = make_empty_cube(image_size=50, energy=ereco, center=center)\n",
    "ref_cube_exposure = make_empty_cube(image_size=50, energy=etrue, center=center, data_unit=\"m2 s\")"
   ]
  },
  {
   "cell_type": "markdown",
   "metadata": {
    "deletable": true,
    "editable": true
   },
   "source": [
    "You define an exclusion mask that will be use to create the backgroud 2D map. The background map are normalized on the counts map outside the exclusion region"
   ]
  },
  {
   "cell_type": "code",
   "execution_count": null,
   "metadata": {
    "collapsed": true,
    "deletable": true,
    "editable": true
   },
   "outputs": [],
   "source": [
    "refheader = ref_cube_images.sky_image_ref.to_image_hdu().header\n",
    "exclusion_mask = SkyMask.read('$GAMMAPY_EXTRA/datasets/exclusion_masks/tevcat_exclusion.fits')\n",
    "exclusion_mask = exclusion_mask.reproject(reference=refheader)"
   ]
  },
  {
   "cell_type": "markdown",
   "metadata": {
    "deletable": true,
    "editable": true
   },
   "source": [
    "Make and write the Cubes"
   ]
  },
  {
   "cell_type": "code",
   "execution_count": null,
   "metadata": {
    "collapsed": false,
    "deletable": true,
    "editable": true
   },
   "outputs": [
    {
     "name": "stderr",
     "output_type": "stream",
     "text": [
      "WARNING: No safe energy thresholds found. Setting to default [gammapy.irf.psf_analytical]\n",
      "WARNING: No safe energy thresholds found. Setting to default [gammapy.irf.psf_analytical]\n"
     ]
    }
   ],
   "source": [
    "# Pb with the load psftable for one of the run that is not implemented yet...\n",
    "data_store.hdu_table.remove_row(14)\n",
    "#Select the offset band on which you want to select the events in the FOV of each observation\n",
    "offset_band = Angle([0, 2.49], 'deg')\n",
    "cube_maker = StackedObsCubeMaker(empty_cube_images=ref_cube_images, empty_exposure_cube=ref_cube_exposure,\n",
    "                                 offset_band=offset_band, data_store=data_store, obs_table=data_store.obs_table,\n",
    "                                 exclusion_mask=exclusion_mask, save_bkg_scale=True)\n",
    "cube_maker.make_cubes(make_background_image=True, radius=10.)\n",
    "\n",
    "filename_mask = 'exclusion_mask.fits'\n",
    "filename_counts = 'counts_cube.fits'\n",
    "filename_bkg = 'bkg_cube.fits'\n",
    "filename_significance = 'significance_cube.fits'\n",
    "filename_excess = 'excess_cube.fits'\n",
    "filename_exposure = 'exposure_cube.fits'\n",
    "exclusion_mask.write(filename_mask, clobber=True)\n",
    "cube_maker.counts_cube.write(filename_counts, format=\"fermi-counts\", clobber=True)\n",
    "cube_maker.bkg_cube.write(filename_bkg, format=\"fermi-counts\", clobber=True)\n",
    "cube_maker.significance_cube.write(filename_significance, format=\"fermi-counts\", clobber=True)\n",
    "cube_maker.excess_cube.write(filename_excess, format=\"fermi-counts\", clobber=True)\n",
    "cube_maker.exposure_cube.write(filename_exposure, format=\"fermi-counts\", clobber=True)"
   ]
  },
  {
   "cell_type": "markdown",
   "metadata": {
    "deletable": true,
    "editable": true
   },
   "source": [
    "### Some Cube images"
   ]
  },
  {
   "cell_type": "code",
   "execution_count": null,
   "metadata": {
    "collapsed": false,
    "deletable": true,
    "editable": true
   },
   "outputs": [],
   "source": [
    "energies=cube_maker.counts_cube.energies(mode=\"edges\")\n",
    "print(\"the bin edges of the count cubes \", energies)\n",
    "print(\"\")"
   ]
  },
  {
   "cell_type": "code",
   "execution_count": null,
   "metadata": {
    "collapsed": false,
    "deletable": true,
    "editable": true
   },
   "outputs": [],
   "source": [
    "import pylab as plt\n",
    "plt.ion()\n",
    "print(\"Counts image in the energy band: \"+str(\"%.2f\"%energies[0].value)+\"-\"+str(\"%.2f\"%energies[1].value)+\" TeV\")\n",
    "plt.figure()\n",
    "plt.imshow(cube_maker.counts_cube.data[0,:,:],interpolation='None')\n",
    "plt.colorbar()\n",
    "#plt.pcolor(cube_maker.counts_cube.data[0,:,:])"
   ]
  },
  {
   "cell_type": "code",
   "execution_count": null,
   "metadata": {
    "collapsed": false,
    "deletable": true,
    "editable": true
   },
   "outputs": [],
   "source": [
    "print(\"Counts image in the energy band: \"+str(\"%.2f\"%energies[3].value)+\"-\"+str(\"%.2f\"%energies[4].value)+\" TeV\")\n",
    "plt.figure()\n",
    "plt.imshow(cube_maker.counts_cube.data[3,:,:])\n",
    "plt.colorbar()"
   ]
  },
  {
   "cell_type": "code",
   "execution_count": null,
   "metadata": {
    "collapsed": false,
    "deletable": true,
    "editable": true
   },
   "outputs": [],
   "source": [
    "print(\"Bkg image in the energy band: \"+str(\"%.2f\"%energies[0].value)+\"-\"+str(\"%.2f\"%energies[1].value)+\" TeV\")\n",
    "plt.figure()\n",
    "plt.imshow(cube_maker.bkg_cube.data[0,:,:])"
   ]
  },
  {
   "cell_type": "code",
   "execution_count": null,
   "metadata": {
    "collapsed": false
   },
   "outputs": [],
   "source": [
    "print(\"Excess image in the energy band: \"+str(\"%.2f\"%energies[0].value)+\"-\"+str(\"%.2f\"%energies[1].value)+\" TeV\")\n",
    "plt.figure()\n",
    "plt.imshow(cube_maker.excess_cube.data[0,:,:],interpolation='None')\n",
    "plt.colorbar()"
   ]
  },
  {
   "cell_type": "code",
   "execution_count": null,
   "metadata": {
    "collapsed": false
   },
   "outputs": [],
   "source": [
    "print(\"Significance image in the energy band: \"+str(\"%.2f\"%energies[0].value)+\"-\"+str(\"%.2f\"%energies[1].value)+\" TeV\")\n",
    "plt.figure()\n",
    "plt.imshow(cube_maker.significance_cube.data[0,:,:],interpolation='None')\n",
    "plt.colorbar()"
   ]
  },
  {
   "cell_type": "code",
   "execution_count": null,
   "metadata": {
    "collapsed": false
   },
   "outputs": [],
   "source": [
    "print(\"Exposure image in the energy band: \"+str(\"%.2f\"%energies[0].value)+\"-\"+str(\"%.2f\"%energies[1].value)+\" TeV\")\n",
    "plt.figure()\n",
    "plt.imshow(cube_maker.exposure_cube.data[0,:,:],interpolation='None')"
   ]
  },
  {
   "cell_type": "markdown",
   "metadata": {
    "deletable": true,
    "editable": true
   },
   "source": [
    "### Build a mean psf cube from a list of observation"
   ]
  },
  {
   "cell_type": "code",
   "execution_count": null,
   "metadata": {
    "collapsed": true,
    "deletable": true,
    "editable": true
   },
   "outputs": [],
   "source": [
    "#Define a method for the mean psf from a list of observation\n",
    "def make_mean_psf_cube(image_size, energy_cube, center_maps, center, ObsList,\n",
    "                       spectral_index=2.3):\n",
    "    \"\"\"\n",
    "    Compute the mean psf for a set of observation for different energy bands\n",
    "    Parameters\n",
    "    ----------\n",
    "    image_size:int, Total number of pixel of the 2D map\n",
    "    energy: Tuple for the energy axis: (Emin,Emax,nbins)\n",
    "    center_maps: SkyCoord\n",
    "            center of the images\n",
    "    center: SkyCoord \n",
    "            position where we want to compute the psf\n",
    "    ObsList: ObservationList to use to compute the psf (could be different that the data_store for G0p9 for the GC for example)\n",
    "    spectral_index: assumed spectral index to compute the psf\n",
    "\n",
    "    Returns\n",
    "    -------\n",
    "    ref_cube : `~gammapy.cube.SkyCube`\n",
    "             PSF mean cube\n",
    "\n",
    "    \"\"\"\n",
    "    ref_cube = make_empty_cube(image_size, energy_cube, center_maps)\n",
    "    header = ref_cube.sky_image_ref.to_image_hdu().header\n",
    "    energy_bins = ref_cube.energies()\n",
    "    for i_E, E in enumerate(energy_bins[0:-1]):\n",
    "        energy_band = Energy([energy_bins[i_E].value, energy_bins[i_E + 1].value], energy_bins.unit)\n",
    "        energy = EnergyBounds.equal_log_spacing(energy_band[0].value, energy_band[1].value, 100, energy_band.unit)\n",
    "        psf_energydependent = ObsList.make_psf(center, energy, theta=None)\n",
    "        try:\n",
    "            psf_table = psf_energydependent.table_psf_in_energy_band(energy_band, spectral_index=spectral_index)\n",
    "        except:\n",
    "            psf_table = TablePSF(psf_energydependent.offset,\n",
    "                                 Quantity(np.zeros(len(psf_energydependent.offset)), u.sr ** -1))\n",
    "        ref_cube.data[i_E, :, :] = fill_acceptance_image(header, center_maps, psf_table._offset.to(\"deg\"),\n",
    "                                                         psf_table._dp_domega, psf_table._offset.to(\"deg\")[-1]).data\n",
    "    return ref_cube"
   ]
  },
  {
   "cell_type": "markdown",
   "metadata": {
    "deletable": true,
    "editable": true
   },
   "source": [
    "Make the mean PSF and write it"
   ]
  },
  {
   "cell_type": "code",
   "execution_count": null,
   "metadata": {
    "collapsed": false,
    "deletable": true,
    "editable": true
   },
   "outputs": [],
   "source": [
    "obslist = [data_store.obs(id) for id in data_store.obs_table[\"OBS_ID\"]]\n",
    "ObsList = ObservationList(obslist)\n",
    "mean_psf_cube = make_mean_psf_cube(image_size=50, energy_cube=etrue, center_maps=center, center=center,\n",
    "                                   ObsList=ObsList,\n",
    "                                   spectral_index=2.3)\n",
    "filename_psf = 'psf_cube.fits'\n",
    "mean_psf_cube.write(filename_psf, format=\"fermi-counts\", clobber=True)\n"
   ]
  },
  {
   "cell_type": "code",
   "execution_count": null,
   "metadata": {
    "collapsed": false,
    "deletable": true,
    "editable": true
   },
   "outputs": [],
   "source": [
    "energies=mean_psf_cube.energies(mode=\"edges\")\n",
    "print(\"PSF image in the energy band: \"+str(\"%.2f\"%energies[3].value)+\"-\"+str(\"%.2f\"%energies[4].value)+\" TeV\")\n",
    "plt.figure()\n",
    "plt.imshow(mean_psf_cube.data[3,:,:],interpolation='None')"
   ]
  },
  {
   "cell_type": "markdown",
   "metadata": {
    "deletable": true,
    "editable": true
   },
   "source": [
    "## Make the cube analysis assuming a true energy different than the reconstructed energy"
   ]
  },
  {
   "cell_type": "code",
   "execution_count": null,
   "metadata": {
    "collapsed": false,
    "deletable": true,
    "editable": true
   },
   "outputs": [],
   "source": [
    "#Load data\n",
    "data_store = DataStore.from_dir(dataset_directory)\n",
    "\n",
    "#Define the Cubes in reco and true energies: the counts and bkg cube are in reco energy and the exposure in true energy\n",
    "ereco = [Energy(0.5, \"TeV\"), Energy(40, \"TeV\"), 5]\n",
    "etrue = [Energy(0.1, \"TeV\"), Energy(100, \"TeV\"), 20]\n",
    "center = SkyCoord(83.63, 22.01, unit='deg').galactic\n",
    "\n",
    "ref_cube_images = make_empty_cube(image_size=50, energy=ereco, center=center)\n",
    "ref_cube_exposure = make_empty_cube(image_size=50, energy=etrue, center=center, data_unit=\"m2 s\")\n",
    "\n",
    "# Define the Exclusion Mask\n",
    "refheader = ref_cube_images.sky_image_ref.to_image_hdu().header\n",
    "exclusion_mask = SkyMask.read('$GAMMAPY_EXTRA/datasets/exclusion_masks/tevcat_exclusion.fits')\n",
    "exclusion_mask = exclusion_mask.reproject(reference=refheader)\n",
    "\n",
    "# Pb with the load psftable for one of the run that is not implemented yet...\n",
    "data_store.hdu_table.remove_row(14)\n",
    "cube_maker = StackedObsCubeMaker(empty_cube_images=ref_cube_images, empty_exposure_cube=ref_cube_exposure,\n",
    "                                 offset_band=offset_band, data_store=data_store, obs_table=data_store.obs_table,\n",
    "                                 exclusion_mask=exclusion_mask, save_bkg_scale=True)\n",
    "cube_maker.make_cubes(make_background_image=True, radius=10.)\n",
    "obslist = [data_store.obs(id) for id in data_store.obs_table[\"OBS_ID\"]]\n",
    "ObsList = ObservationList(obslist)\n",
    "\n",
    "#The PSF cube is now calculated in true energie\n",
    "mean_psf_cube = make_mean_psf_cube(image_size=50, energy_cube=etrue, center_maps=center, center=center,\n",
    "                                   ObsList=ObsList,\n",
    "                                   spectral_index=2.3)\n",
    "\n",
    "\n",
    "filename_mask = 'exclusion_mask.fits'\n",
    "filename_counts = 'counts_cube.fits'\n",
    "filename_bkg = 'bkg_cube.fits'\n",
    "filename_significance = 'significance_cube.fits'\n",
    "filename_excess = 'excess_cube.fits'\n",
    "filename_exposure = 'exposure_cube_etrue.fits'\n",
    "filename_psf = 'psf_cube_etrue.fits'\n",
    "exclusion_mask.write(filename_mask, clobber=True)\n",
    "cube_maker.counts_cube.write(filename_counts, format=\"fermi-counts\", clobber=True)\n",
    "cube_maker.bkg_cube.write(filename_bkg, format=\"fermi-counts\", clobber=True)\n",
    "cube_maker.significance_cube.write(filename_significance, format=\"fermi-counts\", clobber=True)\n",
    "cube_maker.excess_cube.write(filename_excess, format=\"fermi-counts\", clobber=True)\n",
    "cube_maker.exposure_cube.write(filename_exposure, format=\"fermi-counts\", clobber=True)\n",
    "mean_psf_cube.write(filename_psf, format=\"fermi-counts\", clobber=True)\n",
    "\n"
   ]
  },
  {
   "cell_type": "code",
   "execution_count": null,
   "metadata": {
    "collapsed": false,
    "deletable": true,
    "editable": true
   },
   "outputs": [],
   "source": [
    "counts_energies=cube_maker.counts_cube.energies(mode=\"edges\")\n",
    "print(\"the bin edges of the count cubes \", counts_energies)\n",
    "print(\"\")\n",
    "true_energies=cube_maker.exposure_cube.energies(mode=\"edges\")\n",
    "print(\"the bin edges of the exposure cubes \", true_energies)\n",
    "print(\"\")"
   ]
  },
  {
   "cell_type": "markdown",
   "metadata": {
    "deletable": true,
    "editable": true
   },
   "source": [
    "### Define a method to compute the mean rmf from a set of observation"
   ]
  },
  {
   "cell_type": "code",
   "execution_count": null,
   "metadata": {
    "collapsed": true,
    "deletable": true,
    "editable": true
   },
   "outputs": [],
   "source": [
    "def make_mean_rmf(energy_true, energy_reco, center, ObsList):\n",
    "    \"\"\"\n",
    "    Compute the mean psf for a set of observation and a given energy band\n",
    "    Parameters\n",
    "    ----------\n",
    "    energy_true: Tuple for the energy axis: (Emin,Emax,nbins)\n",
    "         for the true energy array\n",
    "    energy_reco: Tuple for the energy axis: (Emin,Emax,nbins)   \n",
    "         for the reco energy array\n",
    "    source_name: name of the source you want to compute the image\n",
    "    center: SkyCoord of the source\n",
    "    ObsList: ObservationList to use to compute the psf (could be different that the data_store for G0p9 for the GC for example)\n",
    "\n",
    "\n",
    "    Returns\n",
    "    -------\n",
    "    rmf: `~gammapy.irf.EnergyDispersion`\n",
    "        Stacked EDISP for a set of observation\n",
    "    \"\"\"\n",
    "\n",
    "    # Here all the observations have a center at less than 2 degrees from the Crab so it will be ok to estimate the mean psf on the Crab source postion (the area is define for offset equal to 2 degrees...)\n",
    "    emin_true, emax_true, nbin_true = energy_true\n",
    "    emin_reco, emax_reco, nbin_reco = energy_reco\n",
    "    energy_true_bins = EnergyBounds.equal_log_spacing(emin_true, emax_true, nbin_true, 'TeV')\n",
    "    energy_reco_bins = EnergyBounds.equal_log_spacing(emin_reco, emax_reco, nbin_reco, 'TeV')\n",
    "    rmf = ObsList.make_mean_edisp(position=center, e_true=energy_true_bins, e_reco=energy_reco_bins)\n",
    "    return rmf\n",
    "\n"
   ]
  },
  {
   "cell_type": "code",
   "execution_count": null,
   "metadata": {
    "collapsed": true,
    "deletable": true,
    "editable": true
   },
   "outputs": [],
   "source": [
    "mean_rmf = make_mean_rmf(energy_true=etrue, energy_reco=ereco, center=center, ObsList=ObsList)\n",
    "filename_rmf = 'rmf.fits'\n",
    "mean_rmf.write(filename_rmf, clobber=True)\n"
   ]
  },
  {
   "cell_type": "code",
   "execution_count": null,
   "metadata": {
    "collapsed": false,
    "deletable": true,
    "editable": true
   },
   "outputs": [],
   "source": [
    "mean_rmf.plot_matrix()"
   ]
  },
  {
   "cell_type": "markdown",
   "metadata": {},
   "source": [
    "## Exercises\n",
    "- Take another dataset\n",
    "- Change the Cube binning"
   ]
  },
  {
   "cell_type": "code",
   "execution_count": null,
   "metadata": {
    "collapsed": true
   },
   "outputs": [],
   "source": []
  }
 ],
 "metadata": {
  "kernelspec": {
   "display_name": "Python 2",
   "language": "python",
   "name": "python2"
  },
  "language_info": {
   "codemirror_mode": {
    "name": "ipython",
    "version": 2
   },
   "file_extension": ".py",
   "mimetype": "text/x-python",
   "name": "python",
   "nbconvert_exporter": "python",
   "pygments_lexer": "ipython2",
   "version": "2.7.13"
  }
 },
 "nbformat": 4,
 "nbformat_minor": 2
}
