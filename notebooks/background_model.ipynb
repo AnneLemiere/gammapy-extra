{
 "cells": [
  {
   "cell_type": "markdown",
   "metadata": {
    "deletable": true,
    "editable": true
   },
   "source": [
    "# Make a background model with Gammapy\n",
    "\n",
    "## Introduction \n",
    "We will see how to build a background model from existing data.\n",
    "\n",
    "We are working with only 4 runs here, just as an example. To build a coherent bkg model you normally have to use AGN runs.\n",
    "\n",
    "It will use:\n",
    "        \n",
    "- [gammapy.data.DataStore](http://docs.gammapy.org/en/latest/api/gammapy.data.DataStore.html) to load the runs to use to build the bkg model\n",
    "    \n",
    "- [gammapy.data.ObservationGroupAxis](http://docs.gammapy.org/en/latest/api/gammapy.data.ObservationGroupAxis.html) and [gammapy.data.ObservationGroups](http://docs.gammapy.org/en/latest/api/gammapy.data.ObservationGroupAxis.html) to group the data to build the bkg model\n",
    "\n",
    "- [gammapy.background.OffDataBackgroundMaker](http://docs.gammapy.org/en/latest/api/gammapy.background.OffDataBackgroundMaker.html) to make the acceptance curves in the different groups\n",
    "\n"
   ]
  },
  {
   "cell_type": "markdown",
   "metadata": {
    "deletable": true,
    "editable": true
   },
   "source": [
    "## Import"
   ]
  },
  {
   "cell_type": "code",
   "execution_count": 144,
   "metadata": {
    "collapsed": false,
    "deletable": true,
    "editable": true
   },
   "outputs": [],
   "source": [
    "%matplotlib inline\n",
    "import matplotlib.pyplot as plt\n",
    "plt.style.use('ggplot')\n",
    "import numpy as np\n",
    "import astropy.units as u\n",
    "from astropy.table import Table\n",
    "import shutil\n",
    "from astropy.coordinates import SkyCoord, Angle\n",
    "from gammapy.data import DataStore, ObservationGroupAxis, ObservationGroups\n",
    "from gammapy.background import OffDataBackgroundMaker\n",
    "from gammapy.extern.pathlib import Path\n",
    "from gammapy.catalog import SourceCatalogGammaCat\n",
    "from gammapy.utils.energy import EnergyBounds\n",
    "from gammapy.utils.axis import sqrt_space"
   ]
  },
  {
   "cell_type": "markdown",
   "metadata": {
    "deletable": true,
    "editable": true
   },
   "source": [
    "## Build a background model from existing data\n",
    "\n",
    "To compute the acceptance curve we only use 4 dummy Crab runs from gammapy_extra: 23523, 23526, 23559 and 23592"
   ]
  },
  {
   "cell_type": "code",
   "execution_count": 145,
   "metadata": {
    "collapsed": false,
    "deletable": true,
    "editable": true
   },
   "outputs": [],
   "source": [
    "cwd=Path.cwd()\n",
    "if Path.is_dir(cwd / Path(\"background\")):\n",
    "    shutil.rmtree(str(cwd / Path(\"background\")))\n",
    "data_store = DataStore.from_dir(\"$GAMMAPY_EXTRA/datasets/hess-crab4-hd-hap-prod2\")\n"
   ]
  },
  {
   "cell_type": "markdown",
   "metadata": {
    "deletable": true,
    "editable": true
   },
   "source": [
    "Prepare a scheme to group observations with similar observing conditions and create a new ObservationTable with the grouping ID for each run"
   ]
  },
  {
   "cell_type": "code",
   "execution_count": 146,
   "metadata": {
    "collapsed": false,
    "deletable": true,
    "editable": true
   },
   "outputs": [],
   "source": [
    "# Create a background model from the 4 Crab runs for the counts ouside the exclusion region so here outside the Crab\n",
    "# Create the directory for background storage\n",
    "background_model_directory = cwd / Path(\"background\")\n",
    "background_model_directory.mkdir()\n",
    "\n",
    "# Define the grouping you want to use to group the obervations to make the acceptance curves\n",
    "# Here we use 2 Zenith angle bins only, you can also add efficiency bins for example etc...\n",
    "axes = [ObservationGroupAxis('ZEN_PNT', [0, 49, 90], fmt='edges')]\n",
    "\n",
    "# Create the ObservationGroups object\n",
    "obs_groups = ObservationGroups(axes)\n",
    "# write it to file\n",
    "obs_groups.obs_groups_table.write(str(background_model_directory) + \"/group-def.fits\", overwrite=True)\n",
    "\n",
    "# Create a new ObservationTable with the column group_id\n",
    "# You give the runs list you want to use to produce the background model that are in your obs table. \n",
    "# Here very simple only the 4 Crab runs...\n",
    "list_ids=[23523,23526,23559,23592]\n",
    "obs_table_with_group_id = obs_groups.apply(data_store.obs_table.select_obs_id(list_ids))\n"
   ]
  },
  {
   "cell_type": "markdown",
   "metadata": {
    "deletable": true,
    "editable": true
   },
   "source": [
    "We need a mask to remove known sources from the observation. We use TeVcat and exclude a circular region of at least 0.3° radius. Here since we use Crab runs, we will remove the Crab events from the FOV to select only the OFF events to build the acceptance curves. Of cource normally you use thousand of AGN runs to build coherent acceptance curves."
   ]
  },
  {
   "cell_type": "code",
   "execution_count": 147,
   "metadata": {
    "collapsed": false,
    "deletable": true,
    "editable": true
   },
   "outputs": [],
   "source": [
    "cat = SourceCatalogGammaCat()\n",
    "exclusion_table = cat.table\n",
    "exclusion_table.rename_column('ra', 'RA')\n",
    "exclusion_table.rename_column('dec', 'DEC')\n",
    "radius = exclusion_table['morph_sigma']\n",
    "radius.value[np.isnan(radius)] = 0.3\n",
    "exclusion_table['Radius'] = radius\n",
    "exclusion_table=Table(exclusion_table)"
   ]
  },
  {
   "cell_type": "markdown",
   "metadata": {
    "deletable": true,
    "editable": true
   },
   "source": [
    "Make the acceptance curves in the different group of observation conditions you defined above using the obs_table containaing the group id for each observation used to compute the bkg model"
   ]
  },
  {
   "cell_type": "code",
   "execution_count": 148,
   "metadata": {
    "collapsed": false,
    "deletable": true,
    "editable": true
   },
   "outputs": [],
   "source": [
    "bgmaker = OffDataBackgroundMaker(data_store, str(background_model_directory), run_list=None,\n",
    "                                 obs_table=obs_table_with_group_id\n",
    "                                 , ntot_group=obs_groups.n_groups, excluded_sources=exclusion_table)\n",
    "#bgmaker = OffDataBackgroundMaker(data_store, background_model_directory, run_list=None,\n",
    "#                                 obs_table=obs_table_with_group_id\n",
    "#                                 , ntot_group=obs_groups.n_groups, excluded_sources=Tevcatsources)\n",
    "#ebounds and offset are default one in the method make_model\n",
    "ebounds = EnergyBounds.equal_log_spacing(0.1, 100, 15, 'TeV')\n",
    "offset = sqrt_space(start=0, stop=2.5, num=100) * u.deg\n",
    "bgmaker.make_model(\"2D\", ebounds=ebounds, offset=offset)\n",
    "\n",
    "#Smooth the model\n",
    "bgmaker.smooth_models(\"2D\")\n",
    "\n",
    "#Write the model\n",
    "bgmaker.save_models(\"2D\")\n",
    "bgmaker.save_models(modeltype=\"2D\", smooth=True)"
   ]
  },
  {
   "cell_type": "markdown",
   "metadata": {
    "collapsed": true,
    "deletable": true,
    "editable": true
   },
   "source": [
    "### Plots\n",
    "- Acceptance curve"
   ]
  },
  {
   "cell_type": "code",
   "execution_count": 149,
   "metadata": {
    "collapsed": false,
    "deletable": true,
    "editable": true
   },
   "outputs": [
    {
     "data": {
      "text/plain": [
       "<matplotlib.legend.Legend at 0x112222e50>"
      ]
     },
     "execution_count": 149,
     "metadata": {},
     "output_type": "execute_result"
    },
    {
     "data": {
      "image/png": "[encoded data removed]",
      "text/plain": [
       "<matplotlib.figure.Figure at 0x111848110>"
      ]
     },
     "metadata": {},
     "output_type": "display_data"
    }
   ],
   "source": [
    "from gammapy.background import EnergyOffsetBackgroundModel\n",
    "model=EnergyOffsetBackgroundModel.read(str(background_model_directory)+\"/smooth_background_2D_group_000_table.fits.gz\")\n",
    "offset=model.bg_rate.offset_bin_center\n",
    "energies=model.bg_rate.energy  \n",
    "iE=6\n",
    "plt.figure()\n",
    "plt.plot(offset, model.bg_rate.data[iE,:], label=\"bkg model smooth\")\n",
    "plt.title(\"energy band: \"+str(\"%.2f\"%energies[iE].value)+\"-\"+str(\"%.2f\"%energies[iE+1].value)+\" TeV\")\n",
    "plt.xlabel(\"offset (degree)\")\n",
    "plt.ylabel(\"bkg rate (Mev^-1 s^-1 sr^-1)\")\n",
    "plt.legend()"
   ]
  },
  {
   "cell_type": "markdown",
   "metadata": {
    "deletable": true,
    "editable": true
   },
   "source": [
    "- Spectrum"
   ]
  },
  {
   "cell_type": "code",
   "execution_count": 150,
   "metadata": {
    "collapsed": false,
    "deletable": true,
    "editable": true
   },
   "outputs": [
    {
     "data": {
      "text/plain": [
       "<matplotlib.legend.Legend at 0x11235b310>"
      ]
     },
     "execution_count": 150,
     "metadata": {},
     "output_type": "execute_result"
    },
    {
     "data": {
      "image/png": "[encoded data removed]",
      "text/plain": [
       "<matplotlib.figure.Figure at 0x111c37090>"
      ]
     },
     "metadata": {},
     "output_type": "display_data"
    }
   ],
   "source": [
    "plt.figure()\n",
    "plt.loglog(energies.log_centers, model.bg_rate.data[:,10], label=\"bkg model smooth\")\n",
    "plt.title(\"offset: \"+str(\"%.2f\"%offset[10].value)+\" deg\")\n",
    "plt.xlabel(\"Energy (TeV)\")\n",
    "plt.ylabel(\"bkg rate (Mev^-1 s^-1 sr^-1)\")\n",
    "plt.legend()"
   ]
  },
  {
   "cell_type": "markdown",
   "metadata": {
    "deletable": true,
    "editable": true
   },
   "source": [
    "- Image of the bkg Rate in energy and offset"
   ]
  },
  {
   "cell_type": "code",
   "execution_count": 151,
   "metadata": {
    "collapsed": false,
    "deletable": true,
    "editable": true
   },
   "outputs": [
    {
     "data": {
      "text/plain": [
       "<matplotlib.axes._subplots.AxesSubplot at 0x11235b710>"
      ]
     },
     "execution_count": 151,
     "metadata": {},
     "output_type": "execute_result"
    },
    {
     "data": {
      "image/png": "[encoded data removed]",
      "text/plain": [
       "<matplotlib.figure.Figure at 0x111a87a90>"
      ]
     },
     "metadata": {},
     "output_type": "display_data"
    }
   ],
   "source": [
    "model.bg_rate.plot_image()"
   ]
  },
  {
   "cell_type": "markdown",
   "metadata": {
    "deletable": true,
    "editable": true
   },
   "source": [
    "## New hdu table containing the background model\n",
    "\n",
    "Here we first copy the dataset of the 4 crab runs from gammapy-extra to create the data you will use for the analysis. We use the same dataset to produce the bkg or for the analysis. Of course normally you produce the bkg model using thousands of AGN runs. \n",
    "\n",
    "Then we create a new hdu table containg for each observation a link to the bkg model to use depending of the observation conditions of the run"
   ]
  },
  {
   "cell_type": "code",
   "execution_count": 152,
   "metadata": {
    "collapsed": false,
    "deletable": true,
    "editable": true
   },
   "outputs": [],
   "source": [
    "\n",
    "#Make a new hdu table in your dataset directory that contains the link to the acceptance curve to use to build the bkg model in your cube analysis\n",
    "if Path.is_dir(cwd / Path(\"data\")):\n",
    "    shutil.rmtree(str(cwd / Path(\"data\")))\n",
    "data_directory = str(cwd / Path(\"data\"))\n",
    "ds= DataStore.from_dir(\"$GAMMAPY_EXTRA/datasets/hess-crab4-hd-hap-prod2\")\n",
    "ds.copy_obs(ds.obs_table, data_directory)\n",
    "data_store = DataStore.from_dir(data_directory)"
   ]
  },
  {
   "cell_type": "code",
   "execution_count": 153,
   "metadata": {
    "collapsed": false,
    "deletable": true,
    "editable": true
   },
   "outputs": [
    {
     "name": "stdout",
     "output_type": "stream",
     "text": [
      "OBS_ID HDU_TYPE HDU_CLASS  ...     MTIME                   MD5               \n",
      "------ -------- ---------- ... ------------- --------------------------------\n",
      " 23523      gti        gti ... 1455089616.34 9e402094c3a3e05ae4199b7cc9a01215\n",
      " 23523   events     events ... 1455089616.34 9e402094c3a3e05ae4199b7cc9a01215\n",
      " 23523     aeff    aeff_2d ... 1455089616.34 6430c082176f092e0aed0f2bf9840915\n",
      " 23523    edisp   edisp_2d ... 1455089616.34 f580ea6cb104e4d6735b8d2940ac6774\n",
      " 23523      psf psf_3gauss ... 1455089616.34 87f2d5c5ca56575a4a083b33e9700312\n",
      " 23523      psf   psf_king ... 1455089616.34 7760e349a40883345406c7e3ea1cbd54\n",
      " 23523      psf  psf_table ... 1455089616.35 74b745938341d0f64b79f60da7f1ad0f\n",
      " 23526      psf   psf_king ... 1455089616.56 5873e4ec0771bdfcc6d82608199a4067\n",
      " 23526      psf psf_3gauss ... 1455089616.56 f27364b40bbf8e35c747828e60224b28\n",
      " 23526    edisp   edisp_2d ... 1455089616.56 c7e99f4d282a55c7fdd4024167bdbef5\n",
      "   ...      ...        ... ...           ...                              ...\n",
      " 23559      psf   psf_king ... 1455089616.78 aba9fd3f2859c074a3fef0507b910ba3\n",
      " 23559   events     events ... 1455089616.77 311bd2ede3dddb3504c11b9c3dadac32\n",
      " 23559      gti        gti ... 1455089616.77 311bd2ede3dddb3504c11b9c3dadac32\n",
      " 23559     aeff    aeff_2d ... 1455089616.78 50eb94ec65ac146ff60845860d84a1a2\n",
      " 23592      psf   psf_king ...  1455089617.0 514f94397507d1160341387ed56e80ba\n",
      " 23592      gti        gti ... 1455089616.99 3c94433be8e9f29aa198065403570dbb\n",
      " 23592   events     events ... 1455089616.99 3c94433be8e9f29aa198065403570dbb\n",
      " 23592     aeff    aeff_2d ... 1455089616.99 5e2f5dc70fecb5060b6e1662d59d9507\n",
      " 23592    edisp   edisp_2d ... 1455089616.99 37db40409b6c37a9060aef8817a14ffe\n",
      " 23592      psf psf_3gauss ...  1455089617.0 3763f28acd61d96724ad5584fe1f39c4\n",
      " 23592      psf  psf_table ...  1455089617.0 38be05a13aa0bd492c9979c5b7d3d47f\n",
      "Length = 28 rows\n"
     ]
    }
   ],
   "source": [
    "print data_store.hdu_table"
   ]
  },
  {
   "cell_type": "markdown",
   "metadata": {
    "deletable": true,
    "editable": true
   },
   "source": [
    "No associated background model in the hdu table. We create a new one with a model associated for each run."
   ]
  },
  {
   "cell_type": "code",
   "execution_count": 154,
   "metadata": {
    "collapsed": false,
    "deletable": true,
    "editable": true
   },
   "outputs": [],
   "source": [
    "#Create the new hdu table with a link to the background model\n",
    "group_filename = str(background_model_directory) + '/group-def.fits'\n",
    "hdu_index_table = bgmaker.make_total_index_table(\n",
    "    data_store=data_store,\n",
    "    modeltype='2D',\n",
    "    out_dir_background_model=str(background_model_directory) ,\n",
    "    filename_obs_group_table=group_filename, smooth=False\n",
    ")\n",
    "\n",
    "#Write the new hdu table\n",
    "hdu_table_filename = data_directory  + '/hdu-index.fits.gz'\n",
    "hdu_index_table.write(hdu_table_filename, overwrite=True)"
   ]
  },
  {
   "cell_type": "code",
   "execution_count": 155,
   "metadata": {
    "collapsed": false,
    "deletable": true,
    "editable": true
   },
   "outputs": [
    {
     "name": "stdout",
     "output_type": "stream",
     "text": [
      "OBS_ID HDU_TYPE HDU_CLASS  ...     MTIME                   MD5               \n",
      "------ -------- ---------- ... ------------- --------------------------------\n",
      " 23523      gti        gti ... 1455089616.34 9e402094c3a3e05ae4199b7cc9a01215\n",
      " 23523   events     events ... 1455089616.34 9e402094c3a3e05ae4199b7cc9a01215\n",
      " 23523     aeff    aeff_2d ... 1455089616.34 6430c082176f092e0aed0f2bf9840915\n",
      " 23523    edisp   edisp_2d ... 1455089616.34 f580ea6cb104e4d6735b8d2940ac6774\n",
      " 23523      psf psf_3gauss ... 1455089616.34 87f2d5c5ca56575a4a083b33e9700312\n",
      " 23523      psf   psf_king ... 1455089616.34 7760e349a40883345406c7e3ea1cbd54\n",
      " 23523      psf  psf_table ... 1455089616.35 74b745938341d0f64b79f60da7f1ad0f\n",
      " 23526      psf   psf_king ... 1455089616.56 5873e4ec0771bdfcc6d82608199a4067\n",
      " 23526      psf psf_3gauss ... 1455089616.56 f27364b40bbf8e35c747828e60224b28\n",
      " 23526    edisp   edisp_2d ... 1455089616.56 c7e99f4d282a55c7fdd4024167bdbef5\n",
      "   ...      ...        ... ...           ...                              ...\n",
      " 23592      psf   psf_king ...  1455089617.0 514f94397507d1160341387ed56e80ba\n",
      " 23592      gti        gti ... 1455089616.99 3c94433be8e9f29aa198065403570dbb\n",
      " 23592   events     events ... 1455089616.99 3c94433be8e9f29aa198065403570dbb\n",
      " 23592     aeff    aeff_2d ... 1455089616.99 5e2f5dc70fecb5060b6e1662d59d9507\n",
      " 23592    edisp   edisp_2d ... 1455089616.99 37db40409b6c37a9060aef8817a14ffe\n",
      " 23592      psf psf_3gauss ...  1455089617.0 3763f28acd61d96724ad5584fe1f39c4\n",
      " 23592      psf  psf_table ...  1455089617.0 38be05a13aa0bd492c9979c5b7d3d47f\n",
      " 23526      bkg     bkg_2d ...            --                               --\n",
      " 23559      bkg     bkg_2d ...            --                               --\n",
      " 23592      bkg     bkg_2d ...            --                               --\n",
      " 23523      bkg     bkg_2d ...            --                               --\n",
      "Length = 32 rows\n"
     ]
    }
   ],
   "source": [
    "print hdu_index_table"
   ]
  },
  {
   "cell_type": "code",
   "execution_count": 156,
   "metadata": {
    "collapsed": false,
    "deletable": true,
    "editable": true
   },
   "outputs": [
    {
     "name": "stdout",
     "output_type": "stream",
     "text": [
      "/Users/jouvin/Desktop/these/test_Gammapy/gammapy-extra/notebooks/background   background_2D_group_000_table.fits.gz\n"
     ]
    }
   ],
   "source": [
    "print hdu_index_table[-4][\"FILE_DIR\"], \" \", hdu_index_table[-4][\"FILE_NAME\"]"
   ]
  },
  {
   "cell_type": "code",
   "execution_count": 157,
   "metadata": {
    "collapsed": false,
    "deletable": true,
    "editable": true
   },
   "outputs": [
    {
     "name": "stdout",
     "output_type": "stream",
     "text": [
      "/Users/jouvin/Desktop/these/test_Gammapy/gammapy-extra/notebooks/background   background_2D_group_001_table.fits.gz\n"
     ]
    }
   ],
   "source": [
    "print hdu_index_table[-1][\"FILE_DIR\"], \" \", hdu_index_table[-1][\"FILE_NAME\"]"
   ]
  },
  {
   "cell_type": "markdown",
   "metadata": {
    "deletable": true,
    "editable": true
   },
   "source": [
    "## Exercises\n",
    "\n",
    "- Use real AGN run\n",
    "- Change the binning for the grouping: thinner zenithal bin, add efficiency binning ....\n",
    "- Change the energy binning (ebounds) and the offset (offset) used to compute the acceptance curve\n"
   ]
  },
  {
   "cell_type": "markdown",
   "metadata": {},
   "source": [
    "Now we've created a background model in the http://gamma-astro-data-formats.readthedocs.io/en/latest/irfs/background/index.html#bkg-2d-format format.\n",
    "In future tutorials, we will use it as a background model component for source analysis."
   ]
  }
 ],
 "metadata": {
  "kernelspec": {
   "display_name": "Python 2",
   "language": "python",
   "name": "python2"
  },
  "language_info": {
   "codemirror_mode": {
    "name": "ipython",
    "version": 2
   },
   "file_extension": ".py",
   "mimetype": "text/x-python",
   "name": "python",
   "nbconvert_exporter": "python",
   "pygments_lexer": "ipython2",
   "version": "2.7.13"
  }
 },
 "nbformat": 4,
 "nbformat_minor": 2
}
