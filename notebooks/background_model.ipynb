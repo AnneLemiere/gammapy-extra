{
 "cells": [
  {
   "cell_type": "markdown",
   "metadata": {},
   "source": [
    "# Make a background model with Gammapy\n",
    "\n",
    "## Introduction \n",
    "We will see how to build a background model from existing data.\n",
    "\n",
    "We are working with only 4 runs here, just as an example. To build a coherent bkg model you normally have to use AGN runs.\n",
    "\n",
    "It will use:\n",
    "        \n",
    "-[gammapy.data.DataStore](http://docs.gammapy.org/en/latest/api/gammapy.data.DataStore.html) to load the runs to use to build the bkg model\n",
    "    \n",
    "-[gammapy.data.ObservationGroupAxis](http://docs.gammapy.org/en/latest/api/gammapy.data.ObservationGroupAxis.html) and [gammapy.data.ObservationGroups](http://docs.gammapy.org/en/latest/api/gammapy.data.ObservationGroupAxis.html) to group the data to build the bkg model\n",
    "\n",
    "-[gammapy.background.OffDataBackgroundMaker](http://docs.gammapy.org/en/latest/api/gammapy.background.OffDataBackgroundMaker.html) to make the acceptance curves in the different groups\n",
    "\n"
   ]
  },
  {
   "cell_type": "markdown",
   "metadata": {},
   "source": [
    "## Import"
   ]
  },
  {
   "cell_type": "code",
   "execution_count": 59,
   "metadata": {
    "collapsed": false
   },
   "outputs": [],
   "source": [
    "import numpy as np\n",
    "import astropy.units as u\n",
    "from astropy.table import Column\n",
    "import os\n",
    "import shutil\n",
    "from astropy.coordinates import SkyCoord, Angle\n",
    "from gammapy.data import DataStore, ObservationGroupAxis, ObservationGroups\n",
    "from gammapy.background import OffDataBackgroundMaker\n",
    "from gammapy.extern.pathlib import Path\n",
    "from gammapy.catalog import load_catalog_tevcat"
   ]
  },
  {
   "cell_type": "markdown",
   "metadata": {},
   "source": [
    "## Build a background model from existing data\n",
    "\n",
    "To compute the acceptance curve we only use 4 dummy Crab runs from gammapy_extra: 23523, 23526, 23559 and 23592"
   ]
  },
  {
   "cell_type": "code",
   "execution_count": 60,
   "metadata": {
    "collapsed": false
   },
   "outputs": [],
   "source": [
    "cwd=os.getcwd()\n",
    "if os.path.isdir(cwd+\"/background\"):\n",
    "    shutil.rmtree(cwd+\"/background\")\n",
    "data_store = DataStore.from_dir(\"$GAMMAPY_EXTRA/datasets/hess-crab4-hd-hap-prod2\")\n"
   ]
  },
  {
   "cell_type": "markdown",
   "metadata": {},
   "source": [
    "Prepare a scheme to group observations with similar observing conditions and create a new ObservationTable with the grouping ID for each run"
   ]
  },
  {
   "cell_type": "code",
   "execution_count": 61,
   "metadata": {
    "collapsed": false
   },
   "outputs": [],
   "source": [
    "# Create a background model from the 4 Crab runs for the counts ouside the exclusion region so here outside the Crab\n",
    "# Create the directory for background storage\n",
    "background_model_directory = cwd+\"/background\"\n",
    "Path(background_model_directory).mkdir()\n",
    "\n",
    "#Define the grouping you want to use to group the obervations to make the acceptance curves\n",
    "# Here we use 2 Zenith angle bins only, you can also add efficiency bins for example etc...\n",
    "axes = [ObservationGroupAxis('ZEN_PNT', [0, 49, 90], fmt='edges')]\n",
    "\n",
    "# Create the ObservationGroups object\n",
    "obs_groups = ObservationGroups(axes)\n",
    "# write it to file\n",
    "obs_groups.obs_groups_table.write(background_model_directory + \"/group-def.fits\", overwrite=True)\n",
    "\n",
    "# Create a new ObservationTable with the column group_id\n",
    "#You give the runs list you want to use to produce the background model that are in your obs table. \n",
    "#Here very simple only the 4 Crab runs...\n",
    "list_ids=[23523,23526,23559,23592]\n",
    "obs_table_with_group_id = obs_groups.apply(data_store.obs_table.select_obs_id(list_ids))\n"
   ]
  },
  {
   "cell_type": "markdown",
   "metadata": {},
   "source": [
    "We need a mask to remove known sources from the observation. We use TeVcat and exclude a circular region of at least 0.3° radius. Here since we use Crab runs, we will remothe the Crab events from the FOV to select only the OFF events to build the acceptance curve. Of cource normally you use thousand of AGN runs to build coherent acceptance curve."
   ]
  },
  {
   "cell_type": "code",
   "execution_count": 62,
   "metadata": {
    "collapsed": false
   },
   "outputs": [
    {
     "name": "stderr",
     "output_type": "stream",
     "text": [
      "/opt/local/Library/Frameworks/Python.framework/Versions/2.7/lib/python2.7/site-packages/ipykernel/__main__.py:6: RuntimeWarning: invalid value encountered in less\n"
     ]
    }
   ],
   "source": [
    "#Create the table that contains all the sources to exlude from the FOV for the PAC Man method to construct the acceptance curve\n",
    "Tevcatsources = load_catalog_tevcat()\n",
    "Tevcatsources.rename_column('coord_dec', 'DEC')\n",
    "Tevcatsources.rename_column('coord_ra', 'RA')\n",
    "radius=Tevcatsources[\"size_x\"]\n",
    "radius[np.where(Tevcatsources[\"size_x\"] < Tevcatsources[\"size_y\"])] = Tevcatsources[\"size_y\"]\n",
    "radius[np.isnan(radius)]=0.3\n",
    "c = Column(radius, name='Radius')\n",
    "Tevcatsources.add_column(c)\n",
    "\n",
    "\n",
    "\n"
   ]
  },
  {
   "cell_type": "markdown",
   "metadata": {},
   "source": [
    "Make the acceptance curve in the different group of observation conditions you defined above and from the obs_table containaing the group id for each observation used to compute the bkg model"
   ]
  },
  {
   "cell_type": "code",
   "execution_count": 63,
   "metadata": {
    "collapsed": true
   },
   "outputs": [],
   "source": [
    "bgmaker = OffDataBackgroundMaker(data_store, background_model_directory, run_list=None,\n",
    "                                 obs_table=obs_table_with_group_id\n",
    "                                 , ntot_group=obs_groups.n_groups, excluded_sources=Tevcatsources)\n",
    "bgmaker.make_model(\"2D\")\n",
    "\n",
    "#Smooth the model\n",
    "bgmaker.smooth_models(\"2D\")\n",
    "\n",
    "#Write the model\n",
    "bgmaker.save_models(\"2D\")\n",
    "bgmaker.save_models(modeltype=\"2D\", smooth=True)"
   ]
  },
  {
   "cell_type": "code",
   "execution_count": 64,
   "metadata": {
    "collapsed": true
   },
   "outputs": [],
   "source": [
    "### Plot the acceptance curve"
   ]
  },
  {
   "cell_type": "code",
   "execution_count": 65,
   "metadata": {
    "collapsed": false
   },
   "outputs": [
    {
     "data": {
      "text/plain": [
       "<matplotlib.legend.Legend at 0x109ace050>"
      ]
     },
     "execution_count": 65,
     "metadata": {},
     "output_type": "execute_result"
    },
    {
     "data": {
      "image/png": "[encoded data removed]",
      "text/plain": [
       "<matplotlib.figure.Figure at 0x10a238090>"
      ]
     },
     "metadata": {},
     "output_type": "display_data"
    }
   ],
   "source": [
    "from gammapy.background import EnergyOffsetBackgroundModel\n",
    "model=EnergyOffsetBackgroundModel.read(background_model_directory+\"/smooth_background_2D_group_000_table.fits.gz\")\n",
    "offset=model.bg_rate.offset_bin_center\n",
    "energies=model.bg_rate.energy  \n",
    "iE=6\n",
    "import pylab as plt\n",
    "plt.ion()\n",
    "plt.plot(offset, model.bg_rate.data[iE,:], label=\"bkg model smooth\")\n",
    "plt.title(\"energy band: \"+str(\"%.2f\"%energies[iE].value)+\"-\"+str(\"%.2f\"%energies[iE+1].value)+\" TeV\")\n",
    "plt.legend()\n"
   ]
  },
  {
   "cell_type": "markdown",
   "metadata": {},
   "source": [
    "## New hdu table containing the background model\n",
    "\n",
    "Here we first copy the dataset of the 4 crab runs from gammapy-extra to create the data you will use for the analysis. Here we use the same dataset to produce the bkg or for the analysis. Of course normally you produce the bkg model using thousands of AGN runs. \n",
    "\n",
    "Then we create a new hdu table containg for each observation a link to the bkg model to use depending of the observation conditions of the run"
   ]
  },
  {
   "cell_type": "code",
   "execution_count": 66,
   "metadata": {
    "collapsed": false
   },
   "outputs": [],
   "source": [
    "\n",
    "#Make a new hdu table in your dataset directory that contains the link to the acceptance curve to use to build the bkg model in your cube analysis\n",
    "if os.path.isdir(cwd+\"/data\"):\n",
    "    shutil.rmtree(cwd+\"/data\")\n",
    "data_directory = cwd+\"/data\"\n",
    "ds.copy_obs(ds.obs_table, data_directory)\n",
    "data_store = DataStore.from_dir(data_directory)\n",
    "\n",
    "#Create the new hdu table with a link to the background model\n",
    "group_filename = background_model_directory + '/group-def.fits'\n",
    "hdu_index_table = bgmaker.make_total_index_table(\n",
    "    data_store=data_store,\n",
    "    modeltype='2D',\n",
    "    out_dir_background_model=cwd+\"/background\",\n",
    "    filename_obs_group_table=group_filename, smooth=False\n",
    ")\n",
    "\n",
    "#Write the new hdu table\n",
    "hdu_table_filename = data_directory  + '/hdu-index.fits.gz'\n",
    "hdu_index_table.write(hdu_table_filename, overwrite=True)\n"
   ]
  },
  {
   "cell_type": "code",
   "execution_count": null,
   "metadata": {
    "collapsed": true
   },
   "outputs": [],
   "source": []
  }
 ],
 "metadata": {
  "kernelspec": {
   "display_name": "Python 2",
   "language": "python",
   "name": "python2"
  },
  "language_info": {
   "codemirror_mode": {
    "name": "ipython",
    "version": 2
   },
   "file_extension": ".py",
   "mimetype": "text/x-python",
   "name": "python",
   "nbconvert_exporter": "python",
   "pygments_lexer": "ipython2",
   "version": "2.7.13"
  }
 },
 "nbformat": 4,
 "nbformat_minor": 2
}
