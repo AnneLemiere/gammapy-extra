{
 "cells": [
  {
   "cell_type": "markdown",
   "metadata": {},
   "source": [
    "# Spectral analysis with Gammapy"
   ]
  },
  {
   "cell_type": "markdown",
   "metadata": {},
   "source": [
    "## Introduction\n",
    "\n",
    "This notebook explains how to use the functions and classes in [gammapy.spectrum](http://docs.gammapy.org/en/latest/spectrum/index.html).\n",
    "\n",
    "Based on a datasets of 4 Crab observations with H.E.S.S. (simulated events for now) we will perform a full region based spectral analysis, i.e. extracting source and background counts from certain \n",
    "regions, and fitting them using the forward-folding approach.\n",
    "\n",
    "Data handling:\n",
    "\n",
    "* [gammapy.data.DataStore](http://docs.gammapy.org/en/latest/api/gammapy.data.DataStore.html)\n",
    "* [gammapy.data.DataStoreObservation](http://docs.gammapy.org/en/latest/api/gammapy.data.DataStoreObservation.html)\n",
    "* [gammapy.data.Target](http://docs.gammapy.org/en/latest/api/gammapy.data.Target.html)\n",
    "* [gammapy.data.ObservationStats](http://docs.gammapy.org/en/latest/api/gammapy.data.ObservationStats.html)\n",
    "* [gammapy.data.ObservationSummary](http://docs.gammapy.org/en/latest/api/gammapy.data.ObservationSummary.html)\n",
    "\n",
    "To extract the 1-dim spectral information:\n",
    "\n",
    "* [gammapy.spectrum.SpectrumObservation](http://docs.gammapy.org/en/latest/api/gammapy.spectrum.SpectrumObservation.html)\n",
    "* [gammapy.spectrum.SpectrumExtraction](http://docs.gammapy.org/en/latest/api/gammapy.spectrum.SpectrumExtraction.html)\n",
    "* [gammapy.background.reflected_regions_background_estimate](http://docs.gammapy.org/en/latest/api/gammapy.background.reflected_regions_background_estimate.html)\n",
    "\n",
    "\n",
    "For the global fit (using Sherpa and WSTAT in the background):\n",
    "\n",
    "* [gammapy.spectrum.SpectrumFit](http://docs.gammapy.org/en/latest/api/gammapy.spectrum.SpectrumFit.html)\n",
    "* [gammapy.spectrum.models.PowerLaw](http://docs.gammapy.org/en/latest/api/gammapy.spectrum.models.PowerLaw.html)\n",
    "* [gammapy.spectrum.models.ExponentialCutoffPowerLaw](http://docs.gammapy.org/en/latest/api/gammapy.spectrum.models.ExponentialCutoffPowerLaw.html)\n",
    "* [gammapy.spectrum.models.LogParabola](http://docs.gammapy.org/en/latest/api/gammapy.spectrum.models.LogParabola.html)\n",
    "\n",
    "To compute flux points (a.k.a. \"SED\" = \"spectral energy distribution\")\n",
    "\n",
    "* [DifferentialFluxPoints](http://docs.gammapy.org/en/latest/api/gammapy.spectrum.DifferentialFluxPoints.html)\n",
    "* [SpectrumEnergyGroupMaker](http://docs.gammapy.org/en/latest/api/gammapy.spectrum.SpectrumEnergyGroupMaker.html)\n",
    "* [FluxPointEstimator](http://docs.gammapy.org/en/latest/api/gammapy.spectrum.FluxPointEstimator.html)\n",
    "\n",
    "We know this is a lot of classes and complexity.\n",
    "The reason is that we have created Gammapy as a flexible, modular toolbox to implement such analyses.\n",
    "\n",
    "We will add more high-level classes and command line tools that execute the common workflows like the one done here by hand as a pipeline and output a nice summary, to make the common cases easy.\n",
    "\n",
    "Feedback welcome!"
   ]
  },
  {
   "cell_type": "markdown",
   "metadata": {},
   "source": [
    "## Setup\n",
    "\n",
    "As usual, we'll start with some setup ..."
   ]
  },
  {
   "cell_type": "code",
   "execution_count": null,
   "metadata": {
    "collapsed": true
   },
   "outputs": [],
   "source": [
    "%matplotlib inline\n",
    "import matplotlib.pyplot as plt\n",
    "plt.style.use('ggplot')"
   ]
  },
  {
   "cell_type": "code",
   "execution_count": null,
   "metadata": {
    "collapsed": false
   },
   "outputs": [],
   "source": [
    "import astropy.units as u\n",
    "from astropy.coordinates import SkyCoord, Angle\n",
    "from regions import CircleSkyRegion\n",
    "\n",
    "from gammapy.data import DataStore, ObservationList, Target\n",
    "from gammapy.data import ObservationStats, ObservationSummary\n",
    "from gammapy.image import SkyMask\n",
    "from gammapy.background import reflected_regions_background_estimate\n",
    "from gammapy.spectrum import SpectrumExtraction, SpectrumObservation, SpectrumFit\n",
    "from gammapy.spectrum.models import PowerLaw, ExponentialCutoffPowerLaw, LogParabola\n",
    "from gammapy.spectrum import DifferentialFluxPoints, SpectrumEnergyGroupMaker, FluxPointEstimator"
   ]
  },
  {
   "cell_type": "markdown",
   "metadata": {},
   "source": [
    "## Load Data\n",
    "\n",
    "First, we select and load some H.E.S.S. observations of the Crab nebula (simulated events for now).\n",
    "\n",
    "We will access the events, effective area, energy dispersion, livetime and PSF for containement correction."
   ]
  },
  {
   "cell_type": "code",
   "execution_count": null,
   "metadata": {
    "collapsed": false
   },
   "outputs": [],
   "source": [
    "DATA_DIR = '$GAMMAPY_EXTRA/datasets/hess-crab4-hd-hap-prod2'\n",
    "\n",
    "datastore = DataStore.from_dir(DATA_DIR)\n",
    "obs_ids = [23523, 23526, 23559, 23592]\n",
    "\n",
    "observations = ObservationList(datastore.obs(obs_id) for obs_id in obs_ids)\n",
    "print(observations[0])"
   ]
  },
  {
   "cell_type": "markdown",
   "metadata": {},
   "source": [
    "## Define Target Region\n",
    "\n",
    "The next step is to define a signal extraction region, also known as on region. In the simplest case this is just a [CircleSkyRegion](http://astropy-regions.readthedocs.io/en/latest/api/regions.CircleSkyRegion.html#regions.CircleSkyRegion), but here we will use the ``Target`` class in gammapy that is useful for book-keeping if you run several analysis in a script."
   ]
  },
  {
   "cell_type": "code",
   "execution_count": null,
   "metadata": {
    "collapsed": false
   },
   "outputs": [],
   "source": [
    "target_position = SkyCoord(ra=83.63, dec=22.01, unit='deg', frame='icrs')\n",
    "on_region_radius = Angle('0.2 deg')\n",
    "on_region = CircleSkyRegion(center=target_position, radius=on_region_radius)\n",
    "\n",
    "target = Target(on_region=on_region, name='Crab', tag='crab_example')\n",
    "# print(target)"
   ]
  },
  {
   "cell_type": "markdown",
   "metadata": {},
   "source": [
    "## Load exclusion mask\n",
    "\n",
    "Most analysis will require a mask to exclude regions with possible gamma-ray signal from the background estimation procedure. For simplicity, we will use a pre-cooked exclusion mask from gammapy-extra which includes (or rather excludes) all source listed in the [TeVCat](http://tevcat.uchicago.edu/) and cutout only the region around the crab.\n",
    "\n",
    "TODO: Change to [gamma-cat](https://gammapy.github.io/gamma-cat/)"
   ]
  },
  {
   "cell_type": "code",
   "execution_count": null,
   "metadata": {
    "collapsed": false
   },
   "outputs": [],
   "source": [
    "EXCLUSION_FILE = '$GAMMAPY_EXTRA/datasets/exclusion_masks/tevcat_exclusion.fits'\n",
    "\n",
    "allsky_mask = SkyMask.read(EXCLUSION_FILE)\n",
    "exclusion_mask = allsky_mask.cutout(position=target.on_region.center, size=Angle('7 deg'))\n",
    "\n",
    "fig = plt.figure(figsize=(8,8))\n",
    "ax = fig.add_axes([0.15, 0.1, 0.8, 0.8], projection=exclusion_mask.wcs)\n",
    "exclusion_mask.plot(fig=fig, ax=ax)\n",
    "target.on_region.plot(ax=ax, color='red')"
   ]
  },
  {
   "cell_type": "markdown",
   "metadata": {},
   "source": [
    "## Estimate background\n",
    "\n",
    "Next we will manually perform a background estimate by placing [reflected regions](http://docs.gammapy.org/en/latest/background/reflected.html) around the pointing position and looking at the source statistics. In a real analysis you probably don't want to this every time. In this case you can also pass the background estimation parameters directly to the ``SpectrumExtraction`` class, as shown below in [Extract Spectrum](#extract_spectrum)."
   ]
  },
  {
   "cell_type": "code",
   "execution_count": null,
   "metadata": {
    "collapsed": false
   },
   "outputs": [],
   "source": [
    "bkg = [\n",
    "    reflected_regions_background_estimate(\n",
    "        on_region=target.on_region,\n",
    "        pointing=obs.pointing_radec,\n",
    "        exclusion=exclusion_mask,\n",
    "        events=obs.events\n",
    "    ) for obs in observations\n",
    "]"
   ]
  },
  {
   "cell_type": "code",
   "execution_count": null,
   "metadata": {
    "collapsed": false
   },
   "outputs": [],
   "source": [
    "test_obs = 1\n",
    "test_pointing = observations[test_obs].pointing_radec\n",
    "\n",
    "fig = plt.figure(figsize=(8,8))\n",
    "ax = fig.add_axes([0.15, 0.1, 0.8, 0.8], projection=exclusion_mask.wcs)\n",
    "exclusion_mask.plot(fig=fig, ax=ax)\n",
    "target.on_region.plot(ax=ax, color='red')\n",
    "\n",
    "# without this the axis limits are changed when calling scatter\n",
    "ax.autoscale(enable=False)\n",
    "ax.scatter(test_pointing.galactic.l, test_pointing.galactic.b,\n",
    "           transform=ax.get_transform('galactic'),\n",
    "           marker='+', color='yellow', s=300)\n",
    "\n",
    "for off in bkg[test_obs].off_region:\n",
    "    off.plot(ax=ax, color='blue')"
   ]
  },
  {
   "cell_type": "markdown",
   "metadata": {},
   "source": [
    "## Source statistic\n",
    "\n",
    "Next we're going to look at the overall source statistics in our signal region. For more info about what debug plots you can create check out the [ObservationSummary](http://docs.gammapy.org/en/latest/api/gammapy.data.ObservationSummary.html#gammapy.data.ObservationSummary) class."
   ]
  },
  {
   "cell_type": "code",
   "execution_count": null,
   "metadata": {
    "collapsed": false
   },
   "outputs": [],
   "source": [
    "stats = []\n",
    "for _obs, _bkg in zip(observations, bkg):\n",
    "    stats.append(ObservationStats.from_target(_obs, target, _bkg))\n",
    "    \n",
    "print(stats[1])\n",
    "\n",
    "obs_summary=ObservationSummary(stats)\n",
    "obs_summary.plot_excess_vs_livetime()"
   ]
  },
  {
   "cell_type": "markdown",
   "metadata": {
    "collapsed": true
   },
   "source": [
    "## Extract spectrum\n",
    "\n",
    "<a id='extract_spectrum'></a>\n",
    "\n",
    "Finally, we're going to extract a spectrum using the [SpectrumExtraction](http://docs.gammapy.org/en/latest/api/gammapy.spectrum.SpectrumExtraction.html) class. Since most of the time you probably want to go directly to this step, we'll assume you just defined all your input data, but not performed any background estimation. Therefore you have to pass the background estimation parameters as a dict to the ``SpectrumExtraction`` instance. The ``run`` method executes all steps of the extraction process and saves the results in the folder ``ANALYSIS_DIR``."
   ]
  },
  {
   "cell_type": "code",
   "execution_count": null,
   "metadata": {
    "collapsed": false
   },
   "outputs": [],
   "source": [
    "ANALYSIS_DIR = 'crab_analysis'\n",
    "\n",
    "bkg_estimation = dict(\n",
    "    method='reflected',\n",
    "    exclusion=exclusion_mask\n",
    ")\n",
    "\n",
    "extraction = SpectrumExtraction(target=target,\n",
    "                                obs=observations,\n",
    "                                background=bkg_estimation)\n",
    "extraction.run(outdir=ANALYSIS_DIR)"
   ]
  },
  {
   "cell_type": "markdown",
   "metadata": {},
   "source": [
    "## Look at observations\n",
    "\n",
    "At this point we could proceed and fit a global model to the spectrum we just extraced. However, we will take a short moment to have a look at the files we just created. The ``crab_analysis`` directory contains a folder called ``ogip_data``. In this folder you find 4 ``FITS`` files for each observation. These files are described in detail at https://gamma-astro-data-formats.readthedocs.io/en/latest/ogip/index.html. In short they correspond to the on vector, the off vector, the effectie area, and the energy dispersion."
   ]
  },
  {
   "cell_type": "code",
   "execution_count": null,
   "metadata": {
    "collapsed": false
   },
   "outputs": [],
   "source": [
    "filename = ANALYSIS_DIR + '/ogip_data/pha_obs23523.fits'\n",
    "obs = SpectrumObservation.read(filename)\n",
    "obs.peek()"
   ]
  },
  {
   "cell_type": "markdown",
   "metadata": {},
   "source": [
    "## Fit spectrum\n",
    "\n",
    "Now we'll fit a global model to the spectrum. First we do a joint likelihood fit to all observations. If you want to stack the observations see below. We will also produce a debug plot in order to show how the global fit matches one of the individual observations."
   ]
  },
  {
   "cell_type": "code",
   "execution_count": null,
   "metadata": {
    "collapsed": false
   },
   "outputs": [],
   "source": [
    "model = PowerLaw(index = 2 * u.Unit(''),\n",
    "                amplitude = 2e-11 * u.Unit('cm-2 s-1 TeV-1'),\n",
    "                reference = 1 * u.TeV)\n",
    "\n",
    "fit = SpectrumFit(extraction.observations, model)\n",
    "fit.run(outdir = ANALYSIS_DIR)\n",
    "\n",
    "print(fit.global_result)\n",
    "fit.result[1].plot()"
   ]
  },
  {
   "cell_type": "markdown",
   "metadata": {},
   "source": [
    "## Compute Flux Points\n",
    "\n",
    "To round up out analysis we can compute flux points by fitting the norm of the global model in energy bands. To get a sensible energy binning we require a 4 sigma detection in each energy band."
   ]
  },
  {
   "cell_type": "code",
   "execution_count": null,
   "metadata": {
    "collapsed": false
   },
   "outputs": [],
   "source": [
    "ebounds = [0.3, 1, 3, 10, 30] * u.TeV\n",
    "obs = extraction.observations\n",
    "seg = SpectrumEnergyGroupMaker(obs=obs)\n",
    "seg.compute_range_safe()\n",
    "seg.compute_groups_fixed(ebounds=ebounds)\n",
    "\n",
    "print(seg)\n",
    "print(seg.groups)"
   ]
  },
  {
   "cell_type": "code",
   "execution_count": null,
   "metadata": {
    "collapsed": false
   },
   "outputs": [],
   "source": [
    "fpe = FluxPointEstimator(\n",
    "    obs=obs,\n",
    "    groups=seg.groups,\n",
    "    model=fit.model,\n",
    ")\n",
    "fpe.compute_points()\n",
    "flux_points = fpe.flux_points\n",
    "\n",
    "print(fpe)\n",
    "flux_points.pprint()\n",
    "flux_points.info()"
   ]
  },
  {
   "cell_type": "code",
   "execution_count": null,
   "metadata": {
    "collapsed": true
   },
   "outputs": [],
   "source": [
    "spectrum_result.plot(\n",
    "    energy_range=fit.global_result.fit_range,\n",
    "    energy_power=2, flux_unit='erg-1 cm-2 s-1',\n",
    ")"
   ]
  },
  {
   "cell_type": "markdown",
   "metadata": {},
   "source": [
    "## Stack observations\n",
    "\n",
    "And alternative approach to fitting the spectrum is stacking all observations first and the fitting a model to the stacked observation. This works as follows. A comparison to the joint likelihood fit is also printed."
   ]
  },
  {
   "cell_type": "code",
   "execution_count": null,
   "metadata": {
    "collapsed": false
   },
   "outputs": [],
   "source": [
    "stacked_obs = SpectrumObservation.stack(extraction.observations)\n",
    "stacked_fit = SpectrumFit(stacked_obs, model)\n",
    "\n",
    "# TODO: wait for https://github.com/sherpa/sherpa/pull/249\n",
    "#stacked_fit.fit()\n",
    "#print(stacked_fit.result[0])\n",
    "\n",
    "#stacked_table = stacked_fit.result[0].to_table(format='.3g')\n",
    "#stacked_table['method'] = 'stacked'\n",
    "#joint_table = fit.global_result.to_table(format='.3g')\n",
    "#joint_table['method'] = 'joint'\n",
    "# from astropy.table import vstack as vstack_table\n",
    "#print(vstack_table([stacked_table, joint_table])['method', 'index', 'index_err', 'amplitude', 'amplitude_err'])"
   ]
  },
  {
   "cell_type": "markdown",
   "metadata": {},
   "source": [
    "## Exercises\n",
    "\n",
    "Some things we might do:\n",
    "\n",
    "- Fit a different spectral model (ECPL or CPL or ...)\n",
    "- Use different method or parameters to compute the flux points\n",
    "- Do a chi^2 fit to the flux points and compare\n",
    "\n",
    "TODO: give pointers how to do this (and maybe write a notebook with solutions)"
   ]
  },
  {
   "cell_type": "code",
   "execution_count": null,
   "metadata": {
    "collapsed": true
   },
   "outputs": [],
   "source": [
    "# Start the exercises here!"
   ]
  },
  {
   "cell_type": "markdown",
   "metadata": {
    "collapsed": true
   },
   "source": [
    "## What next?\n",
    "\n",
    "In this tutorial we learned ... TODO.\n",
    "\n",
    "Here's some suggestions where to go next:\n",
    "\n",
    "* if you interested in available fit statistics checkout [gammapy.stats](docs.gammapy.org/en/latest/stats/index.html?highlight=gammapy.stats)\n",
    "* if you want to simulate spectral look at [this tutorial](http://docs.gammapy.org/en/latest/spectrum/simulation.html)\n",
    "* if you want to compare your spectra to e.g. Fermi spectra published in catalogs have a look at [this](http://docs.gammapy.org/en/latest/spectrum/plotting_fermi_spectra.html)"
   ]
  }
 ],
 "metadata": {
  "kernelspec": {
   "display_name": "Python 3",
   "language": "python",
   "name": "python3"
  },
  "language_info": {
   "codemirror_mode": {
    "name": "ipython",
    "version": 3
   },
   "file_extension": ".py",
   "mimetype": "text/x-python",
   "name": "python",
   "nbconvert_exporter": "python",
   "pygments_lexer": "ipython3",
   "version": "3.5.2"
  }
 },
 "nbformat": 4,
 "nbformat_minor": 0
}
