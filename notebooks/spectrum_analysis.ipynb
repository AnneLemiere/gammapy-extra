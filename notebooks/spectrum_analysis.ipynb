{
 "cells": [
  {
   "cell_type": "markdown",
   "metadata": {},
   "source": [
    "# Spectral analysis with Gammapy"
   ]
  },
  {
   "cell_type": "markdown",
   "metadata": {},
   "source": [
    "## Introduction\n",
    "\n",
    "This notebook explains how to use the functions and classes in [gammapy.spectrum](http://docs.gammapy.org/en/latest/spectrum/index.html).\n",
    "\n",
    "Based on a datasets of 4 Crab observations with H.E.S.S. (simulated events for now) we will perform a full region based spectral analysis, i.e. extracting source and background counts from certain \n",
    "regions, and fitting them using the forward-folding approach.\n",
    "\n",
    "Data handling:\n",
    "\n",
    "* [gammapy.data.DataStore](http://docs.gammapy.org/en/latest/api/gammapy.data.DataStore.html)\n",
    "* [gammapy.data.DataStoreObservation](http://docs.gammapy.org/en/latest/api/gammapy.data.DataStoreObservation.html)\n",
    "* [gammapy.data.Target](http://docs.gammapy.org/en/latest/api/gammapy.data.Target.html)\n",
    "* [gammapy.data.ObservationStats](http://docs.gammapy.org/en/latest/api/gammapy.data.ObservationStats.html)\n",
    "* [gammapy.data.ObservationSummary](http://docs.gammapy.org/en/latest/api/gammapy.data.ObservationSummary.html)\n",
    "\n",
    "To extract the 1-dim spectral information:\n",
    "\n",
    "* [gammapy.spectrum.SpectrumObservation](http://docs.gammapy.org/en/latest/api/gammapy.spectrum.SpectrumObservation.html)\n",
    "* [gammapy.spectrum.SpectrumExtraction](http://docs.gammapy.org/en/latest/api/gammapy.spectrum.SpectrumExtraction.html)\n",
    "* [gammapy.background.ReflectedRegionsBackgroundEstimator](http://docs.gammapy.org/en/latest/api/gammapy.background.ReflectedRegionsBackgroundEstimator.html)\n",
    "\n",
    "\n",
    "For the global fit (using Sherpa and WSTAT in the background):\n",
    "\n",
    "* [gammapy.spectrum.SpectrumFit](http://docs.gammapy.org/en/latest/api/gammapy.spectrum.SpectrumFit.html)\n",
    "* [gammapy.spectrum.models.PowerLaw](http://docs.gammapy.org/en/latest/api/gammapy.spectrum.models.PowerLaw.html)\n",
    "* [gammapy.spectrum.models.ExponentialCutoffPowerLaw](http://docs.gammapy.org/en/latest/api/gammapy.spectrum.models.ExponentialCutoffPowerLaw.html)\n",
    "* [gammapy.spectrum.models.LogParabola](http://docs.gammapy.org/en/latest/api/gammapy.spectrum.models.LogParabola.html)\n",
    "\n",
    "To compute flux points (a.k.a. \"SED\" = \"spectral energy distribution\")\n",
    "\n",
    "* [gammapy.spectrum.SpectrumResult](http://docs.gammapy.org/en/latest/api/gammapy.spectrum.SpectrumResult.html)\n",
    "* [gammapy.spectrum.FluxPoints](http://docs.gammapy.org/en/latest/api/gammapy.spectrum.FluxPoints.html)\n",
    "* [gammapy.spectrum.SpectrumEnergyGroupMaker](http://docs.gammapy.org/en/latest/api/gammapy.spectrum.SpectrumEnergyGroupMaker.html)\n",
    "* [gammapy.spectrum.FluxPointEstimator](http://docs.gammapy.org/en/latest/api/gammapy.spectrum.FluxPointEstimator.html)\n",
    "\n",
    "We know this is a lot of classes and complexity.\n",
    "The reason is that we have created Gammapy as a flexible, modular toolbox to implement such analyses.\n",
    "\n",
    "We will add more high-level classes and command line tools that execute the common workflows like the one done here by hand as a pipeline and output a nice summary, to make the common cases easy.\n",
    "\n",
    "Feedback welcome!"
   ]
  },
  {
   "cell_type": "markdown",
   "metadata": {},
   "source": [
    "## Setup\n",
    "\n",
    "As usual, we'll start with some setup ..."
   ]
  },
  {
   "cell_type": "code",
   "execution_count": 1,
   "metadata": {
    "collapsed": true
   },
   "outputs": [],
   "source": [
    "%matplotlib inline\n",
    "import matplotlib.pyplot as plt\n",
    "plt.style.use('ggplot')"
   ]
  },
  {
   "cell_type": "code",
   "execution_count": 2,
   "metadata": {
    "collapsed": false
   },
   "outputs": [],
   "source": [
    "# units and coordinates from astropy\n",
    "import astropy.units as u\n",
    "from astropy.coordinates import SkyCoord, Angle\n",
    "\n",
    "# Regions \n",
    "from regions import CircleSkyRegion\n",
    "\n",
    "# Datastore is the interface to the index of observations \n",
    "from gammapy.data import Target\n",
    "from gammapy.data import DataStore, ObservationList\n",
    "from gammapy.data import ObservationStats, ObservationSummary\n",
    "\n",
    "# The background method\n",
    "from gammapy.background.reflected import ReflectedRegionsBackgroundEstimator\n",
    "\n",
    "# Some utility function to deal with energy axis (log binning with a unit etc)\n",
    "from gammapy.utils.energy import EnergyBounds\n",
    "\n",
    "# The class performing the extraction and extraction results\n",
    "from gammapy.spectrum import SpectrumExtraction, SpectrumObservation, SpectrumFit, SpectrumResult\n",
    "\n",
    "# Spectral models\n",
    "from gammapy.spectrum.models import PowerLaw, ExponentialCutoffPowerLaw, LogParabola\n",
    "# Utilities for flux points plotting\n",
    "from gammapy.spectrum import FluxPoints, SpectrumEnergyGroupMaker, FluxPointEstimator\n",
    "\n",
    "# A class to deal with exclusion regions\n",
    "from gammapy.image import SkyMask\n",
    "\n",
    "from gammapy.extern.pathlib import Path\n"
   ]
  },
  {
   "cell_type": "markdown",
   "metadata": {},
   "source": [
    "## Load Data\n",
    "\n",
    "First, we select and load some H.E.S.S. observations of the Crab nebula (simulated events for now).\n",
    "\n",
    "We will access the events, effective area, energy dispersion, livetime and PSF for containement correction."
   ]
  },
  {
   "cell_type": "code",
   "execution_count": 3,
   "metadata": {
    "collapsed": false
   },
   "outputs": [
    {
     "name": "stdout",
     "output_type": "stream",
     "text": [
      "Info for OBS_ID = 23523\n",
      "- Start time: 53343.92\n",
      "- Pointing pos: RA 83.63 deg / Dec 21.51 deg\n",
      "- Observation duration: 1687.0 s\n",
      "- Dead-time fraction: 6.240 %\n",
      "\n"
     ]
    }
   ],
   "source": [
    "DATA_DIR = '$GAMMAPY_EXTRA/datasets/hess-crab4-hd-hap-prod2'\n",
    "\n",
    "datastore = DataStore.from_dir(DATA_DIR)\n",
    "obs_ids = [23523, 23526, 23559, 23592]\n",
    "\n",
    "observations = ObservationList(datastore.obs(obs_id) for obs_id in obs_ids)\n",
    "print(observations[0])"
   ]
  },
  {
   "cell_type": "markdown",
   "metadata": {},
   "source": [
    "## Define Target Region\n",
    "\n",
    "The next step is to define a signal extraction region, also known as on region. In the simplest case this is just a [CircleSkyRegion](http://astropy-regions.readthedocs.io/en/latest/api/regions.CircleSkyRegion.html#regions.CircleSkyRegion), but here we will use the ``Target`` class in gammapy that is useful for book-keeping if you run several analysis in a script."
   ]
  },
  {
   "cell_type": "code",
   "execution_count": 4,
   "metadata": {
    "collapsed": false
   },
   "outputs": [],
   "source": [
    "target_position = SkyCoord(ra=83.63, dec=22.01, unit='deg', frame='icrs')\n",
    "on_region_radius = Angle('0.11 deg')\n",
    "on_region = CircleSkyRegion(center=target_position, radius=on_region_radius)\n",
    "\n",
    "target = Target(on_region=on_region, name='Crab', tag='crab_example')\n",
    "# print(target)"
   ]
  },
  {
   "cell_type": "markdown",
   "metadata": {},
   "source": [
    "## Load exclusion mask\n",
    "\n",
    "Most analysis will require a mask to exclude regions with possible gamma-ray signal from the background estimation procedure. For simplicity, we will use a pre-cooked exclusion mask from gammapy-extra which includes (or rather excludes) all source listed in the [TeVCat](http://tevcat.uchicago.edu/) and cutout only the region around the crab.\n",
    "\n",
    "TODO: Change to [gamma-cat](https://gammapy.github.io/gamma-cat/)"
   ]
  },
  {
   "cell_type": "code",
   "execution_count": 5,
   "metadata": {
    "collapsed": false
   },
   "outputs": [],
   "source": [
    "EXCLUSION_FILE = '$GAMMAPY_EXTRA/datasets/exclusion_masks/tevcat_exclusion.fits'\n",
    "\n",
    "allsky_mask = SkyMask.read(EXCLUSION_FILE)\n",
    "exclusion_mask = allsky_mask.cutout(\n",
    "    position=target.on_region.center,\n",
    "    size=Angle('6 deg'),\n",
    ")"
   ]
  },
  {
   "cell_type": "markdown",
   "metadata": {},
   "source": [
    "## Estimate background\n",
    "\n",
    "Next we will manually perform a background estimate by placing [reflected regions](http://docs.gammapy.org/en/latest/background/reflected.html) around the pointing position and looking at the source statistics. In a real analysis you probably don't want to this every time. In this case you can also pass the background estimation parameters directly to the ``SpectrumExtraction`` class, as shown below in [Extract Spectrum](#extract_spectrum)."
   ]
  },
  {
   "cell_type": "code",
   "execution_count": 6,
   "metadata": {
    "collapsed": false
   },
   "outputs": [],
   "source": [
    "background_estimator = ReflectedRegionsBackgroundEstimator(\n",
    "    on_region=target.on_region,\n",
    "    obs_list = observations,\n",
    "    exclusion = exclusion_mask)\n",
    "\n",
    "background_estimator.run()\n",
    "bkg = background_estimator.result"
   ]
  },
  {
   "cell_type": "code",
   "execution_count": 7,
   "metadata": {
    "collapsed": false
   },
   "outputs": [
    {
     "data": {
      "image/png": "[encoded data removed]",
      "text/plain": [
       "<matplotlib.figure.Figure at 0x114a170d0>"
      ]
     },
     "metadata": {},
     "output_type": "display_data"
    }
   ],
   "source": [
    "fig, ax, cbar = exclusion_mask.plot()\n",
    "target.on_region.plot(ax=ax, color='red')\n",
    "\n",
    "# without this the axis limits are changed when calling scatter\n",
    "ax.autoscale(enable=False)\n",
    "\n",
    "for obs_index, obs in enumerate(observations):\n",
    "    test_pointing = obs.pointing_radec\n",
    "\n",
    "\n",
    "    ax.scatter(test_pointing.galactic.l, test_pointing.galactic.b,\n",
    "               transform=ax.get_transform('galactic'),\n",
    "               marker='+', color='green', s=300, linewidths=3)\n",
    "\n",
    "    for off in bkg[obs_index].off_region:\n",
    "        off.plot(ax=ax,alpha=0.3,color='blue')\n",
    "    "
   ]
  },
  {
   "cell_type": "markdown",
   "metadata": {},
   "source": [
    "## Source statistic\n",
    "\n",
    "Next we're going to look at the overall source statistics in our signal region. For more info about what debug plots you can create check out the [ObservationSummary](http://docs.gammapy.org/en/latest/api/gammapy.data.ObservationSummary.html#gammapy.data.ObservationSummary) class."
   ]
  },
  {
   "cell_type": "code",
   "execution_count": 8,
   "metadata": {
    "collapsed": false
   },
   "outputs": [
    {
     "name": "stdout",
     "output_type": "stream",
     "text": [
      "*** Observation summary report ***\n",
      "Observation Id: 23526\n",
      "Livetime: 0.437 h\n",
      "On events: 168\n",
      "Off events: 58\n",
      "Alpha: 0.091\n",
      "Bkg events in On region: 5.27\n",
      "Excess: 162.73\n",
      "Excess / Background: 30.86\n",
      "Gamma rate: 6.41 1 / min\n",
      "Bkg rate: 0.20 1 / min\n",
      "Sigma: 24.24\n",
      "\n"
     ]
    },
    {
     "data": {
      "text/plain": [
       "<matplotlib.axes._subplots.AxesSubplot at 0x115c0ef10>"
      ]
     },
     "execution_count": 8,
     "metadata": {},
     "output_type": "execute_result"
    },
    {
     "data": {
      "image/png": "[encoded data removed]",
      "text/plain": [
       "<matplotlib.figure.Figure at 0x114da01d0>"
      ]
     },
     "metadata": {},
     "output_type": "display_data"
    }
   ],
   "source": [
    "stats = []\n",
    "for _obs, _bkg in zip(observations, bkg):\n",
    "    stats.append(ObservationStats.from_target(_obs, target, _bkg))\n",
    "    \n",
    "print(stats[1])\n",
    "obs_summary = ObservationSummary(stats)\n",
    "fig = plt.figure(figsize=(10,6))\n",
    "ax1=fig.add_subplot(121)\n",
    "obs_summary.plot_excess_vs_livetime(ax=ax1)\n",
    "ax2=fig.add_subplot(122)\n",
    "obs_summary.plot_significance_vs_livetime(ax=ax2)\n",
    "\n"
   ]
  },
  {
   "cell_type": "markdown",
   "metadata": {
    "collapsed": true
   },
   "source": [
    "## Extract spectrum\n",
    "\n",
    "<a id='extract_spectrum'></a>\n",
    "\n",
    "Finally, we're going to extract a spectrum using the [SpectrumExtraction](http://docs.gammapy.org/en/latest/api/gammapy.spectrum.SpectrumExtraction.html) class. Since most of the time you probably want to go directly to this step, we'll assume you just defined all your input data, but not performed any background estimation. Therefore you have to pass the background estimation parameters as a dict to the ``SpectrumExtraction`` instance. The ``run`` method executes all steps of the extraction process and saves the results in the folder ``ANALYSIS_DIR``."
   ]
  },
  {
   "cell_type": "markdown",
   "metadata": {},
   "source": [
    "### Define energy binning\n",
    "\n",
    "We now provide the reconstructed energy binning we want to use. It is expected to be a Quantity with unit energy, i.e. an array with an energy unit. We use a utility function to create it.\n",
    "\n",
    "We also provide the true energy binning to use instead of default value."
   ]
  },
  {
   "cell_type": "code",
   "execution_count": 9,
   "metadata": {
    "collapsed": false
   },
   "outputs": [],
   "source": [
    "### Define reco energy binning\n",
    "e_reco = EnergyBounds.equal_log_spacing(0.1, 40, 40, unit='TeV')\n",
    "\n",
    "### Define True energy binning\n",
    "e_true = EnergyBounds.equal_log_spacing(0.05, 100., 200, unit='TeV')"
   ]
  },
  {
   "cell_type": "markdown",
   "metadata": {},
   "source": [
    "### Perform the spectral extraction\n",
    "\n",
    "Instantiate the required object and do the extraction. \n",
    "We also compute a threshold energy and store the result in OGIP compliant files (pha, rmf, arf). This last step might be omitted though."
   ]
  },
  {
   "cell_type": "code",
   "execution_count": 10,
   "metadata": {
    "collapsed": false
   },
   "outputs": [
    {
     "name": "stderr",
     "output_type": "stream",
     "text": [
      "WARNING: AstropyDeprecationWarning: \"clobber\" was deprecated in version 1.3 and will be removed in a future version. Use argument \"overwrite\" instead. [astropy.utils.decorators]\n",
      "WARNING:astropy:AstropyDeprecationWarning: \"clobber\" was deprecated in version 1.3 and will be removed in a future version. Use argument \"overwrite\" instead.\n"
     ]
    }
   ],
   "source": [
    "ANALYSIS_DIR = 'crab_analysis'\n",
    "\n",
    "bkg_estimation = dict(\n",
    "    method='reflected',\n",
    "    exclusion=exclusion_mask\n",
    ")\n",
    "\n",
    "extraction = SpectrumExtraction(target=target,\n",
    "                                obs=observations,\n",
    "                                background=bkg_estimation)\n",
    "extraction.run()"
   ]
  },
  {
   "cell_type": "code",
   "execution_count": 11,
   "metadata": {
    "collapsed": false
   },
   "outputs": [],
   "source": [
    "### Write output in the form of OGIP files: PHA, ARF, RMF, BKG\n",
    "extraction.observations.write(outdir=ANALYSIS_DIR+'/ogip_data/', use_sherpa=True)\n",
    "\n"
   ]
  },
  {
   "cell_type": "markdown",
   "metadata": {},
   "source": [
    "## Look at observations\n",
    "\n",
    "At this point we could proceed and fit a global model to the spectrum we just extraced. However, we will take a short moment to have a look at the files we just created. The ``crab_analysis`` directory contains a folder called ``ogip_data``. In this folder you find 4 ``FITS`` files for each observation. These files are described in detail at https://gamma-astro-data-formats.readthedocs.io/en/latest/ogip/index.html. In short they correspond to the on vector, the off vector, the effectie area, and the energy dispersion."
   ]
  },
  {
   "cell_type": "code",
   "execution_count": null,
   "metadata": {
    "collapsed": false
   },
   "outputs": [],
   "source": [
    "filename = ANALYSIS_DIR + '/ogip_data/pha_obs23523.fits'\n",
    "obs = SpectrumObservation.read(filename)\n",
    "obs.peek()"
   ]
  },
  {
   "cell_type": "markdown",
   "metadata": {},
   "source": [
    "## Fit spectrum\n",
    "\n",
    "Now we'll fit a global model to the spectrum. First we do a joint likelihood fit to all observations. If you want to stack the observations see below. We will also produce a debug plot in order to show how the global fit matches one of the individual observations."
   ]
  },
  {
   "cell_type": "code",
   "execution_count": 12,
   "metadata": {
    "collapsed": false
   },
   "outputs": [
    {
     "name": "stdout",
     "output_type": "stream",
     "text": [
      "\n",
      "Fit result info \n",
      "--------------- \n",
      "Model: PowerLaw\n",
      "ParameterList\n",
      "Parameter(name=u'index', value=2.173663379564313+/-0.044800361071267815, unit='', min=0, max=None, frozen=False)\n",
      "Parameter(name=u'amplitude', value=1.9855364695463224e-11+/-1.0001348872251992e-12, unit='', min=0, max=None, frozen=False)\n",
      "Parameter(name=u'reference', value=1.0, unit='', min=None, max=None, frozen=True)\n",
      "Covariance: None \n",
      "\n",
      "Statistic: 34.459 (wstat)\n",
      "Covariance:\n",
      "[u'index', u'amplitude']\n",
      "[[  2.00707235e-03   2.13642869e-14]\n",
      " [  2.13642869e-14   1.00026979e-24]]\n",
      "Fit Range: [  6.81292069e+08   1.00000000e+11] keV\n",
      "\n"
     ]
    },
    {
     "name": "stderr",
     "output_type": "stream",
     "text": [
      "/Users/terrier/Code/gammapy/gammapy/build/lib.macosx-10.5-x86_64-2.7/gammapy/stats/fit_statistics.py:161: RuntimeWarning: divide by zero encountered in log\n",
      "  term2_ = - n_on * np.log(mu_sig + alpha * mu_bkg)\n",
      "/Users/terrier/Code/gammapy/gammapy/build/lib.macosx-10.5-x86_64-2.7/gammapy/stats/fit_statistics.py:166: RuntimeWarning: divide by zero encountered in log\n",
      "  term3_ = - n_off * np.log(mu_bkg)\n",
      "/Users/terrier/Code/gammapy/gammapy/build/lib.macosx-10.5-x86_64-2.7/gammapy/stats/fit_statistics.py:198: RuntimeWarning: divide by zero encountered in log\n",
      "  term1 = - n_on * (1 - np.log(n_on))\n",
      "/Users/terrier/Code/gammapy/gammapy/build/lib.macosx-10.5-x86_64-2.7/gammapy/stats/fit_statistics.py:199: RuntimeWarning: divide by zero encountered in log\n",
      "  term2 = - n_off * (1 - np.log(n_off))\n"
     ]
    },
    {
     "data": {
      "text/plain": [
       "(<matplotlib.axes._subplots.AxesSubplot at 0x1163df110>,\n",
       " <matplotlib.axes._subplots.AxesSubplot at 0x116678450>)"
      ]
     },
     "execution_count": 12,
     "metadata": {},
     "output_type": "execute_result"
    },
    {
     "data": {
      "image/png": "[encoded data removed]",
      "text/plain": [
       "<matplotlib.figure.Figure at 0x10abd39d0>"
      ]
     },
     "metadata": {},
     "output_type": "display_data"
    }
   ],
   "source": [
    "model = PowerLaw(index = 2 * u.Unit(''),\n",
    "                amplitude = 2e-11 * u.Unit('cm-2 s-1 TeV-1'),\n",
    "                reference = 1 * u.TeV)\n",
    "\n",
    "fit = SpectrumFit(extraction.observations, model)\n",
    "fit.run(outdir = ANALYSIS_DIR)\n",
    "\n",
    "print(fit.result[0])\n",
    "fit.result[1].plot()"
   ]
  },
  {
   "cell_type": "markdown",
   "metadata": {},
   "source": [
    "## Compute Flux Points\n",
    "\n",
    "To round up out analysis we can compute flux points by fitting the norm of the global model in energy bands. To get a sensible energy binning we require a 4 sigma detection in each energy band."
   ]
  },
  {
   "cell_type": "code",
   "execution_count": 13,
   "metadata": {
    "collapsed": false
   },
   "outputs": [
    {
     "name": "stdout",
     "output_type": "stream",
     "text": [
      "SpectrumEnergyGroupMaker:\n",
      "\n",
      "Spectrum table:\n",
      "Number of bins: 72\n",
      "Bin range: (0, 71)\n",
      "Energy range: EnergyRange(min=10000000.0 keV, max=1e+11 keV)\n",
      "SpectrumEnergyGroups:\n",
      "\n",
      "Info including underflow- and overflow bins:\n",
      "Number of groups: 6\n",
      "Bin range: (0, 71)\n",
      "Energy range: EnergyRange(min=10000000.0 keV, max=1e+11 keV)\n",
      "\n",
      "SpectrumEnergyGroups:\n",
      "\n",
      "Info including underflow- and overflow bins:\n",
      "Number of groups: 6\n",
      "Bin range: (0, 71)\n",
      "Energy range: EnergyRange(min=10000000.0 keV, max=1e+11 keV)\n",
      "\n"
     ]
    },
    {
     "name": "stderr",
     "output_type": "stream",
     "text": [
      "/Users/terrier/Code/gammapy/gammapy/build/lib.macosx-10.5-x86_64-2.7/gammapy/stats/poisson.py:383: RuntimeWarning: divide by zero encountered in double_scalars\n",
      "  temp = (alpha + 1) / (n_on + n_off)\n",
      "/Users/terrier/Code/gammapy/gammapy/build/lib.macosx-10.5-x86_64-2.7/gammapy/stats/poisson.py:385: RuntimeWarning: divide by zero encountered in log\n",
      "  m = n_off * log(n_off * temp)\n",
      "/Users/terrier/Code/gammapy/gammapy/build/lib.macosx-10.5-x86_64-2.7/gammapy/stats/poisson.py:384: RuntimeWarning: divide by zero encountered in log\n",
      "  l = n_on * log(n_on * temp / alpha)\n"
     ]
    }
   ],
   "source": [
    "ebounds = [0.3, 1.1, 3, 10.1, 30] * u.TeV\n",
    "stacked_obs = extraction.observations.stack()\n",
    "\n",
    "#Temporary fix - remove one SpectrumEnergyGroupMaker uses quality vector correctly\n",
    "stacked_obs.hi_threshold = 80 * u.TeV\n",
    "seg = SpectrumEnergyGroupMaker(obs=stacked_obs)\n",
    "seg.compute_range_safe()\n",
    "seg.compute_groups_fixed(ebounds=ebounds)\n",
    "\n",
    "print(seg)\n",
    "print(seg.groups)"
   ]
  },
  {
   "cell_type": "code",
   "execution_count": 14,
   "metadata": {
    "collapsed": false
   },
   "outputs": [
    {
     "ename": "ValueError",
     "evalue": "Invalid input for parameter obs_list",
     "output_type": "error",
     "traceback": [
      "\u001b[0;31m---------------------------------------------------------------------------\u001b[0m",
      "\u001b[0;31mValueError\u001b[0m                                Traceback (most recent call last)",
      "\u001b[0;32m<ipython-input-14-ed10baab1844>\u001b[0m in \u001b[0;36m<module>\u001b[0;34m()\u001b[0m\n\u001b[1;32m      4\u001b[0m     \u001b[0mmodel\u001b[0m\u001b[0;34m=\u001b[0m\u001b[0mfit\u001b[0m\u001b[0;34m.\u001b[0m\u001b[0mmodel\u001b[0m\u001b[0;34m,\u001b[0m\u001b[0;34m\u001b[0m\u001b[0m\n\u001b[1;32m      5\u001b[0m )\n\u001b[0;32m----> 6\u001b[0;31m \u001b[0mfpe\u001b[0m\u001b[0;34m.\u001b[0m\u001b[0mcompute_points\u001b[0m\u001b[0;34m(\u001b[0m\u001b[0;34m)\u001b[0m\u001b[0;34m\u001b[0m\u001b[0m\n\u001b[0m\u001b[1;32m      7\u001b[0m \u001b[0;34m\u001b[0m\u001b[0m\n\u001b[1;32m      8\u001b[0m \u001b[0;34m\u001b[0m\u001b[0m\n",
      "\u001b[0;32m/Users/terrier/Code/gammapy/gammapy/build/lib.macosx-10.5-x86_64-2.7/gammapy/spectrum/flux_point.pyc\u001b[0m in \u001b[0;36mcompute_points\u001b[0;34m(self)\u001b[0m\n\u001b[1;32m    532\u001b[0m                 \u001b[0;32mcontinue\u001b[0m\u001b[0;34m\u001b[0m\u001b[0m\n\u001b[1;32m    533\u001b[0m \u001b[0;34m\u001b[0m\u001b[0m\n\u001b[0;32m--> 534\u001b[0;31m             \u001b[0mrow\u001b[0m \u001b[0;34m=\u001b[0m \u001b[0mself\u001b[0m\u001b[0;34m.\u001b[0m\u001b[0mcompute_flux_point\u001b[0m\u001b[0;34m(\u001b[0m\u001b[0mgroup\u001b[0m\u001b[0;34m)\u001b[0m\u001b[0;34m\u001b[0m\u001b[0m\n\u001b[0m\u001b[1;32m    535\u001b[0m             \u001b[0mrows\u001b[0m\u001b[0;34m.\u001b[0m\u001b[0mappend\u001b[0m\u001b[0;34m(\u001b[0m\u001b[0mrow\u001b[0m\u001b[0;34m)\u001b[0m\u001b[0;34m\u001b[0m\u001b[0m\n\u001b[1;32m    536\u001b[0m \u001b[0;34m\u001b[0m\u001b[0m\n",
      "\u001b[0;32m/Users/terrier/Code/gammapy/gammapy/build/lib.macosx-10.5-x86_64-2.7/gammapy/spectrum/flux_point.pyc\u001b[0m in \u001b[0;36mcompute_flux_point\u001b[0;34m(self, energy_group)\u001b[0m\n\u001b[1;32m    548\u001b[0m \u001b[0;34m\u001b[0m\u001b[0m\n\u001b[1;32m    549\u001b[0m         return self.fit_point(\n\u001b[0;32m--> 550\u001b[0;31m             \u001b[0mmodel\u001b[0m\u001b[0;34m=\u001b[0m\u001b[0mmodel\u001b[0m\u001b[0;34m,\u001b[0m \u001b[0menergy_group\u001b[0m\u001b[0;34m=\u001b[0m\u001b[0menergy_group\u001b[0m\u001b[0;34m,\u001b[0m \u001b[0menergy_ref\u001b[0m\u001b[0;34m=\u001b[0m\u001b[0menergy_ref\u001b[0m\u001b[0;34m,\u001b[0m\u001b[0;34m\u001b[0m\u001b[0m\n\u001b[0m\u001b[1;32m    551\u001b[0m         )\n\u001b[1;32m    552\u001b[0m \u001b[0;34m\u001b[0m\u001b[0m\n",
      "\u001b[0;32m/Users/terrier/Code/gammapy/gammapy/build/lib.macosx-10.5-x86_64-2.7/gammapy/spectrum/flux_point.pyc\u001b[0m in \u001b[0;36mfit_point\u001b[0;34m(self, model, energy_group, energy_ref)\u001b[0m\n\u001b[1;32m    604\u001b[0m         \u001b[0;31m# sherpa_model.gamma.freeze()\u001b[0m\u001b[0;34m\u001b[0m\u001b[0;34m\u001b[0m\u001b[0m\n\u001b[1;32m    605\u001b[0m         \u001b[0;31m#fit = SpectrumFit(self.obs, sherpa_model)\u001b[0m\u001b[0;34m\u001b[0m\u001b[0;34m\u001b[0m\u001b[0m\n\u001b[0;32m--> 606\u001b[0;31m         \u001b[0mfit\u001b[0m \u001b[0;34m=\u001b[0m \u001b[0mSpectrumFit\u001b[0m\u001b[0;34m(\u001b[0m\u001b[0mself\u001b[0m\u001b[0;34m.\u001b[0m\u001b[0mobs\u001b[0m\u001b[0;34m,\u001b[0m \u001b[0mmodel\u001b[0m\u001b[0;34m)\u001b[0m\u001b[0;34m\u001b[0m\u001b[0m\n\u001b[0m\u001b[1;32m    607\u001b[0m \u001b[0;34m\u001b[0m\u001b[0m\n\u001b[1;32m    608\u001b[0m         \u001b[0merange\u001b[0m \u001b[0;34m=\u001b[0m \u001b[0menergy_group\u001b[0m\u001b[0;34m.\u001b[0m\u001b[0menergy_range\u001b[0m\u001b[0;34m\u001b[0m\u001b[0m\n",
      "\u001b[0;32m/Users/terrier/Code/gammapy/gammapy/build/lib.macosx-10.5-x86_64-2.7/gammapy/spectrum/fit.pyc\u001b[0m in \u001b[0;36m__init__\u001b[0;34m(self, obs_list, model, stat, forward_folded, fit_range, background_model, method, err_method)\u001b[0m\n\u001b[1;32m     64\u001b[0m         \u001b[0;32mif\u001b[0m \u001b[0;32mnot\u001b[0m \u001b[0misinstance\u001b[0m\u001b[0;34m(\u001b[0m\u001b[0mobs_list\u001b[0m\u001b[0;34m,\u001b[0m \u001b[0mSpectrumObservationList\u001b[0m\u001b[0;34m)\u001b[0m\u001b[0;34m:\u001b[0m\u001b[0;34m\u001b[0m\u001b[0m\n\u001b[1;32m     65\u001b[0m             raise ValueError('Invalid input for parameter obs_list'.format(\n\u001b[0;32m---> 66\u001b[0;31m                 obs_list))\n\u001b[0m\u001b[1;32m     67\u001b[0m \u001b[0;34m\u001b[0m\u001b[0m\n\u001b[1;32m     68\u001b[0m         \u001b[0mself\u001b[0m\u001b[0;34m.\u001b[0m\u001b[0mobs_list\u001b[0m \u001b[0;34m=\u001b[0m \u001b[0mobs_list\u001b[0m\u001b[0;34m\u001b[0m\u001b[0m\n",
      "\u001b[0;31mValueError\u001b[0m: Invalid input for parameter obs_list"
     ]
    }
   ],
   "source": [
    "fpe = FluxPointEstimator(\n",
    "    obs=obs,\n",
    "    groups=seg.groups,\n",
    "    model=fit.model,\n",
    ")\n",
    "fpe.compute_points()\n",
    "\n",
    "\n",
    "print(fpe.flux_points)\n",
    "# Have to set flux unit here because flux points default unit is ph / ... which raises a unit conversion error\n",
    "fpe.flux_points.plot(flux_unit = 'cm-2 s-1 TeV-1')"
   ]
  },
  {
   "cell_type": "code",
   "execution_count": null,
   "metadata": {
    "collapsed": false
   },
   "outputs": [],
   "source": [
    "spectrum_result = SpectrumResult(\n",
    "    points=fpe.flux_points,\n",
    "    fit=fit.result[0],\n",
    ")\n",
    "\n",
    "spectrum_result.plot(\n",
    "    energy_range=fit.result[0].fit_range,\n",
    "    energy_power=2, flux_unit='erg-1 cm-2 s-1',\n",
    ")"
   ]
  },
  {
   "cell_type": "markdown",
   "metadata": {},
   "source": [
    "## Stack observations\n",
    "\n",
    "And alternative approach to fitting the spectrum is stacking all observations first and the fitting a model to the stacked observation. This works as follows. A comparison to the joint likelihood fit is also printed."
   ]
  },
  {
   "cell_type": "code",
   "execution_count": null,
   "metadata": {
    "collapsed": false
   },
   "outputs": [],
   "source": [
    "stacked_obs = extraction.observations.stack()\n",
    "stacked_fit = SpectrumFit(stacked_obs, model)\n",
    "\n",
    "stacked_fit.fit()\n",
    "stacked_fit.est_errors()\n",
    "print(stacked_fit.result[0])\n",
    "\n",
    "stacked_table = stacked_fit.result[0].to_table(format='.3g')\n",
    "stacked_table['method'] = 'stacked'\n",
    "joint_table = fit.result[0].to_table(format='.3g')\n",
    "joint_table['method'] = 'joint'\n",
    "from astropy.table import vstack as vstack_table\n",
    "print(vstack_table([stacked_table, joint_table])['method', 'index', 'index_err', 'amplitude', 'amplitude_err'])"
   ]
  },
  {
   "cell_type": "markdown",
   "metadata": {},
   "source": [
    "## Fitting the spectrum with sherpa\n",
    "\n",
    "Once we have exported the spectral files (PHA, ARF, RMF and BKG) in the OGIP format, it becomes possible to fit them later with gammapy or with any existing OGIP compliant tool such as XSpec or sherpa.\n",
    "\n",
    "We show here how to do so with sherpa using the high-level user interface. For a general view on how to use stand-alone sherpa, see this [tutorial](http://nbviewer.jupyter.org/github/sherpa/sherpa/blob/master/docs/SherpaQuickStart.ipynb)"
   ]
  },
  {
   "cell_type": "markdown",
   "metadata": {},
   "source": [
    "### loading the data as a sherpa DataStack\n",
    "\n",
    "We first need to import the user interface and load the data with [load_data](http://cxc.harvard.edu/sherpa/ahelp/load_data.html). One can load files one by one, or more simply load them all at once through a [DataStack](http://cxc.harvard.edu/sherpa/ahelp/datastack.html)."
   ]
  },
  {
   "cell_type": "code",
   "execution_count": 15,
   "metadata": {
    "collapsed": false
   },
   "outputs": [
    {
     "name": "stdout",
     "output_type": "stream",
     "text": [
      "WARNING: imaging routines will not be available, \n",
      "failed to import sherpa.image.ds9_backend due to \n",
      "'RuntimeErr: DS9Win unusable: Could not find ds9 on your PATH'\n"
     ]
    },
    {
     "name": "stderr",
     "output_type": "stream",
     "text": [
      "WARNING:sherpa.image:imaging routines will not be available, \n",
      "failed to import sherpa.image.ds9_backend due to \n",
      "'RuntimeErr: DS9Win unusable: Could not find ds9 on your PATH'\n"
     ]
    },
    {
     "name": "stdout",
     "output_type": "stream",
     "text": [
      "WARNING: failed to import sherpa.astro.xspec; XSPEC models will not be available\n"
     ]
    },
    {
     "name": "stderr",
     "output_type": "stream",
     "text": [
      "WARNING:sherpa.astro.all:failed to import sherpa.astro.xspec; XSPEC models will not be available\n"
     ]
    },
    {
     "name": "stdout",
     "output_type": "stream",
     "text": [
      "read ARF file crab_analysis/ogip_files/arf_obs23523.fits\n"
     ]
    },
    {
     "name": "stderr",
     "output_type": "stream",
     "text": [
      "INFO:sherpa.astro.io:read ARF file crab_analysis/ogip_files/arf_obs23523.fits\n"
     ]
    },
    {
     "name": "stdout",
     "output_type": "stream",
     "text": [
      "read RMF file crab_analysis/ogip_files/rmf_obs23523.fits\n"
     ]
    },
    {
     "name": "stderr",
     "output_type": "stream",
     "text": [
      "INFO:sherpa.astro.io:read RMF file crab_analysis/ogip_files/rmf_obs23523.fits\n"
     ]
    },
    {
     "name": "stdout",
     "output_type": "stream",
     "text": [
      "read background file crab_analysis/ogip_files/bkg_obs23523.fits\n"
     ]
    },
    {
     "name": "stderr",
     "output_type": "stream",
     "text": [
      "INFO:sherpa.astro.io:read background file crab_analysis/ogip_files/bkg_obs23523.fits\n"
     ]
    },
    {
     "name": "stdout",
     "output_type": "stream",
     "text": [
      "read ARF file crab_analysis/ogip_files/arf_obs23526.fits\n"
     ]
    },
    {
     "name": "stderr",
     "output_type": "stream",
     "text": [
      "INFO:sherpa.astro.io:read ARF file crab_analysis/ogip_files/arf_obs23526.fits\n"
     ]
    },
    {
     "name": "stdout",
     "output_type": "stream",
     "text": [
      "read RMF file crab_analysis/ogip_files/rmf_obs23526.fits\n"
     ]
    },
    {
     "name": "stderr",
     "output_type": "stream",
     "text": [
      "INFO:sherpa.astro.io:read RMF file crab_analysis/ogip_files/rmf_obs23526.fits\n"
     ]
    },
    {
     "name": "stdout",
     "output_type": "stream",
     "text": [
      "read background file crab_analysis/ogip_files/bkg_obs23526.fits\n"
     ]
    },
    {
     "name": "stderr",
     "output_type": "stream",
     "text": [
      "INFO:sherpa.astro.io:read background file crab_analysis/ogip_files/bkg_obs23526.fits\n"
     ]
    },
    {
     "name": "stdout",
     "output_type": "stream",
     "text": [
      "read ARF file crab_analysis/ogip_files/arf_obs23559.fits\n"
     ]
    },
    {
     "name": "stderr",
     "output_type": "stream",
     "text": [
      "INFO:sherpa.astro.io:read ARF file crab_analysis/ogip_files/arf_obs23559.fits\n"
     ]
    },
    {
     "name": "stdout",
     "output_type": "stream",
     "text": [
      "read RMF file crab_analysis/ogip_files/rmf_obs23559.fits\n"
     ]
    },
    {
     "name": "stderr",
     "output_type": "stream",
     "text": [
      "INFO:sherpa.astro.io:read RMF file crab_analysis/ogip_files/rmf_obs23559.fits\n"
     ]
    },
    {
     "name": "stdout",
     "output_type": "stream",
     "text": [
      "read background file crab_analysis/ogip_files/bkg_obs23559.fits\n"
     ]
    },
    {
     "name": "stderr",
     "output_type": "stream",
     "text": [
      "INFO:sherpa.astro.io:read background file crab_analysis/ogip_files/bkg_obs23559.fits\n"
     ]
    },
    {
     "name": "stdout",
     "output_type": "stream",
     "text": [
      "read ARF file crab_analysis/ogip_files/arf_obs23592.fits\n"
     ]
    },
    {
     "name": "stderr",
     "output_type": "stream",
     "text": [
      "INFO:sherpa.astro.io:read ARF file crab_analysis/ogip_files/arf_obs23592.fits\n"
     ]
    },
    {
     "name": "stdout",
     "output_type": "stream",
     "text": [
      "read RMF file crab_analysis/ogip_files/rmf_obs23592.fits\n"
     ]
    },
    {
     "name": "stderr",
     "output_type": "stream",
     "text": [
      "INFO:sherpa.astro.io:read RMF file crab_analysis/ogip_files/rmf_obs23592.fits\n"
     ]
    },
    {
     "name": "stdout",
     "output_type": "stream",
     "text": [
      "read background file crab_analysis/ogip_files/bkg_obs23592.fits\n"
     ]
    },
    {
     "name": "stderr",
     "output_type": "stream",
     "text": [
      "INFO:sherpa.astro.io:read background file crab_analysis/ogip_files/bkg_obs23592.fits\n"
     ]
    }
   ],
   "source": [
    "import glob   # to list files\n",
    "import sherpa.astro.ui as sh\n",
    "from sherpa.astro.datastack import DataStack\n",
    "from sherpa.astro.datastack import load_data, set_source, set_stat, fit, conf, plot_fit, notice, reg_unc\n",
    "\n",
    "# If we want to load just one file\n",
    "# sh.load_data(import sherpa.astro.ui as sh\n",
    "\n",
    "\n",
    "\n",
    "# Otherwise we need to have a text file containing all the names\n",
    "# and load it with ds.load_data(@myfile)\n",
    "ds = DataStack()\n",
    "pha_list = glob.glob(ANALYSIS_DIR + '/ogip_files/pha_obs?????.fits')\n",
    "for pha in pha_list:\n",
    "    load_data(ds,pha)"
   ]
  },
  {
   "cell_type": "markdown",
   "metadata": {},
   "source": [
    "### Creating the source model\n",
    "\n",
    "We can now use sherpa models. We need to remember that they were designed for X-ray astronomy and energy is written in keV. \n",
    "\n",
    "Here we start with a simple PL."
   ]
  },
  {
   "cell_type": "code",
   "execution_count": 16,
   "metadata": {
    "collapsed": false
   },
   "outputs": [
    {
     "name": "stdout",
     "output_type": "stream",
     "text": [
      "powlaw1d.p1\n",
      "   Param        Type          Value          Min          Max      Units\n",
      "   -----        ----          -----          ---          ---      -----\n",
      "   p1.gamma     thawed            2          -10           10           \n",
      "   p1.ref       frozen        1e+09 -3.40282e+38  3.40282e+38           \n",
      "   p1.ampl      thawed        1e-20            0  3.40282e+38           \n"
     ]
    }
   ],
   "source": [
    "# Define the source model\n",
    "set_source(\"powlaw1d.p1\")\n",
    "\n",
    "# Change reference energy of the model \n",
    "p1.ref = 1e9   # 1 TeV = 1e9 keV\n",
    "p1.gamma = 2.0\n",
    "p1.ampl = 1e-20  # in cm**-2 s**-1 keV**-1\n",
    "# View parameters \n",
    "print(p1)\n"
   ]
  },
  {
   "cell_type": "markdown",
   "metadata": {},
   "source": [
    "### Perform the fit and compute errors\n",
    "\n",
    "We need to set the correct statistic: WSTAT."
   ]
  },
  {
   "cell_type": "code",
   "execution_count": 17,
   "metadata": {
    "collapsed": false
   },
   "outputs": [
    {
     "name": "stdout",
     "output_type": "stream",
     "text": [
      "Dataset               = 1\n",
      "Method                = levmar\n",
      "Statistic             = wstat\n",
      "Initial fit statistic = 61.2483\n",
      "Final fit statistic   = 29.7562 at function evaluation 195\n",
      "Data points           = 28\n",
      "Degrees of freedom    = 26\n",
      "Probability [Q-value] = 0.277834\n",
      "Reduced statistic     = 1.14447\n",
      "Change in statistic   = 31.4921\n",
      "   p1.gamma       2.16927     \n",
      "   p1.ampl        1.81488e-20 \n",
      "WARNING: parameter value p1.ampl is at its minimum boundary 0.0\n"
     ]
    },
    {
     "name": "stderr",
     "output_type": "stream",
     "text": [
      "INFO:sherpa.astro.ui.utils:Dataset               = 1\n",
      "Method                = levmar\n",
      "Statistic             = wstat\n",
      "Initial fit statistic = 61.2483\n",
      "Final fit statistic   = 29.7562 at function evaluation 195\n",
      "Data points           = 28\n",
      "Degrees of freedom    = 26\n",
      "Probability [Q-value] = 0.277834\n",
      "Reduced statistic     = 1.14447\n",
      "Change in statistic   = 31.4921\n",
      "   p1.gamma       2.16927     \n",
      "   p1.ampl        1.81488e-20 \n",
      "WARNING: parameter value p1.ampl is at its minimum boundary 0.0\n"
     ]
    }
   ],
   "source": [
    "### Define the statistic\n",
    "set_stat(\"WStat\")\n",
    "\n",
    "### Define the fit range\n",
    "notice(0.6e9,20e9)\n",
    "\n",
    "### Do the fit\n",
    "fit()"
   ]
  },
  {
   "cell_type": "markdown",
   "metadata": {},
   "source": [
    "### Plot the result\n",
    "\n",
    "Plotting with the stand-alone version is not straightforward because of limited interface to matplotlib."
   ]
  },
  {
   "cell_type": "code",
   "execution_count": 18,
   "metadata": {
    "collapsed": false
   },
   "outputs": [
    {
     "name": "stdout",
     "output_type": "stream",
     "text": [
      "WARNING: The displayed errorbars have been supplied with the data or calculated using chi2xspecvar; the errors are not used in fits with wstat\n"
     ]
    },
    {
     "name": "stderr",
     "output_type": "stream",
     "text": [
      "WARNING:sherpa.plot:The displayed errorbars have been supplied with the data or calculated using chi2xspecvar; the errors are not used in fits with wstat\n"
     ]
    },
    {
     "data": {
      "image/png": "[encoded data removed]",
      "text/plain": [
       "<matplotlib.figure.Figure at 0x114efea50>"
      ]
     },
     "metadata": {},
     "output_type": "display_data"
    }
   ],
   "source": [
    "plot_fit()\n",
    "plt.gca().set_xscale(\"log\")\n",
    "plt.gca().set_yscale(\"log\")"
   ]
  },
  {
   "cell_type": "markdown",
   "metadata": {},
   "source": [
    "### Errors and confidence contours\n"
   ]
  },
  {
   "cell_type": "code",
   "execution_count": 19,
   "metadata": {
    "collapsed": false
   },
   "outputs": [
    {
     "data": {
      "image/png": "[encoded data removed]",
      "text/plain": [
       "<matplotlib.figure.Figure at 0x116cdcad0>"
      ]
     },
     "metadata": {},
     "output_type": "display_data"
    }
   ],
   "source": [
    "reg_unc(p1.gamma,p1.ampl)"
   ]
  },
  {
   "cell_type": "markdown",
   "metadata": {},
   "source": [
    "## Exercises\n",
    "\n",
    "Some things we might do:\n",
    "\n",
    "- Fit a different spectral model (ECPL or CPL or ...)\n",
    "- Use different method or parameters to compute the flux points\n",
    "- Do a chi^2 fit to the flux points and compare\n",
    "\n",
    "TODO: give pointers how to do this (and maybe write a notebook with solutions)"
   ]
  },
  {
   "cell_type": "code",
   "execution_count": null,
   "metadata": {
    "collapsed": true
   },
   "outputs": [],
   "source": []
  },
  {
   "cell_type": "code",
   "execution_count": null,
   "metadata": {
    "collapsed": true
   },
   "outputs": [],
   "source": [
    "# Start the exercises here!"
   ]
  },
  {
   "cell_type": "markdown",
   "metadata": {
    "collapsed": true
   },
   "source": [
    "## What next?\n",
    "\n",
    "In this tutorial we learned ... TODO.\n",
    "\n",
    "Here's some suggestions where to go next:\n",
    "\n",
    "* if you interested in available fit statistics checkout [gammapy.stats](docs.gammapy.org/en/latest/stats/index.html?highlight=gammapy.stats)\n",
    "* if you want to simulate spectral look at [this tutorial](http://docs.gammapy.org/en/latest/spectrum/simulation.html)\n",
    "* if you want to compare your spectra to e.g. Fermi spectra published in catalogs have a look at [this](http://docs.gammapy.org/en/latest/spectrum/plotting_fermi_spectra.html)"
   ]
  }
 ],
 "metadata": {
  "kernelspec": {
   "display_name": "Python 2",
   "language": "python",
   "name": "python2"
  },
  "language_info": {
   "codemirror_mode": {
    "name": "ipython",
    "version": 2
   },
   "file_extension": ".py",
   "mimetype": "text/x-python",
   "name": "python",
   "nbconvert_exporter": "python",
   "pygments_lexer": "ipython2",
   "version": "2.7.11"
  }
 },
 "nbformat": 4,
 "nbformat_minor": 0
}
