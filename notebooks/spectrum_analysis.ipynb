{
 "cells": [
  {
   "cell_type": "markdown",
   "metadata": {},
   "source": [
    "# Spectral analysis with Gammapy"
   ]
  },
  {
   "cell_type": "markdown",
   "metadata": {},
   "source": [
    "## Introduction\n",
    "\n",
    "This notebook explains how to use the functions and classes in [gammapy.spectrum](http://docs.gammapy.org/en/latest/spectrum/index.html).\n",
    "\n",
    "Based on a datasets of 4 Crab observations with H.E.S.S. (simulated events for now) we will perform a full region based spectral analysis, i.e. extracting source and background counts from certain \n",
    "regions, and fitting them using the forward-folding approach.\n",
    "\n",
    "Data handling:\n",
    "\n",
    "* [gammapy.data.DataStore](http://docs.gammapy.org/en/latest/api/gammapy.data.DataStore.html)\n",
    "* [gammapy.data.DataStoreObservation](http://docs.gammapy.org/en/latest/api/gammapy.data.DataStoreObservation.html)\n",
    "* [gammapy.data.Target](http://docs.gammapy.org/en/latest/api/gammapy.data.Target.html)\n",
    "* [gammapy.data.ObservationStats](http://docs.gammapy.org/en/latest/api/gammapy.data.ObservationStats.html)\n",
    "* [gammapy.data.ObservationSummary](http://docs.gammapy.org/en/latest/api/gammapy.data.ObservationSummary.html)\n",
    "\n",
    "To extract the 1-dim spectral information:\n",
    "\n",
    "* [gammapy.spectrum.SpectrumObservation](http://docs.gammapy.org/en/latest/api/gammapy.spectrum.SpectrumObservation.html)\n",
    "* [gammapy.spectrum.SpectrumExtraction](http://docs.gammapy.org/en/latest/api/gammapy.spectrum.SpectrumExtraction.html)\n",
    "* [gammapy.background.ReflectedRegionsBackgroundEstimator](http://docs.gammapy.org/en/latest/api/gammapy.background.ReflectedRegionsBackgroundEstimator.html)\n",
    "\n",
    "\n",
    "For the global fit (using Sherpa and WSTAT in the background):\n",
    "\n",
    "* [gammapy.spectrum.SpectrumFit](http://docs.gammapy.org/en/latest/api/gammapy.spectrum.SpectrumFit.html)\n",
    "* [gammapy.spectrum.models.PowerLaw](http://docs.gammapy.org/en/latest/api/gammapy.spectrum.models.PowerLaw.html)\n",
    "* [gammapy.spectrum.models.ExponentialCutoffPowerLaw](http://docs.gammapy.org/en/latest/api/gammapy.spectrum.models.ExponentialCutoffPowerLaw.html)\n",
    "* [gammapy.spectrum.models.LogParabola](http://docs.gammapy.org/en/latest/api/gammapy.spectrum.models.LogParabola.html)\n",
    "\n",
    "To compute flux points (a.k.a. \"SED\" = \"spectral energy distribution\")\n",
    "\n",
    "* [gammapy.spectrum.SpectrumResult](http://docs.gammapy.org/en/latest/api/gammapy.spectrum.SpectrumResult.html)\n",
    "* [gammapy.spectrum.FluxPoints](http://docs.gammapy.org/en/latest/api/gammapy.spectrum.FluxPoints.html)\n",
    "* [gammapy.spectrum.SpectrumEnergyGroupMaker](http://docs.gammapy.org/en/latest/api/gammapy.spectrum.SpectrumEnergyGroupMaker.html)\n",
    "* [gammapy.spectrum.FluxPointEstimator](http://docs.gammapy.org/en/latest/api/gammapy.spectrum.FluxPointEstimator.html)\n",
    "\n",
    "We know this is a lot of classes and complexity.\n",
    "The reason is that we have created Gammapy as a flexible, modular toolbox to implement such analyses.\n",
    "\n",
    "We will add more high-level classes and command line tools that execute the common workflows like the one done here by hand as a pipeline and output a nice summary, to make the common cases easy.\n",
    "\n",
    "Feedback welcome!"
   ]
  },
  {
   "cell_type": "markdown",
   "metadata": {},
   "source": [
    "## Setup\n",
    "\n",
    "As usual, we'll start with some setup ..."
   ]
  },
  {
   "cell_type": "code",
   "execution_count": 1,
   "metadata": {
    "collapsed": true
   },
   "outputs": [],
   "source": [
    "%matplotlib inline\n",
    "import matplotlib.pyplot as plt\n",
    "plt.style.use('ggplot')"
   ]
  },
  {
   "cell_type": "code",
   "execution_count": 2,
   "metadata": {
    "collapsed": false
   },
   "outputs": [],
   "source": [
    "# units and coordinates from astropy\n",
    "import astropy.units as u\n",
    "from astropy.coordinates import SkyCoord, Angle\n",
    "\n",
    "# Regions \n",
    "from regions import CircleSkyRegion\n",
    "\n",
    "# Datastore is the interface to the index of observations \n",
    "from gammapy.data import Target\n",
    "from gammapy.data import DataStore, ObservationList\n",
    "from gammapy.data import ObservationStats, ObservationSummary\n",
    "\n",
    "# The background method\n",
    "from gammapy.background.reflected import ReflectedRegionsBackgroundEstimator\n",
    "\n",
    "# Some utility function to deal with energy axis (log binning with a unit etc)\n",
    "from gammapy.utils.energy import EnergyBounds\n",
    "\n",
    "# The class performing the extraction and extraction results\n",
    "from gammapy.spectrum import SpectrumExtraction, SpectrumObservation, SpectrumFit, SpectrumResult\n",
    "\n",
    "# Spectral models\n",
    "from gammapy.spectrum.models import PowerLaw, ExponentialCutoffPowerLaw, LogParabola\n",
    "# Utilities for flux points plotting\n",
    "from gammapy.spectrum import FluxPoints, SpectrumEnergyGroupMaker, FluxPointEstimator\n",
    "\n",
    "# A class to deal with exclusion regions\n",
    "from gammapy.image import SkyMask\n",
    "\n",
    "from gammapy.extern.pathlib import Path\n"
   ]
  },
  {
   "cell_type": "markdown",
   "metadata": {},
   "source": [
    "## Load Data\n",
    "\n",
    "First, we select and load some H.E.S.S. observations of the Crab nebula (simulated events for now).\n",
    "\n",
    "We will access the events, effective area, energy dispersion, livetime and PSF for containement correction."
   ]
  },
  {
   "cell_type": "code",
   "execution_count": 3,
   "metadata": {
    "collapsed": false
   },
   "outputs": [
    {
     "name": "stdout",
     "output_type": "stream",
     "text": [
      "Info for OBS_ID = 23523\n",
      "- Start time: 53343.92\n",
      "- Pointing pos: RA 83.63 deg / Dec 21.51 deg\n",
      "- Observation duration: 1687.0 s\n",
      "- Dead-time fraction: 6.240 %\n",
      "\n"
     ]
    }
   ],
   "source": [
    "DATA_DIR = '$GAMMAPY_EXTRA/datasets/hess-crab4-hd-hap-prod2'\n",
    "\n",
    "datastore = DataStore.from_dir(DATA_DIR)\n",
    "obs_ids = [23523, 23526, 23559, 23592]\n",
    "\n",
    "observations = ObservationList(datastore.obs(obs_id) for obs_id in obs_ids)\n",
    "print(observations[0])"
   ]
  },
  {
   "cell_type": "markdown",
   "metadata": {},
   "source": [
    "## Define Target Region\n",
    "\n",
    "The next step is to define a signal extraction region, also known as on region. In the simplest case this is just a [CircleSkyRegion](http://astropy-regions.readthedocs.io/en/latest/api/regions.CircleSkyRegion.html#regions.CircleSkyRegion), but here we will use the ``Target`` class in gammapy that is useful for book-keeping if you run several analysis in a script."
   ]
  },
  {
   "cell_type": "code",
   "execution_count": 4,
   "metadata": {
    "collapsed": false
   },
   "outputs": [],
   "source": [
    "target_position = SkyCoord(ra=83.63, dec=22.01, unit='deg', frame='icrs')\n",
    "on_region_radius = Angle('0.11 deg')\n",
    "on_region = CircleSkyRegion(center=target_position, radius=on_region_radius)\n",
    "\n",
    "target = Target(on_region=on_region, name='Crab', tag='crab_example')\n",
    "# print(target)"
   ]
  },
  {
   "cell_type": "markdown",
   "metadata": {},
   "source": [
    "## Load exclusion mask\n",
    "\n",
    "Most analysis will require a mask to exclude regions with possible gamma-ray signal from the background estimation procedure. For simplicity, we will use a pre-cooked exclusion mask from gammapy-extra which includes (or rather excludes) all source listed in the [TeVCat](http://tevcat.uchicago.edu/) and cutout only the region around the crab.\n",
    "\n",
    "TODO: Change to [gamma-cat](https://gammapy.github.io/gamma-cat/)"
   ]
  },
  {
   "cell_type": "code",
   "execution_count": 5,
   "metadata": {
    "collapsed": false
   },
   "outputs": [],
   "source": [
    "EXCLUSION_FILE = '$GAMMAPY_EXTRA/datasets/exclusion_masks/tevcat_exclusion.fits'\n",
    "\n",
    "allsky_mask = SkyMask.read(EXCLUSION_FILE)\n",
    "exclusion_mask = allsky_mask.cutout(\n",
    "    position=target.on_region.center,\n",
    "    size=Angle('6 deg'),\n",
    ")"
   ]
  },
  {
   "cell_type": "markdown",
   "metadata": {},
   "source": [
    "## Estimate background\n",
    "\n",
    "Next we will manually perform a background estimate by placing [reflected regions](http://docs.gammapy.org/en/latest/background/reflected.html) around the pointing position and looking at the source statistics. In a real analysis you probably don't want to this every time. In this case you can also pass the background estimation parameters directly to the ``SpectrumExtraction`` class, as shown below in [Extract Spectrum](#extract_spectrum)."
   ]
  },
  {
   "cell_type": "code",
   "execution_count": 6,
   "metadata": {
    "collapsed": false
   },
   "outputs": [],
   "source": [
    "background_estimator = ReflectedRegionsBackgroundEstimator(\n",
    "    on_region=target.on_region,\n",
    "    obs_list = observations,\n",
    "    exclusion = exclusion_mask)\n",
    "\n",
    "background_estimator.run()\n",
    "bkg = background_estimator.result"
   ]
  },
  {
   "cell_type": "code",
   "execution_count": 61,
   "metadata": {
    "collapsed": false
   },
   "outputs": [
    {
     "data": {
      "text/plain": [
       "<matplotlib.legend.Legend at 0x7faa99cf7350>"
      ]
     },
     "execution_count": 61,
     "metadata": {},
     "output_type": "execute_result"
    },
    {
     "data": {
      "image/png": "[encoded data removed]",
      "text/plain": [
       "<matplotlib.figure.Figure at 0x7faa99dd3a50>"
      ]
     },
     "metadata": {},
     "output_type": "display_data"
    }
   ],
   "source": [
    "fig = plt.figure(figsize=(8,8))\n",
    "ax = fig.add_subplot(111, projection=exclusion_mask.wcs)\n",
    "exclusion_mask.plot(fig=fig, ax=ax)\n",
    "\n",
    "on_patch = on_region.to_pixel(wcs=exclusion_mask.wcs).as_patch(color='red')\n",
    "ax.add_patch(on_patch)\n",
    "\n",
    "# without this the axis limits are changed when calling scatter\n",
    "ax.autoscale(enable=False)\n",
    "\n",
    "colors = ['blue', 'orange', 'green', 'purple']\n",
    "handles = list()\n",
    "for obs_index, obs in enumerate(observations):\n",
    "    for off in bkg[obs_index].off_region:\n",
    "        off_patch = off.to_pixel(wcs=exclusion_mask.wcs).as_patch(color=colors[obs_index], alpha=0.5,\n",
    "                                                                  label='Run {}'.format(obs.obs_id))\n",
    "        handle = ax.add_patch(off_patch)\n",
    "    handles.append(handle)\n",
    "    \n",
    "    test_pointing = obs.pointing_radec\n",
    "    ax.scatter(test_pointing.galactic.l, test_pointing.galactic.b,\n",
    "               transform=ax.get_transform('galactic'),\n",
    "               marker='+', color=colors[obs_index], s=300, linewidths=3)\n",
    "    \n",
    "ax.legend(handles=handles)"
   ]
  },
  {
   "cell_type": "markdown",
   "metadata": {},
   "source": [
    "## Source statistic\n",
    "\n",
    "Next we're going to look at the overall source statistics in our signal region. For more info about what debug plots you can create check out the [ObservationSummary](http://docs.gammapy.org/en/latest/api/gammapy.data.ObservationSummary.html#gammapy.data.ObservationSummary) class."
   ]
  },
  {
   "cell_type": "code",
   "execution_count": null,
   "metadata": {
    "collapsed": false
   },
   "outputs": [],
   "source": [
    "stats = []\n",
    "for _obs, _bkg in zip(observations, bkg):\n",
    "    stats.append(ObservationStats.from_target(_obs, target, _bkg))\n",
    "    \n",
    "print(stats[1])\n",
    "obs_summary = ObservationSummary(stats)\n",
    "fig = plt.figure(figsize=(10,6))\n",
    "ax1=fig.add_subplot(121)\n",
    "obs_summary.plot_excess_vs_livetime(ax=ax1)\n",
    "ax2=fig.add_subplot(122)\n",
    "obs_summary.plot_significance_vs_livetime(ax=ax2)\n",
    "\n"
   ]
  },
  {
   "cell_type": "markdown",
   "metadata": {
    "collapsed": true
   },
   "source": [
    "## Extract spectrum\n",
    "\n",
    "<a id='extract_spectrum'></a>\n",
    "\n",
    "Finally, we're going to extract a spectrum using the [SpectrumExtraction](http://docs.gammapy.org/en/latest/api/gammapy.spectrum.SpectrumExtraction.html) class. Since most of the time you probably want to go directly to this step, we'll assume you just defined all your input data, but not performed any background estimation. Therefore you have to pass the background estimation parameters as a dict to the ``SpectrumExtraction`` instance. The ``run`` method executes all steps of the extraction process and saves the results in the folder ``ANALYSIS_DIR``."
   ]
  },
  {
   "cell_type": "markdown",
   "metadata": {},
   "source": [
    "### Define energy binning\n",
    "\n",
    "We now provide the reconstructed energy binning we want to use. It is expected to be a Quantity with unit energy, i.e. an array with an energy unit. We use a utility function to create it.\n",
    "\n",
    "We also provide the true energy binning to use instead of default value."
   ]
  },
  {
   "cell_type": "code",
   "execution_count": null,
   "metadata": {
    "collapsed": false
   },
   "outputs": [],
   "source": [
    "### Define reco energy binning\n",
    "e_reco = EnergyBounds.equal_log_spacing(0.1, 40, 40, unit='TeV')\n",
    "\n",
    "### Define True energy binning\n",
    "e_true = EnergyBounds.equal_log_spacing(0.05, 100., 200, unit='TeV')"
   ]
  },
  {
   "cell_type": "markdown",
   "metadata": {},
   "source": [
    "### Perform the spectral extraction\n",
    "\n",
    "Instantiate a [SpectrumExtraction](http://docs.gammapy.org/en/latest/api/gammapy.spectrum.SpectrumExtraction.html) object that will do the extraction. This requires a Target object, an ObservationList and a dict containing the method and exclusion mask used for background extraction. \n",
    "\n",
    "The containment_correction parameter is there to allow for PSF leakage correction if one is working with full enclosure IRFs.\n",
    "\n",
    "We also compute a threshold energy and store the result in OGIP compliant files (pha, rmf, arf). This last step might be omitted though."
   ]
  },
  {
   "cell_type": "code",
   "execution_count": null,
   "metadata": {
    "collapsed": false
   },
   "outputs": [],
   "source": [
    "ANALYSIS_DIR = 'crab_analysis'\n",
    "\n",
    "bkg_estimation = dict(\n",
    "    method='reflected',\n",
    "    exclusion=exclusion_mask,\n",
    ")\n",
    "\n",
    "extraction = SpectrumExtraction(target=target,\n",
    "                                obs=observations,\n",
    "                                background=bkg_estimation,\n",
    "                                containment_correction=False\n",
    "                               )\n",
    "extraction.run()\n",
    "\n",
    "### Add a condition on correct energy range in case it is not set by default\n",
    "extraction.define_energy_threshold('area_max', percent=10.0)"
   ]
  },
  {
   "cell_type": "code",
   "execution_count": null,
   "metadata": {
    "collapsed": false
   },
   "outputs": [],
   "source": [
    "### Write output in the form of OGIP files: PHA, ARF, RMF, BKG\n",
    "extraction.observations.write(outdir=ANALYSIS_DIR+'/ogip_data/', use_sherpa=True)\n",
    "\n"
   ]
  },
  {
   "cell_type": "markdown",
   "metadata": {},
   "source": [
    "## Look at observations\n",
    "\n",
    "At this point we could proceed and fit a global model to the spectrum we just extraced. However, we will take a short moment to have a look at the files we just created. The ``crab_analysis`` directory contains a folder called ``ogip_data``. In this folder you find 4 ``FITS`` files for each observation. These files are described in detail at https://gamma-astro-data-formats.readthedocs.io/en/latest/ogip/index.html. In short they correspond to the on vector, the off vector, the effectie area, and the energy dispersion."
   ]
  },
  {
   "cell_type": "code",
   "execution_count": null,
   "metadata": {
    "collapsed": false
   },
   "outputs": [],
   "source": [
    "filename = ANALYSIS_DIR + '/ogip_data/pha_obs23523.fits'\n",
    "obs = SpectrumObservation.read(filename)\n",
    "obs.peek()"
   ]
  },
  {
   "cell_type": "markdown",
   "metadata": {},
   "source": [
    "## Fit spectrum\n",
    "\n",
    "Now we'll fit a global model to the spectrum. First we do a joint likelihood fit to all observations. If you want to stack the observations see below. We will also produce a debug plot in order to show how the global fit matches one of the individual observations."
   ]
  },
  {
   "cell_type": "code",
   "execution_count": null,
   "metadata": {
    "collapsed": false
   },
   "outputs": [],
   "source": [
    "model = PowerLaw(index = 2 * u.Unit(''),\n",
    "                amplitude = 2e-11 * u.Unit('cm-2 s-1 TeV-1'),\n",
    "                reference = 1 * u.TeV)\n",
    "\n",
    "fit = SpectrumFit(extraction.observations, model)\n",
    "fit.run(outdir = ANALYSIS_DIR)\n",
    "\n",
    "print(fit.result[0])\n",
    "fit.result[1].plot()"
   ]
  },
  {
   "cell_type": "markdown",
   "metadata": {},
   "source": [
    "## Compute Flux Points\n",
    "\n",
    "To round up out analysis we can compute flux points by fitting the norm of the global model in energy bands. We'll use a fixed energy binning for now."
   ]
  },
  {
   "cell_type": "code",
   "execution_count": null,
   "metadata": {
    "collapsed": false
   },
   "outputs": [],
   "source": [
    "# Define energy binning\n",
    "ebounds = [0.3, 1.1, 3, 10.1, 30] * u.TeV\n",
    "\n",
    "stacked_obs = extraction.observations.stack()\n",
    "seg = SpectrumEnergyGroupMaker(obs=stacked_obs)\n",
    "seg.compute_range_safe()\n",
    "seg.compute_groups_fixed(ebounds=ebounds)\n",
    "\n",
    "print(seg.groups)"
   ]
  },
  {
   "cell_type": "code",
   "execution_count": null,
   "metadata": {
    "collapsed": false
   },
   "outputs": [],
   "source": [
    "fpe = FluxPointEstimator(\n",
    "    obs=obs,\n",
    "    groups=seg.groups,\n",
    "    model=fit.model,\n",
    ")\n",
    "fpe.compute_points()"
   ]
  },
  {
   "cell_type": "code",
   "execution_count": null,
   "metadata": {
    "collapsed": false
   },
   "outputs": [],
   "source": [
    "print(fpe.flux_points.table)\n",
    "# Have to set flux unit here because flux points default unit is ph / ... which raises a unit conversion error\n",
    "fpe.flux_points.plot(flux_unit = 'cm-2 s-1 TeV-1')"
   ]
  },
  {
   "cell_type": "markdown",
   "metadata": {},
   "source": [
    "The final plot with the best fit model and the flux points can be quickly made like this"
   ]
  },
  {
   "cell_type": "code",
   "execution_count": null,
   "metadata": {
    "collapsed": false
   },
   "outputs": [],
   "source": [
    "spectrum_result = SpectrumResult(\n",
    "    points=fpe.flux_points,\n",
    "    fit=fit.result[0],\n",
    ")\n",
    "\n",
    "spectrum_result.plot(\n",
    "    energy_range=fit.result[0].fit_range,\n",
    "    energy_power=2, flux_unit='erg-1 cm-2 s-1',\n",
    ")"
   ]
  },
  {
   "cell_type": "markdown",
   "metadata": {},
   "source": [
    "## Stack observations\n",
    "\n",
    "And alternative approach to fitting the spectrum is stacking all observations first and the fitting a model to the stacked observation. This works as follows. A comparison to the joint likelihood fit is also printed."
   ]
  },
  {
   "cell_type": "code",
   "execution_count": null,
   "metadata": {
    "collapsed": false
   },
   "outputs": [],
   "source": [
    "stacked_obs = extraction.observations.stack()\n",
    "stacked_fit = SpectrumFit(stacked_obs, model)\n",
    "\n",
    "stacked_fit.fit()\n",
    "stacked_fit.est_errors()\n",
    "print(stacked_fit.result[0])\n",
    "\n",
    "stacked_table = stacked_fit.result[0].to_table(format='.3g')\n",
    "stacked_table['method'] = 'stacked'\n",
    "joint_table = fit.result[0].to_table(format='.3g')\n",
    "joint_table['method'] = 'joint'\n",
    "from astropy.table import vstack as vstack_table\n",
    "print(vstack_table([stacked_table, joint_table])['method', 'index', 'index_err', 'amplitude', 'amplitude_err'])"
   ]
  },
  {
   "cell_type": "markdown",
   "metadata": {},
   "source": [
    "## Exercises\n",
    "\n",
    "Some things we might do:\n",
    "\n",
    "- Fit a different spectral model (ECPL or CPL or ...)\n",
    "- Use different method or parameters to compute the flux points\n",
    "- Do a chi^2 fit to the flux points and compare\n",
    "\n",
    "TODO: give pointers how to do this (and maybe write a notebook with solutions)"
   ]
  },
  {
   "cell_type": "code",
   "execution_count": null,
   "metadata": {
    "collapsed": true
   },
   "outputs": [],
   "source": [
    "# Start the exercises here!"
   ]
  },
  {
   "cell_type": "markdown",
   "metadata": {
    "collapsed": true
   },
   "source": [
    "## What next?\n",
    "\n",
    "In this tutorial we learned how to extract counts spectra from an event list and generate the corresponding IRFs. Then we fitted a model to the observations and also computed flux points.\n",
    "\n",
    "Here's some suggestions where to go next:\n",
    "\n",
    "* if you interested in available fit statistics checkout [gammapy.stats](docs.gammapy.org/en/latest/stats/index.html?highlight=gammapy.stats)\n",
    "* if you want to simulate spectral look at [this tutorial](http://docs.gammapy.org/en/latest/spectrum/simulation.html)\n",
    "* if you want to compare your spectra to e.g. Fermi spectra published in catalogs have a look at [this](http://docs.gammapy.org/en/latest/spectrum/plotting_fermi_spectra.html)"
   ]
  }
 ],
 "metadata": {
  "kernelspec": {
   "display_name": "Python 2",
   "language": "python",
   "name": "python2"
  },
  "language_info": {
   "codemirror_mode": {
    "name": "ipython",
    "version": 2
   },
   "file_extension": ".py",
   "mimetype": "text/x-python",
   "name": "python",
   "nbconvert_exporter": "python",
   "pygments_lexer": "ipython2",
   "version": "2.7.12"
  }
 },
 "nbformat": 4,
 "nbformat_minor": 0
}
