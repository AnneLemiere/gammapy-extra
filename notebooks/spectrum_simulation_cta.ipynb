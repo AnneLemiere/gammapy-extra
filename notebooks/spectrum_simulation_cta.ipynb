{
 "cells": [
  {
   "cell_type": "markdown",
   "metadata": {
    "deletable": true,
    "editable": true
   },
   "source": [
    "# Spectrum simulation for CTA\n",
    "\n",
    "A quick example how to simulate and fit a spectrum for the [Cherenkov Telescope Array (CTA)](https://www.cta-observatory.org)\n",
    "\n",
    "We will use the following classes:\n",
    "\n",
    "* [gammapy.spectrum.SpectrumObservation](http://docs.gammapy.org/en/latest/api/gammapy.spectrum.SpectrumObservation.html)\n",
    "* [gammapy.spectrum.SpectrumSimulation](http://docs.gammapy.org/en/latest/api/gammapy.spectrum.SpectrumSimulation.html)\n",
    "* [gammapy.spectrum.SpectrumFit](http://docs.gammapy.org/en/latest/api/gammapy.spectrum.SpectrumFit.html)\n",
    "* [gammapy.scripts.CTAIrf](http://docs.gammapy.org/en/latest/api/gammapy.scripts.CTAIrf.html)"
   ]
  },
  {
   "cell_type": "markdown",
   "metadata": {
    "deletable": true,
    "editable": true
   },
   "source": [
    "## Setup"
   ]
  },
  {
   "cell_type": "code",
   "execution_count": 1,
   "metadata": {
    "collapsed": true,
    "deletable": true,
    "editable": true
   },
   "outputs": [],
   "source": [
    "%matplotlib inline\n",
    "import matplotlib.pyplot as plt"
   ]
  },
  {
   "cell_type": "code",
   "execution_count": 2,
   "metadata": {
    "collapsed": true,
    "deletable": true,
    "editable": true
   },
   "outputs": [],
   "source": [
    "import numpy as np\n",
    "import astropy.units as u\n",
    "from gammapy.irf import EnergyDispersion, EffectiveAreaTable\n",
    "from gammapy.spectrum import SpectrumSimulation, SpectrumFit\n",
    "from gammapy.spectrum.models import PowerLaw\n",
    "from gammapy.scripts import CTAIrf"
   ]
  },
  {
   "cell_type": "markdown",
   "metadata": {
    "deletable": true,
    "editable": true
   },
   "source": [
    "## Simulation"
   ]
  },
  {
   "cell_type": "code",
   "execution_count": 3,
   "metadata": {
    "collapsed": false,
    "deletable": true,
    "editable": true
   },
   "outputs": [],
   "source": [
    "# Define obs parameters\n",
    "livetime = 10 * u.min\n",
    "offset = 0.3 * u.deg\n",
    "lo_threshold = 0.1 * u.TeV\n",
    "hi_threshold = 60 * u.TeV"
   ]
  },
  {
   "cell_type": "code",
   "execution_count": 4,
   "metadata": {
    "collapsed": true,
    "deletable": true,
    "editable": true
   },
   "outputs": [],
   "source": [
    "# Define spectral model\n",
    "index = 2.3 * u.Unit('')\n",
    "amplitude = 2.5 * 1e-12 * u.Unit('cm-2 s-1 TeV-1')\n",
    "reference = 1 * u.TeV\n",
    "model = PowerLaw(index=index, amplitude=amplitude, reference=reference)"
   ]
  },
  {
   "cell_type": "code",
   "execution_count": 5,
   "metadata": {
    "collapsed": false,
    "deletable": true,
    "editable": true
   },
   "outputs": [
    {
     "name": "stderr",
     "output_type": "stream",
     "text": [
      "WARNING:gammapy.irf.psf_analytical:No safe energy thresholds found. Setting to default\n"
     ]
    }
   ],
   "source": [
    "# Load IRFs\n",
    "filename = '$GAMMAPY_EXTRA/datasets/cta/perf_prod2/South_5h/irf_file.fits.gz'\n",
    "cta_irf = CTAIrf.read(filename)"
   ]
  },
  {
   "cell_type": "code",
   "execution_count": 6,
   "metadata": {
    "collapsed": false,
    "deletable": true,
    "editable": true
   },
   "outputs": [
    {
     "name": "stdout",
     "output_type": "stream",
     "text": [
      "NDDataArray summary info\n",
      "energy         : size =   500, min =  0.005 TeV, max = 495.450 TeV\n",
      "offset         : size =    45, min =  0.050 deg, max =  4.450 deg\n",
      "Data           : size = 22500, min =  0.000 m2, max = 4033200.000 m2\n",
      "\n"
     ]
    },
    {
     "data": {
      "image/png": "[encoded data removed]",
      "text/plain": [
       "<matplotlib.figure.Figure at 0x10a5593c8>"
      ]
     },
     "metadata": {},
     "output_type": "display_data"
    }
   ],
   "source": [
    "aeff = cta_irf.aeff.to_effective_area_table(offset=offset)\n",
    "aeff.plot()\n",
    "print(cta_irf.aeff.data)"
   ]
  },
  {
   "cell_type": "code",
   "execution_count": 7,
   "metadata": {
    "collapsed": false,
    "deletable": true,
    "editable": true
   },
   "outputs": [
    {
     "name": "stderr",
     "output_type": "stream",
     "text": [
      "/Users/deil/Library/Python/3.5/lib/python/site-packages/astropy/units/quantity.py:951: RuntimeWarning: invalid value encountered in true_divide\n",
      "  return super(Quantity, self).__truediv__(other)\n"
     ]
    },
    {
     "name": "stdout",
     "output_type": "stream",
     "text": [
      "NDDataArray summary info\n",
      "e_true         : size =   500, min =  0.005 TeV, max = 495.450 TeV\n",
      "e_reco         : size =   500, min =  0.005 TeV, max = 495.450 TeV\n",
      "Data           : size = 250000, min =  0.000, max =  0.165\n",
      "\n"
     ]
    },
    {
     "data": {
      "image/png": "[encoded data removed]",
      "text/plain": [
       "<matplotlib.figure.Figure at 0x10aa5ce10>"
      ]
     },
     "metadata": {},
     "output_type": "display_data"
    }
   ],
   "source": [
    "edisp = cta_irf.edisp.to_energy_dispersion(offset=offset)\n",
    "edisp.plot_matrix()\n",
    "print(edisp.data)"
   ]
  },
  {
   "cell_type": "code",
   "execution_count": 8,
   "metadata": {
    "collapsed": false,
    "deletable": true,
    "editable": true
   },
   "outputs": [],
   "source": [
    "# Simulate data\n",
    "aeff.lo_threshold = lo_threshold\n",
    "aeff.hi_threshold = hi_threshold\n",
    "sim = SpectrumSimulation(aeff=aeff, edisp=edisp, source_model=model, livetime=livetime)\n",
    "sim.simulate_obs(seed=42, obs_id=0)"
   ]
  },
  {
   "cell_type": "code",
   "execution_count": 9,
   "metadata": {
    "collapsed": false
   },
   "outputs": [
    {
     "name": "stderr",
     "output_type": "stream",
     "text": [
      "/Users/deil/Library/Python/3.5/lib/python/site-packages/gammapy/data/obs_stats.py:225: RuntimeWarning: divide by zero encountered in true_divide\n",
      "  self.background))\n",
      "/Users/deil/Library/Python/3.5/lib/python/site-packages/gammapy/stats/poisson.py:385: RuntimeWarning: divide by zero encountered in log\n",
      "  m = n_off * log(n_off * temp)\n",
      "/Users/deil/Library/Python/3.5/lib/python/site-packages/gammapy/stats/poisson.py:385: RuntimeWarning: invalid value encountered in multiply\n",
      "  m = n_off * log(n_off * temp)\n"
     ]
    },
    {
     "name": "stdout",
     "output_type": "stream",
     "text": [
      "*** Observation summary report ***\n",
      "Observation Id: 0\n",
      "Livetime: 0.167 h\n",
      "On events: 165\n",
      "Off events: 0\n",
      "Alpha: 1.000\n",
      "Bkg events in On region: 0.00\n",
      "Excess: 165.00\n",
      "Excess / Background: inf\n",
      "Gamma rate: 0.03 1 / min\n",
      "Bkg rate: 0.00 1 / min\n",
      "Sigma: nan\n",
      "energy range: 0.01 TeV - 501.19 TeV\n"
     ]
    },
    {
     "data": {
      "image/png": "[encoded data removed]",
      "text/plain": [
       "<matplotlib.figure.Figure at 0x10ab7c748>"
      ]
     },
     "metadata": {},
     "output_type": "display_data"
    }
   ],
   "source": [
    "sim.obs.peek()\n",
    "print(sim.obs)"
   ]
  },
  {
   "cell_type": "markdown",
   "metadata": {
    "deletable": true,
    "editable": true
   },
   "source": [
    "## Spectral analysis\n",
    "\n",
    "Now that we have some simulated CTA counts spectrum, let's analyse it."
   ]
  },
  {
   "cell_type": "code",
   "execution_count": 10,
   "metadata": {
    "collapsed": false,
    "deletable": true,
    "editable": true
   },
   "outputs": [
    {
     "name": "stderr",
     "output_type": "stream",
     "text": [
      "/Users/deil/Library/Python/3.5/lib/python/site-packages/gammapy/stats/fit_statistics.py:55: RuntimeWarning: divide by zero encountered in log\n",
      "  stat = 2 * (mu_on - n_on * np.log(mu_on))\n",
      "INFO:gammapy.spectrum.fit:Writing fit_result_PowerLaw.yaml\n"
     ]
    }
   ],
   "source": [
    "# Fit data\n",
    "fit = SpectrumFit(obs_list=sim.obs, model=model, stat='cash')\n",
    "fit.run()\n",
    "result = fit.result[0]"
   ]
  },
  {
   "cell_type": "code",
   "execution_count": 11,
   "metadata": {
    "collapsed": false,
    "deletable": true,
    "editable": true
   },
   "outputs": [
    {
     "name": "stdout",
     "output_type": "stream",
     "text": [
      "\n",
      "Fit result info \n",
      "--------------- \n",
      "Model: PowerLaw\n",
      "ParameterList\n",
      "Parameter(name='index', value=2.2286385243576081, unit=Unit(dimensionless), min=0, max=None, frozen=False)\n",
      "Parameter(name='amplitude', value=2.7738404744915332e-12, unit=Unit(\"1 / (cm2 s TeV)\"), min=0, max=None, frozen=False)\n",
      "Parameter(name='reference', value=1.0, unit=Unit(\"TeV\"), min=None, max=None, frozen=True)\n",
      "\n",
      "Covariance: [[  2.38090991e-03  -1.00455772e-14   0.00000000e+00]\n",
      " [ -1.00455772e-14   8.90148628e-26   0.00000000e+00]\n",
      " [  0.00000000e+00   0.00000000e+00   0.00000000e+00]] \n",
      "\n",
      "Statistic: 460.387 (cash)\n",
      "Fit Range: [  5.01187239e-03   5.01187225e+02] TeV\n",
      "\n"
     ]
    }
   ],
   "source": [
    "print(result)"
   ]
  },
  {
   "cell_type": "code",
   "execution_count": 12,
   "metadata": {
    "collapsed": false,
    "deletable": true,
    "editable": true
   },
   "outputs": [
    {
     "data": {
      "text/plain": [
       "<matplotlib.axes._subplots.AxesSubplot at 0x10afd3cc0>"
      ]
     },
     "execution_count": 12,
     "metadata": {},
     "output_type": "execute_result"
    },
    {
     "data": {
      "image/png": "[encoded data removed]",
      "text/plain": [
       "<matplotlib.figure.Figure at 0x10481fd30>"
      ]
     },
     "metadata": {},
     "output_type": "display_data"
    }
   ],
   "source": [
    "energy_range = [0.1, 100] * u.TeV\n",
    "model.plot(energy_range=energy_range, energy_power=2)\n",
    "result.model.plot(energy_range=energy_range, energy_power=2)\n",
    "result.butterfly().plot(energy_range=energy_range, energy_power=2)"
   ]
  },
  {
   "cell_type": "markdown",
   "metadata": {
    "deletable": true,
    "editable": true
   },
   "source": [
    "## Exercises\n",
    "\n",
    "* Change the observation time to something longer or shorter. Does the observation and spectrum results change as you expected?\n",
    "* Change the spectral model, e.g. add a cutoff at 5 TeV, or put a steep-spectrum source with spectral index of 4.0"
   ]
  },
  {
   "cell_type": "code",
   "execution_count": 13,
   "metadata": {
    "collapsed": true,
    "deletable": true,
    "editable": true
   },
   "outputs": [],
   "source": [
    "# Start the exercises here!"
   ]
  },
  {
   "cell_type": "markdown",
   "metadata": {
    "deletable": true,
    "editable": true
   },
   "source": [
    "## What next?\n",
    "\n",
    "In this tutorial we simulated and analysed the spectrum of source using CTA prod 2 IRFs.\n",
    "\n",
    "If you'd like to go further, please see the other tutorial notebooks."
   ]
  },
  {
   "cell_type": "code",
   "execution_count": null,
   "metadata": {
    "collapsed": true
   },
   "outputs": [],
   "source": []
  }
 ],
 "metadata": {
  "kernelspec": {
   "display_name": "Python 3",
   "language": "python",
   "name": "python3"
  },
  "language_info": {
   "codemirror_mode": {
    "name": "ipython",
    "version": 3
   },
   "file_extension": ".py",
   "mimetype": "text/x-python",
   "name": "python",
   "nbconvert_exporter": "python",
   "pygments_lexer": "ipython3",
   "version": "3.5.3"
  }
 },
 "nbformat": 4,
 "nbformat_minor": 1
}
