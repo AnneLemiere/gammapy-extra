{
 "cells": [
  {
   "cell_type": "markdown",
   "metadata": {},
   "source": [
    "# Cube style analysis with Gammapy and Sherpa\n",
    "\n",
    "This notebook is a proof of concept for a cube style analysis using Gammapy and Sherpa.\n",
    "\n",
    "To prepare the counts and exposure cubes, please run the ```prepare_data_cubes.py``` script first."
   ]
  },
  {
   "cell_type": "code",
   "execution_count": 1,
   "metadata": {
    "collapsed": true
   },
   "outputs": [],
   "source": [
    "%matplotlib inline\n",
    "import matplotlib.pyplot as plt"
   ]
  },
  {
   "cell_type": "code",
   "execution_count": 2,
   "metadata": {
    "collapsed": false
   },
   "outputs": [],
   "source": [
    "import numpy as np\n",
    "\n",
    "from sherpa.models import NormGauss2D, PowLaw1D, TableModel, Const2D\n",
    "from sherpa.stats import Cash, Chi2ConstVar\n",
    "from sherpa.optmethods import LevMar, NelderMead\n",
    "from sherpa.fit import Fit\n",
    "\n",
    "from gammapy.cube.sherpa_ import Data3D, CombinedModel3D\n",
    "from gammapy.cube import SpectralCube\n",
    "from gammapy.utils.energy import EnergyBounds\n",
    "\n",
    "from astropy.io import fits\n",
    "from astropy.wcs import WCS\n",
    "from astropy.table import Table\n",
    "from astropy.units import Quantity\n",
    "from astropy.coordinates import SkyCoord"
   ]
  },
  {
   "cell_type": "code",
   "execution_count": 3,
   "metadata": {
    "collapsed": false
   },
   "outputs": [],
   "source": [
    "# Set up data cube\n",
    "counts = SpectralCube.read('counts.fits')\n",
    "\n",
    "# Sky coordinates\n",
    "ra, dec = counts.spatial_coordinate_images\n",
    "\n",
    "# Energy axes\n",
    "energies = counts.energy.to(\"TeV\").value\n",
    "ebounds = EnergyBounds(Quantity(energies, 'TeV'))\n",
    "elo = ebounds.lower_bounds.value\n",
    "ehi = ebounds.upper_bounds.value\n",
    "\n",
    "# TODO: attach getting coordinate cubes to SpectralCube class\n",
    "n_ebins = len(elo)\n",
    "ra_cube = np.tile(ra, (n_ebins, 1, 1))\n",
    "dec_cube = np.tile(dec, (n_ebins, 1, 1))\n",
    "elo_cube = elo.reshape(n_ebins, 1, 1) * np.ones_like(ra)\n",
    "ehi_cube = ehi.reshape(n_ebins, 1, 1) * np.ones_like(ra)\n",
    "\n",
    "# Internally sherpa uses flattened arrays, therefore call .ravel()\n",
    "cube = Data3D('counts', elo_cube.ravel(), ehi_cube.ravel(), ra_cube.ravel(),\n",
    "              dec_cube.ravel(), counts.data.value.ravel(), counts.data.value.shape)"
   ]
  },
  {
   "cell_type": "code",
   "execution_count": 4,
   "metadata": {
    "collapsed": false
   },
   "outputs": [],
   "source": [
    "# Set up exposure table model\n",
    "exposure_data = fits.getdata('exposure.fits')\n",
    "exposure = TableModel('exposure')\n",
    "exposure.load(None, exposure_data.ravel())\n",
    "\n",
    "# Freeze exposure amplitude\n",
    "exposure.ampl.freeze()"
   ]
  },
  {
   "cell_type": "code",
   "execution_count": 5,
   "metadata": {
    "collapsed": false
   },
   "outputs": [],
   "source": [
    "# Setup combined spatial and spectral model\n",
    "spatial_model = NormGauss2D('spatial-model')\n",
    "spectral_model = PowLaw1D('spectral-model')\n",
    "source_model = CombinedModel3D(spatial_model=spatial_model, spectral_model=spectral_model)\n",
    "\n",
    "# Set starting values\n",
    "source_model.gamma = 2.2\n",
    "source_model.xpos = 83.6\n",
    "source_model.ypos = 22.01\n",
    "source_model.fwhm = 0.12\n",
    "source_model.ampl = 0.05\n",
    "\n",
    "# Adding this constant background components the fit works with cash statistics as well\n",
    "#spatial_model_bkg = Const2D('spatial-model-bkg')\n",
    "#spectral_model_bkg = PowLaw1D('spectral-model-bkg')\n",
    "#bkg_model = CombinedModel3D(spatial_model=spatial_model_bkg, spectral_model=spectral_model_bkg)\n",
    "\n",
    "model = 1E-9 * exposure * (source_model) # 1E-9 flux factor"
   ]
  },
  {
   "cell_type": "code",
   "execution_count": 6,
   "metadata": {
    "collapsed": false
   },
   "outputs": [],
   "source": [
    "# Fit\n",
    "# For now only Chi2 statistics seems to work, using Cash, the optimizer doesn't run at all,\n",
    "# maybe because of missing background model?\n",
    "fit = Fit(data=cube, model=model, stat=Chi2ConstVar(), method=LevMar())\n",
    "result = fit.fit()"
   ]
  },
  {
   "cell_type": "code",
   "execution_count": 7,
   "metadata": {
    "collapsed": false
   },
   "outputs": [
    {
     "name": "stdout",
     "output_type": "stream",
     "text": [
      "datasets       = None\n",
      "itermethodname = none\n",
      "methodname     = levmar\n",
      "statname       = chi2constvar\n",
      "succeeded      = True\n",
      "parnames       = ('spatial-model.fwhm', 'spatial-model.xpos', 'spatial-model.ypos', 'spatial-model.ampl', 'spectral-model.gamma')\n",
      "parvals        = (0.11627892867388197, 83.625663805065756, 22.01849201395968, 0.054192717021389107, 1.5710539365424321)\n",
      "statval        = 336553.322887\n",
      "istatval       = 345348.913214\n",
      "dstatval       = 8795.59032701\n",
      "numpoints      = 320000\n",
      "dof            = 319995\n",
      "qval           = 2.21554043545e-92\n",
      "rstat          = 1.05174556755\n",
      "message        = successful termination\n",
      "nfev           = 68\n"
     ]
    }
   ],
   "source": [
    "print(result)"
   ]
  },
  {
   "cell_type": "markdown",
   "metadata": {},
   "source": [
    "# Data image"
   ]
  },
  {
   "cell_type": "code",
   "execution_count": 8,
   "metadata": {
    "collapsed": false
   },
   "outputs": [
    {
     "data": {
      "text/plain": [
       "<matplotlib.colorbar.Colorbar at 0x7fd9bcf21cd0>"
      ]
     },
     "execution_count": 8,
     "metadata": {},
     "output_type": "execute_result"
    },
    {
     "name": "stderr",
     "output_type": "stream",
     "text": [
      "/home/hfm/adonath/.local/lib/python2.7/site-packages/matplotlib-1.5.x-py2.7-linux-x86_64.egg/matplotlib/collections.py:571: FutureWarning: elementwise comparison failed; returning scalar instead, but in the future will perform elementwise comparison\n",
      "  if self._edgecolors == str('face'):\n"
     ]
    },
    {
     "data": {
      "image/png": "[encoded data removed]",
      "text/plain": [
       "<matplotlib.figure.Figure at 0x7fd9bdf3f0d0>"
      ]
     },
     "metadata": {},
     "output_type": "display_data"
    }
   ],
   "source": [
    "counts_ = cube.get_dep().reshape(cube.shape).sum(axis=0)\n",
    "plt.imshow(counts_)\n",
    "plt.colorbar()"
   ]
  },
  {
   "cell_type": "markdown",
   "metadata": {},
   "source": [
    "# Morphology model image"
   ]
  },
  {
   "cell_type": "code",
   "execution_count": 9,
   "metadata": {
    "collapsed": false
   },
   "outputs": [
    {
     "data": {
      "text/plain": [
       "<matplotlib.colorbar.Colorbar at 0x7fd9bad44f90>"
      ]
     },
     "execution_count": 9,
     "metadata": {},
     "output_type": "execute_result"
    },
    {
     "data": {
      "image/png": "[encoded data removed]",
      "text/plain": [
       "<matplotlib.figure.Figure at 0x7fd9bd019310>"
      ]
     },
     "metadata": {},
     "output_type": "display_data"
    }
   ],
   "source": [
    "model_ = cube.eval_model(source_model).reshape(cube.shape).sum(axis=0)\n",
    "plt.imshow(model_)\n",
    "plt.colorbar()"
   ]
  },
  {
   "cell_type": "markdown",
   "metadata": {},
   "source": [
    "# Position check"
   ]
  },
  {
   "cell_type": "code",
   "execution_count": 10,
   "metadata": {
    "collapsed": false
   },
   "outputs": [],
   "source": [
    "# Check position with reference position to verify wcs\n",
    "crab_position_ref = SkyCoord.from_name('crab')\n",
    "crab_position = SkyCoord(source_model.xpos.val, source_model.ypos.val, frame='icrs', unit='deg')\n",
    "assert crab_position.separation(crab_position_ref) < Quantity(0.01, 'deg') # 1/2 pixel accuracy"
   ]
  },
  {
   "cell_type": "code",
   "execution_count": null,
   "metadata": {
    "collapsed": true
   },
   "outputs": [],
   "source": []
  }
 ],
 "metadata": {
  "kernelspec": {
   "display_name": "Python 2",
   "language": "python",
   "name": "python2"
  },
  "language_info": {
   "codemirror_mode": {
    "name": "ipython",
    "version": 2
   },
   "file_extension": ".py",
   "mimetype": "text/x-python",
   "name": "python",
   "nbconvert_exporter": "python",
   "pygments_lexer": "ipython2",
   "version": "2.7.6"
  }
 },
 "nbformat": 4,
 "nbformat_minor": 0
}
