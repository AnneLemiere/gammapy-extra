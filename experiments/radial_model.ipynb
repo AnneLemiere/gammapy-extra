{
 "cells": [
  {
   "cell_type": "code",
   "execution_count": 40,
   "metadata": {
    "collapsed": false
   },
   "outputs": [
    {
     "name": "stdout",
     "output_type": "stream",
     "text": [
      "Populating the interactive namespace from numpy and matplotlib\n"
     ]
    }
   ],
   "source": [
    "%pylab inline\n",
    "import numpy as np\n",
    "from astropy.modeling import Parameter, Parametric1DModel, Parametric2DModel\n",
    "from astropy.modeling import models\n",
    "from astropy import convolution"
   ]
  },
  {
   "cell_type": "code",
   "execution_count": 41,
   "metadata": {
    "collapsed": false
   },
   "outputs": [
    {
     "data": {
      "image/png": "[encoded data removed]",
      "text/plain": [
       "<matplotlib.figure.Figure at 0x1075baf50>"
      ]
     },
     "metadata": {},
     "output_type": "display_data"
    }
   ],
   "source": [
    "class Step1D(Parametric1DModel):\n",
    "    \"\"\"One-dimensional step model.\n",
    "    \"\"\"\n",
    "    amplitude = Parameter('amplitude')\n",
    "    r_0 = Parameter('r_0')\n",
    "\n",
    "    def __init__(self, amplitude, r_0):\n",
    "        super(Step1D, self).__init__(amplitude=amplitude, r_0=r_0)\n",
    "\n",
    "    @staticmethod\n",
    "    def eval(r, amplitude, r_0):\n",
    "        return np.where(r < r_0, amplitude, 0)\n",
    "\n",
    "step1d = Step1D(42, 3)\n",
    "x = np.arange(0, 5, 0.1)\n",
    "y = step1d(x)\n",
    "plt.plot(x, y);"
   ]
  },
  {
   "cell_type": "code",
   "execution_count": 44,
   "metadata": {
    "collapsed": false
   },
   "outputs": [
    {
     "data": {
      "image/png": "[encoded data removed]",
      "text/plain": [
       "<matplotlib.figure.Figure at 0x1074e6fd0>"
      ]
     },
     "metadata": {},
     "output_type": "display_data"
    }
   ],
   "source": [
    "class Step2D(Parametric2DModel):\n",
    "    \"\"\"Two-dimensional step model.\n",
    "    \"\"\"\n",
    "    amplitude = Parameter('amplitude')\n",
    "    r_0 = Parameter('r_0')\n",
    "\n",
    "    def __init__(self, amplitude, r_0):\n",
    "        super(Step2D, self).__init__(amplitude=amplitude, r_0=r_0)\n",
    "\n",
    "    @staticmethod\n",
    "    def eval(x, y, amplitude, r_0):\n",
    "        r2 = x * x + y * y\n",
    "        return np.where(r2 < r_0 * r_0, amplitude, 0)\n",
    "\n",
    "step2d = Step2D(42, 3)\n",
    "x, y = np.meshgrid(np.arange(-5, 5, 0.1), np.arange(-5, 5, 0.1))\n",
    "z = step2d(x, y)\n",
    "plt.imshow(z, extent=[-5, 5, -5, 5], cmap='gray', interpolation='nearest')\n",
    "plt.colorbar();"
   ]
  },
  {
   "cell_type": "code",
   "execution_count": 53,
   "metadata": {
    "collapsed": false
   },
   "outputs": [
    {
     "data": {
      "image/png": "[encoded data removed]",
      "text/plain": [
       "<matplotlib.figure.Figure at 0x1075c7590>"
      ]
     },
     "metadata": {},
     "output_type": "display_data"
    }
   ],
   "source": [
    "from astropy.convolution import Model2DKernel\n",
    "\n",
    "step2d_kernel = Model2DKernel(step2d, x_size=10, mode='oversample')\n",
    "plt.imshow(step2d_kernel.array, cmap='gray', interpolation='nearest')\n",
    "plt.colorbar();"
   ]
  },
  {
   "cell_type": "code",
   "execution_count": null,
   "metadata": {
    "collapsed": false
   },
   "outputs": [],
   "source": []
  }
 ],
 "metadata": {
  "kernelspec": {
   "display_name": "Python 3",
   "language": "python",
   "name": "python3"
  },
  "language_info": {
   "codemirror_mode": {
    "name": "ipython",
    "version": 3
   },
   "file_extension": ".py",
   "mimetype": "text/x-python",
   "name": "python",
   "nbconvert_exporter": "python",
   "pygments_lexer": "ipython3",
   "version": "3.5.2"
  }
 },
 "nbformat": 4,
 "nbformat_minor": 0
}
