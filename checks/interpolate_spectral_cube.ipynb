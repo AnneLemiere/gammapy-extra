{
 "metadata": {
  "name": "",
  "signature": "sha256:15f4ecced7068aa1b12771b2dd739031fdb6651e76e1e81f65ac4f54da871023"
 },
 "nbformat": 3,
 "nbformat_minor": 0,
 "worksheets": [
  {
   "cells": [
    {
     "cell_type": "heading",
     "level": 1,
     "metadata": {},
     "source": [
      "Interpolate spectral cube"
     ]
    },
    {
     "cell_type": "markdown",
     "metadata": {},
     "source": [
      "Here I try out the available methods in `scipy` to interpolate spectral cubes.\n",
      "\n",
      "As an example I'll use the Fermi diffuse emission model.\n",
      "\n",
      "Relevant interpolation functions:\n",
      "* [scipy.interpolate.interpn](http://docs.scipy.org/doc/scipy/reference/generated/scipy.interpolate.interpn.html) ... new in scipy 0.14 ... works on regular grid, is fast, calls `RegularGridInterpolator` ... can only do `linear` and `neareast` interpolation.\n",
      "* [scipy.interpolate.griddata](http://docs.scipy.org/doc/scipy/reference/generated/scipy.interpolate.griddata.html) ... can't do splines in 3d ... mostly calls `LinearNDInterpolator` ... does triangulation unnecessarily and is slow.\n",
      "* [scipy.ndimage.map_coordinates](http://docs.scipy.org/doc/scipy/reference/generated/scipy.ndimage.interpolation.map_coordinates.html) ... this is only useful to map (i.e. interpolate) coordinates, not to interpolate values.\n",
      "\n",
      "Relevant interpolation classes:\n",
      "* [scipy.interpolate.RegularGridInterpolator](http://docs.scipy.org/doc/scipy/reference/generated/scipy.interpolate.RegularGridInterpolator.html) ... new in scipy 0.14 ... see [here](https://github.com/JohannesBuchner/regulargrid#usage) for an example.\n",
      "* [scipy.interpolate.LinearNDInterpolator](http://docs.scipy.org/doc/scipy/reference/generated/scipy.interpolate.LinearNDInterpolator.html) ... does triangulation, which is unneccesary for our application of a regular grid.\n",
      "\n",
      "One big advantage of using one of the classes is that the spline can be pre-computed once and then re-used, whereas functions have to re-compute the spline on each call."
     ]
    },
    {
     "cell_type": "code",
     "collapsed": false,
     "input": [
      "import numpy as np\n",
      "from scipy import interpolate\n",
      "from scipy import ndimage"
     ],
     "language": "python",
     "metadata": {},
     "outputs": [],
     "prompt_number": 1
    },
    {
     "cell_type": "code",
     "collapsed": false,
     "input": [
      "from astropy.io import fits\n",
      "from gammapy.datasets import get_fermi_diffuse_background_model\n",
      "data = fits.getdata(get_fermi_diffuse_background_model())\n",
      "# Axis order: log(ENERGY), LAT, LON\n",
      "# We'll use pixel coordinates ... for real-word usage we well transform world to pixel coordinates first\n",
      "\n",
      "data = data[:, :100, :20].copy()\n",
      "print(data.shape)"
     ],
     "language": "python",
     "metadata": {},
     "outputs": [
      {
       "output_type": "stream",
       "stream": "stdout",
       "text": [
        "(30, 100, 20)\n"
       ]
      }
     ],
     "prompt_number": 2
    },
    {
     "cell_type": "code",
     "collapsed": false,
     "input": [
      "points1 = map(np.arange, data.shape)\n",
      "%time interpolator1 = interpolate.RegularGridInterpolator(points=points1, values=data, fill_value=None)"
     ],
     "language": "python",
     "metadata": {},
     "outputs": [
      {
       "output_type": "stream",
       "stream": "stdout",
       "text": [
        "CPU times: user 175 \u00b5s, sys: 37 \u00b5s, total: 212 \u00b5s\n",
        "Wall time: 189 \u00b5s\n"
       ]
      }
     ],
     "prompt_number": 15
    },
    {
     "cell_type": "code",
     "collapsed": false,
     "input": [
      "# Creating the points input for `LinearNDInterpolator` is a bit tricky ...\n",
      "points2 = np.indices(data.shape)\n",
      "points2 = points2.reshape(points2.shape[0], -1).T\n",
      "data2 = data.flatten()\n",
      "print(points2.shape, data2.shape)\n",
      "%time interpolator2 = interpolate.LinearNDInterpolator(points=points2, values=data2, rescale=False)"
     ],
     "language": "python",
     "metadata": {},
     "outputs": [
      {
       "output_type": "stream",
       "stream": "stdout",
       "text": [
        "((60000, 3), (60000,))\n",
        "CPU times: user 12.3 s, sys: 100 ms, total: 12.4 s"
       ]
      },
      {
       "output_type": "stream",
       "stream": "stdout",
       "text": [
        "\n",
        "Wall time: 12.5 s\n"
       ]
      }
     ],
     "prompt_number": 14
    },
    {
     "cell_type": "code",
     "collapsed": false,
     "input": [
      "for n_points in [1, 10, 1e3, 1e6]:\n",
      "    for interpolator in [interpolator1, interpolator2]:\n",
      "        xi = np.ones((n_points, 3))\n",
      "        print('n_points: {0}'.format(n_points))\n",
      "        #%timeit interpolator(xi, method='linear')\n",
      "        %timeit interpolator(xi)\n",
      "        #%timeit interpolator(xi, method='nearest')"
     ],
     "language": "python",
     "metadata": {},
     "outputs": [
      {
       "output_type": "stream",
       "stream": "stdout",
       "text": [
        "n_points: 1\n",
        "1000 loops, best of 3: 740 \u00b5s per loop"
       ]
      },
      {
       "output_type": "stream",
       "stream": "stdout",
       "text": [
        "\n",
        "n_points: 1\n",
        "1 loops, best of 3: 5.27 ms per loop"
       ]
      },
      {
       "output_type": "stream",
       "stream": "stdout",
       "text": [
        "\n",
        "n_points: 10\n",
        "1000 loops, best of 3: 756 \u00b5s per loop"
       ]
      },
      {
       "output_type": "stream",
       "stream": "stdout",
       "text": [
        "\n",
        "n_points: 10\n",
        "100 loops, best of 3: 4.84 ms per loop"
       ]
      },
      {
       "output_type": "stream",
       "stream": "stdout",
       "text": [
        "\n",
        "n_points: 1000.0\n",
        "1000 loops, best of 3: 1.68 ms per loop"
       ]
      },
      {
       "output_type": "stream",
       "stream": "stdout",
       "text": [
        "\n",
        "n_points: 1000.0\n",
        "100 loops, best of 3: 5 ms per loop"
       ]
      },
      {
       "output_type": "stream",
       "stream": "stdout",
       "text": [
        "\n",
        "n_points: 1000000.0\n",
        "1 loops, best of 3: 1.07 s per loop"
       ]
      },
      {
       "output_type": "stream",
       "stream": "stdout",
       "text": [
        "\n",
        "n_points: 1000000.0\n",
        "10 loops, best of 3: 84.6 ms per loop"
       ]
      },
      {
       "output_type": "stream",
       "stream": "stdout",
       "text": [
        "\n"
       ]
      }
     ],
     "prompt_number": 18
    },
    {
     "cell_type": "markdown",
     "metadata": {},
     "source": [
      "And the winner is ... `RegularGridInterpolator` with `method='linear'`.\n",
      "\n",
      "It takes almost no time to create (so the wrapper function `interpn` could be used just as well) and is fast to evaluate.\n",
      "\n",
      "The main drawback is that this only became available in `scipy 0.14`, so some users with older versions of Scipy will not be able to run it. It's pure Python / numpy though, so a copy could be put in Gammapy.\n",
      "\n",
      "Either I'm using it incorrectly, or the `LinearNDInterpolator` is super-slow to create (won't work for the Fermi diffuse model cubes).\n",
      "For small number of coordinates `RegularGridInterpolator` seems to be faster to evaluate, for many coordinates `LinearNDInterpolator` is faster.\n",
      "\n",
      "Using more precise interpolation (i.e. splines) along the spectral axis would have been nice, but is not available as far as I can see. Because we have a `z = log(energy)` axis the methods to compute e.g. spectral indix or integral flux have to be hand-coded anyways, so no big problem.\n",
      "For one given `(x, y)` we would use methods that extract a spectrum and then use `UnivariateSpline` for the spectral axis."
     ]
    },
    {
     "cell_type": "code",
     "collapsed": false,
     "input": [],
     "language": "python",
     "metadata": {},
     "outputs": []
    }
   ],
   "metadata": {}
  }
 ]
}