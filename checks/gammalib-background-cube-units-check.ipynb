{
 "cells": [
  {
   "cell_type": "markdown",
   "metadata": {},
   "source": [
    "# Check of Gammalib background cube unit handling\n",
    "\n",
    "This is a quick check whether Gammalib uses the FITS header unit information\n",
    "for background cube models for https://cta-redmine.irap.omp.eu/issues/1515 ."
   ]
  },
  {
   "cell_type": "code",
   "execution_count": 1,
   "metadata": {
    "collapsed": false
   },
   "outputs": [],
   "source": [
    "# Let's get the test file\n",
    "!wget --quiet https://github.com/gammalib/gammalib/raw/devel/inst/cta/test/data/bg_test.fits"
   ]
  },
  {
   "cell_type": "code",
   "execution_count": 2,
   "metadata": {
    "collapsed": false
   },
   "outputs": [],
   "source": [
    "# Define some helper functions\n",
    "from astropy.io import fits\n",
    "from gammalib import GCTABackground3D\n",
    "\n",
    "def check_cube(filename):\n",
    "    # Check FITS unit and Gammalib interpolated value at one point\n",
    "    bg1 = GCTABackground3D(filename)\n",
    "    # print(bg1)\n",
    "    print('TUNIT7 = ', repr(fits.getheader(filename, ext=1)['TUNIT7']))\n",
    "    print('value = ', bg1(1, 0, 0)) # bg1(logE, detx, dety)\n",
    "\n",
    "def change_tunit7(infile, outfile, unit_str):\n",
    "    hdu_list = fits.open(infile)\n",
    "    hdu_list[1].header['TUNIT7'] = unit_str\n",
    "    hdu_list.writeto(outfile, clobber=True)"
   ]
  },
  {
   "cell_type": "code",
   "execution_count": 3,
   "metadata": {
    "collapsed": false
   },
   "outputs": [
    {
     "name": "stdout",
     "output_type": "stream",
     "text": [
      "TUNIT7 =  '1/s/TeV/sr'\n",
      "value =  0.9523887196555177\n"
     ]
    }
   ],
   "source": [
    "# Check original cube\n",
    "check_cube('bg_test.fits')"
   ]
  },
  {
   "cell_type": "code",
   "execution_count": 4,
   "metadata": {
    "collapsed": false
   },
   "outputs": [
    {
     "name": "stdout",
     "output_type": "stream",
     "text": [
      "TUNIT7 =  '1 / (s sr TeV)'\n",
      "value =  0.9523887196555177\n"
     ]
    }
   ],
   "source": [
    "# Check if more FITS-standard-compliant unit works\n",
    "change_tunit7('bg_test.fits', 'bg_test2.fits', unit_str='1 / (s sr TeV)')\n",
    "check_cube('bg_test2.fits')"
   ]
  },
  {
   "cell_type": "code",
   "execution_count": 5,
   "metadata": {
    "collapsed": false
   },
   "outputs": [
    {
     "name": "stdout",
     "output_type": "stream",
     "text": [
      "TUNIT7 =  '1 / (s sr MeV)'\n",
      "value =  0.9523887196555177\n"
     ]
    }
   ],
   "source": [
    "# Check if Gammalib uses the unit at all ...\n",
    "change_tunit7('bg_test.fits', 'bg_test3.fits', unit_str='1 / (s sr MeV)')\n",
    "check_cube('bg_test3.fits')"
   ]
  },
  {
   "cell_type": "code",
   "execution_count": 6,
   "metadata": {
    "collapsed": true
   },
   "outputs": [],
   "source": [
    "# ... it doesn't"
   ]
  }
 ],
 "metadata": {
  "kernelspec": {
   "display_name": "Python 3",
   "language": "python",
   "name": "python3"
  },
  "language_info": {
   "codemirror_mode": {
    "name": "ipython",
    "version": 3
   },
   "file_extension": ".py",
   "mimetype": "text/x-python",
   "name": "python",
   "nbconvert_exporter": "python",
   "pygments_lexer": "ipython3",
   "version": "3.4.3"
  }
 },
 "nbformat": 4,
 "nbformat_minor": 0
}
