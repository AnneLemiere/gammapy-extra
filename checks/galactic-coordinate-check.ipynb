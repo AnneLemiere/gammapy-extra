{
 "metadata": {
  "name": "",
  "signature": "sha256:d83a4501c473204f1162009d20549c511905fd49385eeb935508ac6d35c69543"
 },
 "nbformat": 3,
 "nbformat_minor": 0,
 "worksheets": [
  {
   "cells": [
    {
     "cell_type": "heading",
     "level": 1,
     "metadata": {},
     "source": [
      "RA/DEC versus GLON/GLAT coordinate check for the Fermi catalogs"
     ]
    },
    {
     "cell_type": "markdown",
     "metadata": {},
     "source": [
      "Here we check if RA/DEC to GLON/GLAT conversion in the 3FGL catalog agrees with what `astropy.coordinates` gives.\n",
      "\n",
      "This is important for the HESS catalog, because we use `astropy.coordinates` and want to be consistent with\n",
      "the RA/DEC and GLON/GLAT systems that Fermi uses.\n",
      "\n",
      "The histogram below shows that `astropy.coordinates` does not agree with what was done for the Fermi catalogs ... there's an offset of ~ 1.8 arcsec for most positions of the sky."
     ]
    },
    {
     "cell_type": "code",
     "collapsed": false,
     "input": [
      "from astropy.coordinates import SkyCoord\n",
      "from astropy.table import Table"
     ],
     "language": "python",
     "metadata": {},
     "outputs": [],
     "prompt_number": 1
    },
    {
     "cell_type": "code",
     "collapsed": false,
     "input": [
      "table = Table.read('http://fermi.gsfc.nasa.gov/ssc/data/access/lat/4yr_catalog/gll_psc_v14.fit', hdu=1)\n",
      "# table = Table.read('http://fermi.gsfc.nasa.gov/ssc/data/access/lat/2yr_catalog/gll_psc_v08.fit', hdu=1)"
     ],
     "language": "python",
     "metadata": {},
     "outputs": [
      {
       "output_type": "stream",
       "stream": "stdout",
       "text": [
        "Downloading http://fermi.gsfc.nasa.gov/ssc/data/access/lat/4yr_catalog/gll_psc_v14.fit"
       ]
      },
      {
       "output_type": "stream",
       "stream": "stdout",
       "text": [
        " [Done]\n"
       ]
      }
     ],
     "prompt_number": 5
    },
    {
     "cell_type": "code",
     "collapsed": false,
     "input": [
      "# Note: using \"fk5\" or \"icrs\" yields almost identical results\n",
      "# ... the difference must be in the definition of the Galactic system\n",
      "radec = SkyCoord(table['RAJ2000'], table['DEJ2000'], unit='deg', frame='fk5')\n",
      "galactic = SkyCoord(table['GLON'], table['GLAT'], unit='deg', frame='galactic')\n",
      "separation = radec.separation(galactic).to('arcsec').value"
     ],
     "language": "python",
     "metadata": {},
     "outputs": [],
     "prompt_number": 6
    },
    {
     "cell_type": "code",
     "collapsed": false,
     "input": [
      "%matplotlib inline\n",
      "import matplotlib.pyplot as plt\n",
      "plt.style.use('ggplot')\n",
      "plt.hist(separation, bins=100);"
     ],
     "language": "python",
     "metadata": {},
     "outputs": [
      {
       "metadata": {},
       "output_type": "display_data",
       "png": "[encoded data removed]",
       "text": [
        "<matplotlib.figure.Figure at 0x1093c79e8>"
       ]
      }
     ],
     "prompt_number": 11
    },
    {
     "cell_type": "code",
     "collapsed": false,
     "input": [],
     "language": "python",
     "metadata": {},
     "outputs": []
    }
   ],
   "metadata": {}
  }
 ]
}