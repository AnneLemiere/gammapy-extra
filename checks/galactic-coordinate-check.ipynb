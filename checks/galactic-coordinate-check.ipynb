{
 "metadata": {
  "name": "",
  "signature": "sha256:9b168d255ec5f36ee5afc123225e83a5f8b6688f55f5a2c9c322f317939497e4"
 },
 "nbformat": 3,
 "nbformat_minor": 0,
 "worksheets": [
  {
   "cells": [
    {
     "cell_type": "heading",
     "level": 1,
     "metadata": {},
     "source": [
      "RA/DEC versus GLON/GLAT coordinate check for the Fermi catalogs"
     ]
    },
    {
     "cell_type": "markdown",
     "metadata": {},
     "source": [
      "Here we check if RA/DEC to GLON/GLAT conversion in the 3FGL catalog agrees with what `astropy.coordinates` gives.\n",
      "\n",
      "This is important for the HESS catalog, because we use `astropy.coordinates` and want to be consistent with\n",
      "the RA/DEC and GLON/GLAT systems that Fermi uses.\n",
      "\n",
      "The histogram below shows that `astropy.coordinates` does not agree with what was done for the Fermi catalogs ... there's an offset of ~ 1.8 arcsec for most positions of the sky.\n",
      "\n",
      "It looks like Fermi uses something close to the implementation from [gammapy.utils.coordinates.galactic_to_radec](https://gammapy.readthedocs.org/en/latest/api/gammapy.utils.coordinates.galactic_to_radec.html) ... there the offset of 0.27 arcsec almost everywhere on the sky.\n",
      "\n",
      "Note that with float64 precision results will agree at the sub-arcsecond level if the same method is implemented."
     ]
    },
    {
     "cell_type": "code",
     "collapsed": false,
     "input": [
      "%matplotlib inline\n",
      "import numpy as np\n",
      "import matplotlib.pyplot as plt\n",
      "plt.style.use('ggplot')\n",
      "from astropy.coordinates import SkyCoord\n",
      "from astropy.table import Table"
     ],
     "language": "python",
     "metadata": {},
     "outputs": [],
     "prompt_number": 2
    },
    {
     "cell_type": "code",
     "collapsed": false,
     "input": [
      "table = Table.read('http://fermi.gsfc.nasa.gov/ssc/data/access/lat/4yr_catalog/gll_psc_v14.fit', hdu=1)\n",
      "# table = Table.read('http://fermi.gsfc.nasa.gov/ssc/data/access/lat/2yr_catalog/gll_psc_v08.fit', hdu=1)"
     ],
     "language": "python",
     "metadata": {},
     "outputs": [
      {
       "output_type": "stream",
       "stream": "stdout",
       "text": [
        "Downloading http://fermi.gsfc.nasa.gov/ssc/data/access/lat/4yr_catalog/gll_psc_v14.fit"
       ]
      }
     ]
    },
    {
     "cell_type": "code",
     "collapsed": false,
     "input": [
      "# Note: results are stored in the FITS table as float32\n",
      "raj2000 = table['RAJ2000'].astype('float64')\n",
      "dej2000 = table['DEJ2000'].astype('float64')\n",
      "glon = table['GLON'].astype('float64')\n",
      "glat = table['GLAT'].astype('float64')\n",
      "radec = SkyCoord(raj2000, dej2000, unit='deg', frame='fk5')\n",
      "galactic = SkyCoord(glon, glat, unit='deg', frame='galactic')"
     ],
     "language": "python",
     "metadata": {},
     "outputs": [],
     "prompt_number": 4
    },
    {
     "cell_type": "heading",
     "level": 2,
     "metadata": {},
     "source": [
      "Check against Astropy"
     ]
    },
    {
     "cell_type": "code",
     "collapsed": false,
     "input": [
      "# Note: using \"fk5\" or \"icrs\" yields almost identical results\n",
      "# ... the difference must be in the definition of the Galactic system\n",
      "separation = radec.separation(galactic).to('arcsec').value\n",
      "plt.hist(separation, bins=100)\n",
      "plt.xlabel('Separation (arcsec)');"
     ],
     "language": "python",
     "metadata": {},
     "outputs": [
      {
       "metadata": {},
       "output_type": "display_data",
       "png": "[encoded data removed]",
       "text": [
        "<matplotlib.figure.Figure at 0x106811ac8>"
       ]
      }
     ],
     "prompt_number": 5
    },
    {
     "cell_type": "heading",
     "level": 2,
     "metadata": {},
     "source": [
      "Check against simple implementation"
     ]
    },
    {
     "cell_type": "code",
     "collapsed": false,
     "input": [
      "def galactic_to_radec_simple(skycoord):\n",
      "    # https://gammapy.readthedocs.org/en/latest/api/gammapy.utils.coordinates.galactic_to_radec.html\n",
      "    from gammapy.utils.coordinates import galactic_to_radec\n",
      "    \n",
      "    glon, glat = skycoord.l.degree, skycoord.b.degree\n",
      "    ra, dec = galactic_to_radec(glon, glat)\n",
      "    return SkyCoord(ra, dec, unit='deg', frame='icrs')\n",
      "\n",
      "radec_simple = galactic_to_radec_simple(galactic)\n",
      "separation = radec_simple.separation(galactic).to('arcsec').value\n",
      "plt.hist(separation, bins=100)\n",
      "plt.xlabel('Separation (arcsec)');"
     ],
     "language": "python",
     "metadata": {},
     "outputs": [
      {
       "metadata": {},
       "output_type": "display_data",
       "png": "[encoded data removed]",
       "text": [
        "<matplotlib.figure.Figure at 0x10a1a6dd8>"
       ]
      }
     ],
     "prompt_number": 6
    },
    {
     "cell_type": "code",
     "collapsed": false,
     "input": [],
     "language": "python",
     "metadata": {},
     "outputs": []
    }
   ],
   "metadata": {}
  }
 ]
}