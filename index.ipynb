{
 "cells": [
  {
   "cell_type": "markdown",
   "metadata": {},
   "source": [
    "<img src=\"logo/gammapy_banner.png\" style=\"width: 700px;\">\n",
    "\n",
    "# Gammapy IPython notebooks\n",
    "\n",
    "\n",
    "## What is this?\n",
    "\n",
    "This directory contains [Jupyter notebooks](http://jupyter.org/) (a.k.a. [IPython notebooks](http://ipython.org/notebook.html) until recently) that show examples what can be done with [Gammapy](http://gammapy.org).\n",
    "\n",
    "This complements the [Gammapy Sphinx-based documentation](https://docs.gammapy.org).\n",
    "\n",
    "* A [static HTML version of these notebooks](http://nbviewer.ipython.org/github/gammapy/gammapy-extra/tree/master/notebooks/) (i.e. code can't be executed) is available via the online [nbviewer](http://nbviewer.ipython.org/).\n",
    "\n",
    "* Try an executable version at [Gammapy binder](http://mybinder.org/repo/gammapy/gammapy-extra).\n",
    "Clicking that link will start a Docker image on some cloud server, which usually takes about 30 seconds.\n",
    "How this works is described in a little more detail [here](http://docs.gammapy.org/en/latest/getting-started.html#binder).\n",
    "\n",
    "* If you want to try out Gammapy quickly you should install IPython and Gammapy and then get the [gammapy-extra](https://github.com/gammapy/gammapy-extra) repo (either via git or as a zip file) and then go to the `notebooks` folder in a terminal and type:\n",
    "\n",
    "      $ jupyter notebook\n",
    "\n",
    " or alternatively:\n",
    "\n",
    "      $ ipython notebook\n",
    "\n",
    "## Notebooks\n",
    "\n",
    "\n",
    "### Getting started guides\n",
    "\n",
    "To get started with gamma-ray data analysis:\n",
    "\n",
    "* [IACT DL3 data with Gammapy](notebooks/data_iact.ipynb) (H.E.S.S. data example)\n",
    "* [Image analysis with Gammapy](notebooks/image_analysis.ipynb) (H.E.S.S. data example)\n",
    "* [Spectral analysis with Gammapy](notebooks/spectrum_analysis.ipynb) (H.E.S.S. data example)\n",
    "* [Source detection with Gammapy](notebooks/detect_ts.ipynb) (Fermi-LAT data example)\n",
    "\n",
    "### Extra topics\n",
    "\n",
    "These notebooks contain examples on some more specialised functionality in Gammapy.\n",
    "It doesn't make much sense that you read through all of them, but maybe browse the list and see if there's something that could be interesting for your work (or contribute to Gammapy if something is missing!):\n",
    "\n",
    "* [Astrophysical source population modeling with Gammapy](notebooks/source_population_model.ipynb)\n",
    "* [Continuous wavelet transform on gamma-ray images](notebooks/cwt.ipynb)\n",
    "\n",
    "### Work in progress\n",
    "\n",
    "The following notebooks are work in progress or broken.\n",
    "\n",
    "Please help make these better, or write new, better ones!\n",
    "\n",
    "We suggest you start here to get a very quick introduction to Gammapy (not written yet, don't look now):[First steps with Gammapy](notebooks/first_steps.ipynb) (First steps with Gammapy)\n",
    "\n",
    "* TODO: [Cube analysis with Gammapy](notebooks/cube_analysis.ipynb) (H.E.S.S. data example)\n",
    "* TODO: [Time analysis with Gammapy](notebooks/time_analysis.ipynb) (H.E.S.S. data example)\n",
    "* TODO: joint Fermi-IACT analysis with Gammpy\n",
    "* TODO: simulate Fermi and CTA sky with Gammapy\n",
    "\n",
    "* [notebooks/source_catalogs.ipynb](notebooks/source_catalogs.ipynb) : Working with gamma-ray source catalogs\n",
    "* [notebooks/diffuse_model_computation.ipynb](notebooks/diffuse_model_computation.ipynb) : Diffuse model computation\n",
    "* [notebooks/fermi_vela_model.ipynb](notebooks/fermi_vela_model.ipynb) : Fermi Vela model\n",
    "* [Simulating and analysing sources and diffuse emission](notebooks/source_diffuse_estimation.ipynb)"
   ]
  },
  {
   "cell_type": "code",
   "execution_count": null,
   "metadata": {
    "collapsed": true
   },
   "outputs": [],
   "source": []
  }
 ],
 "metadata": {
  "kernelspec": {
   "display_name": "Python 3",
   "language": "python",
   "name": "python3"
  },
  "language_info": {
   "codemirror_mode": {
    "name": "ipython",
    "version": 3
   },
   "file_extension": ".py",
   "mimetype": "text/x-python",
   "name": "python",
   "nbconvert_exporter": "python",
   "pygments_lexer": "ipython3",
   "version": "3.5.2"
  }
 },
 "nbformat": 4,
 "nbformat_minor": 0
}
