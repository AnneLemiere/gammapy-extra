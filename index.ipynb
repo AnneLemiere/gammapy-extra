{
 "cells": [
  {
   "cell_type": "markdown",
   "metadata": {},
   "source": [
    "<img src=\"logo/gammapy_banner.png\" style=\"width: 700px;\">"
   ]
  },
  {
   "cell_type": "markdown",
   "metadata": {},
   "source": [
    "# Gammapy IPython notebooks"
   ]
  },
  {
   "cell_type": "markdown",
   "metadata": {},
   "source": [
    "## What is this?"
   ]
  },
  {
   "cell_type": "markdown",
   "metadata": {},
   "source": [
    "This directory contains [Jupyter notebooks](http://jupyter.org/) (a.k.a. [IPython notebooks](http://ipython.org/notebook.html) until recently) that show examples what can be done with [Gammapy](http://gammapy.org).\n",
    "\n",
    "This complements the [Gammapy Sphinx-based documentation](https://docs.gammapy.org).\n",
    "\n",
    "A [static HTML version of these notebooks](http://nbviewer.ipython.org/github/gammapy/gammapy-extra/tree/master/notebooks/) (i.e. code can't be executed) is available via the online [nbviewer](http://nbviewer.ipython.org/).\n",
    "\n",
    "If you want to try out Gammapy quickly you should install IPython and Gammapy and then get the [gammapy-extra](https://github.com/gammapy/gammapy-extra) repo (either via git or as a zip file) and then go to the `notebooks` folder in a terminal and type:\n",
    "\n",
    "    $ jupyter notebook\n",
    "\n",
    "or alternatively:\n",
    "\n",
    "    $ ipython notebook"
   ]
  },
  {
   "cell_type": "markdown",
   "metadata": {},
   "source": [
    "## Notebooks\n",
    "\n",
    "The following notebooks are good placed to get started with Gammapy and gamma-ray data analysis.\n",
    "\n",
    "* [First steps with Gammapy](notebooks/first_steps.ipynb) (Fermi-LAT data example)\n",
    "* [IACT DL3 data with Gammapy](notebooks/data_iact.ipynb) (H.E.S.S. data example)\n",
    "* [Image analysis with Gammapy](notebooks/image_analysis.ipynb) (H.E.S.S. data example)\n",
    "* [Spectral analysis with Gammapy](notebooks/spectrum_analysis.ipynb) (H.E.S.S. data example)\n",
    "* [Cube analysis with Gammapy](notebooks/cube_analysis.ipynb) (H.E.S.S. data example)\n",
    "* [Time analysis with Gammapy](notebooks/time_analysis.ipynb) (H.E.S.S. data example)\n",
    "* [Source detection with Gammapy](notebooks/detect_ts.ipynb) (Fermi-LAT data example)\n",
    "* TODO: joint Fermi-IACT analysis with Gammpy\n",
    "* TODO: simulate Fermi and CTA sky with Gammapy"
   ]
  },
  {
   "cell_type": "markdown",
   "metadata": {},
   "source": [
    "## Work in progress\n",
    "\n",
    "The following notebooks are work in progress and probably broken.\n",
    "\n",
    "Please help make these better, or write new, better ones!\n",
    "\n",
    "Other tutorials:\n",
    "\n",
    "* [notebooks/cwt.ipynb](notebooks/cwt.ipynb) : Continuous wavelet transform on gamma-ray images\n",
    "* [notebooks/source_catalogs.ipynb](notebooks/source_catalogs.ipynb) : Working with gamma-ray source catalogs\n",
    "* [notebooks/diffuse_model_computation.ipynb](notebooks/diffuse_model_computation.ipynb) : Diffuse model computation\n",
    "* [notebooks/fermi_vela_model.ipynb](notebooks/fermi_vela_model.ipynb) : Fermi Vela model\n",
    "* [notebooks/plot_results.ipynb](notebooks/plot_results.ipynb) : Plot results for iterative background estimation\n",
    "* [notebooks/source_diffuse_estimation.ipynb](notebooks/source_diffuse_estimation.ipynb) : Source and diffuse emission estimation\n",
    "* [notebooks/source_population_model.ipynb](notebooks/source_population_model.ipynb) : Galactic source population model"
   ]
  },
  {
   "cell_type": "code",
   "execution_count": null,
   "metadata": {
    "collapsed": true
   },
   "outputs": [],
   "source": []
  }
 ],
 "metadata": {
  "kernelspec": {
   "display_name": "Python 3",
   "language": "python",
   "name": "python3"
  },
  "language_info": {
   "codemirror_mode": {
    "name": "ipython",
    "version": 3
   },
   "file_extension": ".py",
   "mimetype": "text/x-python",
   "name": "python",
   "nbconvert_exporter": "python",
   "pygments_lexer": "ipython3",
   "version": "3.5.2"
  }
 },
 "nbformat": 4,
 "nbformat_minor": 0
}
