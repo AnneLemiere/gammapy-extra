{
 "cells": [
  {
   "cell_type": "markdown",
   "metadata": {},
   "source": [
    "<img src=\"logo/gammapy_banner.png\" style=\"width: 500px;\">\n",
    "\n",
    "# Gammapy tutorial notebooks\n",
    "\n",
    "Gammapy tutorial notebook index is now in the [Gammapy documentation website](http://docs.gammapy.org/dev/tutorials.html).\n",
    "\n",
    "# Binder\n",
    "\n",
    "You may also execute the last version of the tutorial notebooks on-line accessing the [Gammapy Binder](http://mybinder.org/repo/gammapy/gammapy-extra) space.\n",
    "\n",
    "\n",
    "[![Binder](https://mybinder.org/badge.svg)](http://mybinder.org/repo/gammapy/gammapy-extra)\n"
   ]
  }
 ],
 "metadata": {
  "kernelspec": {
   "display_name": "Python [default]",
   "language": "python",
   "name": "python2"
  },
  "language_info": {
   "codemirror_mode": {
    "name": "ipython",
    "version": 2
   },
   "file_extension": ".py",
   "mimetype": "text/x-python",
   "name": "python",
   "nbconvert_exporter": "python",
   "pygments_lexer": "ipython2",
   "version": "2.7.13"
  },
  "toc": {
   "colors": {
    "hover_highlight": "#DAA520",
    "navigate_num": "#000000",
    "navigate_text": "#333333",
    "running_highlight": "#FF0000",
    "selected_highlight": "#FFD700",
    "sidebar_border": "#EEEEEE",
    "wrapper_background": "#FFFFFF"
   },
   "moveMenuLeft": true,
   "nav_menu": {
    "height": "51px",
    "width": "253px"
   },
   "navigate_menu": true,
   "number_sections": false,
   "sideBar": true,
   "threshold": 4,
   "toc_cell": false,
   "toc_section_display": "block",
   "toc_window_display": false,
   "widenNotebook": false
  }
 },
 "nbformat": 4,
 "nbformat_minor": 1
}
